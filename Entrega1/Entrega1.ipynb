{
 "cells": [
  {
   "cell_type": "markdown",
   "metadata": {},
   "source": [
    "1.1 Importar librerias"
   ]
  },
  {
   "cell_type": "code",
   "execution_count": 139,
   "metadata": {},
   "outputs": [
    {
     "name": "stdout",
     "output_type": "stream",
     "text": [
      "Requirement already satisfied: seaborn in c:\\users\\sebog\\anaconda3\\lib\\site-packages (0.13.2)\n",
      "Requirement already satisfied: numpy!=1.24.0,>=1.20 in c:\\users\\sebog\\anaconda3\\lib\\site-packages (from seaborn) (1.26.4)\n",
      "Requirement already satisfied: pandas>=1.2 in c:\\users\\sebog\\anaconda3\\lib\\site-packages (from seaborn) (2.2.2)\n",
      "Requirement already satisfied: matplotlib!=3.6.1,>=3.4 in c:\\users\\sebog\\anaconda3\\lib\\site-packages (from seaborn) (3.9.2)\n",
      "Requirement already satisfied: contourpy>=1.0.1 in c:\\users\\sebog\\anaconda3\\lib\\site-packages (from matplotlib!=3.6.1,>=3.4->seaborn) (1.2.0)\n",
      "Requirement already satisfied: cycler>=0.10 in c:\\users\\sebog\\anaconda3\\lib\\site-packages (from matplotlib!=3.6.1,>=3.4->seaborn) (0.11.0)\n",
      "Requirement already satisfied: fonttools>=4.22.0 in c:\\users\\sebog\\anaconda3\\lib\\site-packages (from matplotlib!=3.6.1,>=3.4->seaborn) (4.51.0)\n",
      "Requirement already satisfied: kiwisolver>=1.3.1 in c:\\users\\sebog\\anaconda3\\lib\\site-packages (from matplotlib!=3.6.1,>=3.4->seaborn) (1.4.4)\n",
      "Requirement already satisfied: packaging>=20.0 in c:\\users\\sebog\\anaconda3\\lib\\site-packages (from matplotlib!=3.6.1,>=3.4->seaborn) (24.1)\n",
      "Requirement already satisfied: pillow>=8 in c:\\users\\sebog\\anaconda3\\lib\\site-packages (from matplotlib!=3.6.1,>=3.4->seaborn) (10.4.0)\n",
      "Requirement already satisfied: pyparsing>=2.3.1 in c:\\users\\sebog\\anaconda3\\lib\\site-packages (from matplotlib!=3.6.1,>=3.4->seaborn) (3.1.2)\n",
      "Requirement already satisfied: python-dateutil>=2.7 in c:\\users\\sebog\\anaconda3\\lib\\site-packages (from matplotlib!=3.6.1,>=3.4->seaborn) (2.9.0.post0)\n",
      "Requirement already satisfied: pytz>=2020.1 in c:\\users\\sebog\\anaconda3\\lib\\site-packages (from pandas>=1.2->seaborn) (2024.1)\n",
      "Requirement already satisfied: tzdata>=2022.7 in c:\\users\\sebog\\anaconda3\\lib\\site-packages (from pandas>=1.2->seaborn) (2023.3)\n",
      "Requirement already satisfied: six>=1.5 in c:\\users\\sebog\\anaconda3\\lib\\site-packages (from python-dateutil>=2.7->matplotlib!=3.6.1,>=3.4->seaborn) (1.16.0)\n",
      "Note: you may need to restart the kernel to use updated packages.\n"
     ]
    }
   ],
   "source": [
    "%pip install seaborn\n",
    "\n"
   ]
  },
  {
   "cell_type": "code",
   "execution_count": 140,
   "metadata": {},
   "outputs": [
    {
     "name": "stdout",
     "output_type": "stream",
     "text": [
      "Requirement already satisfied: nltk in c:\\users\\sebog\\anaconda3\\lib\\site-packages (3.9.1)\n",
      "Requirement already satisfied: click in c:\\users\\sebog\\anaconda3\\lib\\site-packages (from nltk) (8.1.7)\n",
      "Requirement already satisfied: joblib in c:\\users\\sebog\\anaconda3\\lib\\site-packages (from nltk) (1.4.2)\n",
      "Requirement already satisfied: regex>=2021.8.3 in c:\\users\\sebog\\anaconda3\\lib\\site-packages (from nltk) (2024.9.11)\n",
      "Requirement already satisfied: tqdm in c:\\users\\sebog\\anaconda3\\lib\\site-packages (from nltk) (4.66.5)\n",
      "Requirement already satisfied: colorama in c:\\users\\sebog\\anaconda3\\lib\\site-packages (from click->nltk) (0.4.6)\n",
      "Note: you may need to restart the kernel to use updated packages.\n"
     ]
    }
   ],
   "source": [
    "%pip install nltk\n"
   ]
  },
  {
   "cell_type": "code",
   "execution_count": 141,
   "metadata": {},
   "outputs": [
    {
     "name": "stdout",
     "output_type": "stream",
     "text": [
      "Requirement already satisfied: scikit-learn in c:\\users\\sebog\\anaconda3\\lib\\site-packages (1.5.1)\n",
      "Requirement already satisfied: numpy>=1.19.5 in c:\\users\\sebog\\anaconda3\\lib\\site-packages (from scikit-learn) (1.26.4)\n",
      "Requirement already satisfied: scipy>=1.6.0 in c:\\users\\sebog\\anaconda3\\lib\\site-packages (from scikit-learn) (1.13.1)\n",
      "Requirement already satisfied: joblib>=1.2.0 in c:\\users\\sebog\\anaconda3\\lib\\site-packages (from scikit-learn) (1.4.2)\n",
      "Requirement already satisfied: threadpoolctl>=3.1.0 in c:\\users\\sebog\\anaconda3\\lib\\site-packages (from scikit-learn) (3.5.0)\n",
      "Note: you may need to restart the kernel to use updated packages.\n"
     ]
    }
   ],
   "source": [
    "%pip install scikit-learn\n"
   ]
  },
  {
   "cell_type": "code",
   "execution_count": 142,
   "metadata": {},
   "outputs": [
    {
     "name": "stdout",
     "output_type": "stream",
     "text": [
      "Requirement already satisfied: spacy in c:\\users\\sebog\\anaconda3\\lib\\site-packages (3.8.4)\n",
      "Requirement already satisfied: spacy-legacy<3.1.0,>=3.0.11 in c:\\users\\sebog\\anaconda3\\lib\\site-packages (from spacy) (3.0.12)\n",
      "Requirement already satisfied: spacy-loggers<2.0.0,>=1.0.0 in c:\\users\\sebog\\anaconda3\\lib\\site-packages (from spacy) (1.0.5)\n",
      "Requirement already satisfied: murmurhash<1.1.0,>=0.28.0 in c:\\users\\sebog\\anaconda3\\lib\\site-packages (from spacy) (1.0.12)\n",
      "Requirement already satisfied: cymem<2.1.0,>=2.0.2 in c:\\users\\sebog\\anaconda3\\lib\\site-packages (from spacy) (2.0.11)\n",
      "Requirement already satisfied: preshed<3.1.0,>=3.0.2 in c:\\users\\sebog\\anaconda3\\lib\\site-packages (from spacy) (3.0.9)\n",
      "Requirement already satisfied: thinc<8.4.0,>=8.3.4 in c:\\users\\sebog\\anaconda3\\lib\\site-packages (from spacy) (8.3.4)\n",
      "Requirement already satisfied: wasabi<1.2.0,>=0.9.1 in c:\\users\\sebog\\anaconda3\\lib\\site-packages (from spacy) (1.1.3)\n",
      "Requirement already satisfied: srsly<3.0.0,>=2.4.3 in c:\\users\\sebog\\anaconda3\\lib\\site-packages (from spacy) (2.5.1)\n",
      "Requirement already satisfied: catalogue<2.1.0,>=2.0.6 in c:\\users\\sebog\\anaconda3\\lib\\site-packages (from spacy) (2.0.10)\n",
      "Requirement already satisfied: weasel<0.5.0,>=0.1.0 in c:\\users\\sebog\\anaconda3\\lib\\site-packages (from spacy) (0.4.1)\n",
      "Requirement already satisfied: typer<1.0.0,>=0.3.0 in c:\\users\\sebog\\anaconda3\\lib\\site-packages (from spacy) (0.9.0)\n",
      "Requirement already satisfied: tqdm<5.0.0,>=4.38.0 in c:\\users\\sebog\\anaconda3\\lib\\site-packages (from spacy) (4.66.5)\n",
      "Requirement already satisfied: numpy>=1.19.0 in c:\\users\\sebog\\anaconda3\\lib\\site-packages (from spacy) (1.26.4)\n",
      "Requirement already satisfied: requests<3.0.0,>=2.13.0 in c:\\users\\sebog\\anaconda3\\lib\\site-packages (from spacy) (2.32.3)\n",
      "Requirement already satisfied: pydantic!=1.8,!=1.8.1,<3.0.0,>=1.7.4 in c:\\users\\sebog\\anaconda3\\lib\\site-packages (from spacy) (2.8.2)\n",
      "Requirement already satisfied: jinja2 in c:\\users\\sebog\\anaconda3\\lib\\site-packages (from spacy) (3.1.4)\n",
      "Requirement already satisfied: setuptools in c:\\users\\sebog\\anaconda3\\lib\\site-packages (from spacy) (75.1.0)\n",
      "Requirement already satisfied: packaging>=20.0 in c:\\users\\sebog\\anaconda3\\lib\\site-packages (from spacy) (24.1)\n",
      "Requirement already satisfied: langcodes<4.0.0,>=3.2.0 in c:\\users\\sebog\\anaconda3\\lib\\site-packages (from spacy) (3.5.0)\n",
      "Requirement already satisfied: language-data>=1.2 in c:\\users\\sebog\\anaconda3\\lib\\site-packages (from langcodes<4.0.0,>=3.2.0->spacy) (1.3.0)\n",
      "Requirement already satisfied: annotated-types>=0.4.0 in c:\\users\\sebog\\anaconda3\\lib\\site-packages (from pydantic!=1.8,!=1.8.1,<3.0.0,>=1.7.4->spacy) (0.6.0)\n",
      "Requirement already satisfied: pydantic-core==2.20.1 in c:\\users\\sebog\\anaconda3\\lib\\site-packages (from pydantic!=1.8,!=1.8.1,<3.0.0,>=1.7.4->spacy) (2.20.1)\n",
      "Requirement already satisfied: typing-extensions>=4.6.1 in c:\\users\\sebog\\anaconda3\\lib\\site-packages (from pydantic!=1.8,!=1.8.1,<3.0.0,>=1.7.4->spacy) (4.11.0)\n",
      "Requirement already satisfied: charset-normalizer<4,>=2 in c:\\users\\sebog\\anaconda3\\lib\\site-packages (from requests<3.0.0,>=2.13.0->spacy) (3.3.2)\n",
      "Requirement already satisfied: idna<4,>=2.5 in c:\\users\\sebog\\anaconda3\\lib\\site-packages (from requests<3.0.0,>=2.13.0->spacy) (3.7)\n",
      "Requirement already satisfied: urllib3<3,>=1.21.1 in c:\\users\\sebog\\anaconda3\\lib\\site-packages (from requests<3.0.0,>=2.13.0->spacy) (2.2.3)\n",
      "Requirement already satisfied: certifi>=2017.4.17 in c:\\users\\sebog\\anaconda3\\lib\\site-packages (from requests<3.0.0,>=2.13.0->spacy) (2024.12.14)\n",
      "Requirement already satisfied: blis<1.3.0,>=1.2.0 in c:\\users\\sebog\\anaconda3\\lib\\site-packages (from thinc<8.4.0,>=8.3.4->spacy) (1.2.0)\n",
      "Requirement already satisfied: confection<1.0.0,>=0.0.1 in c:\\users\\sebog\\anaconda3\\lib\\site-packages (from thinc<8.4.0,>=8.3.4->spacy) (0.1.5)\n",
      "Requirement already satisfied: colorama in c:\\users\\sebog\\anaconda3\\lib\\site-packages (from tqdm<5.0.0,>=4.38.0->spacy) (0.4.6)\n",
      "Requirement already satisfied: click<9.0.0,>=7.1.1 in c:\\users\\sebog\\anaconda3\\lib\\site-packages (from typer<1.0.0,>=0.3.0->spacy) (8.1.7)\n",
      "Requirement already satisfied: cloudpathlib<1.0.0,>=0.7.0 in c:\\users\\sebog\\anaconda3\\lib\\site-packages (from weasel<0.5.0,>=0.1.0->spacy) (0.20.0)\n",
      "Requirement already satisfied: smart-open<8.0.0,>=5.2.1 in c:\\users\\sebog\\anaconda3\\lib\\site-packages (from weasel<0.5.0,>=0.1.0->spacy) (5.2.1)\n",
      "Requirement already satisfied: MarkupSafe>=2.0 in c:\\users\\sebog\\anaconda3\\lib\\site-packages (from jinja2->spacy) (2.1.3)\n",
      "Requirement already satisfied: marisa-trie>=1.1.0 in c:\\users\\sebog\\anaconda3\\lib\\site-packages (from language-data>=1.2->langcodes<4.0.0,>=3.2.0->spacy) (1.2.1)\n",
      "Note: you may need to restart the kernel to use updated packages.\n"
     ]
    }
   ],
   "source": [
    "%pip install spacy\n"
   ]
  },
  {
   "cell_type": "code",
   "execution_count": 143,
   "metadata": {},
   "outputs": [
    {
     "data": {
      "text/plain": [
       "{'spacy_version': '3.8.4',\n",
       " 'location': 'c:\\\\Users\\\\SebOg\\\\anaconda3\\\\Lib\\\\site-packages\\\\spacy',\n",
       " 'platform': 'Windows-11-10.0.22631-SP0',\n",
       " 'python_version': '3.12.7',\n",
       " 'pipelines': {'es_core_news_sm': '3.8.0'}}"
      ]
     },
     "execution_count": 143,
     "metadata": {},
     "output_type": "execute_result"
    }
   ],
   "source": [
    "import spacy\n",
    "spacy.info()\n"
   ]
  },
  {
   "cell_type": "code",
   "execution_count": 144,
   "metadata": {},
   "outputs": [
    {
     "name": "stdout",
     "output_type": "stream",
     "text": [
      "Collecting es-core-news-sm==3.8.0\n",
      "  Downloading https://github.com/explosion/spacy-models/releases/download/es_core_news_sm-3.8.0/es_core_news_sm-3.8.0-py3-none-any.whl (12.9 MB)\n",
      "     ---------------------------------------- 0.0/12.9 MB ? eta -:--:--\n",
      "     ----- ---------------------------------- 1.8/12.9 MB 10.0 MB/s eta 0:00:02\n",
      "     ----------------- ---------------------- 5.5/12.9 MB 14.0 MB/s eta 0:00:01\n",
      "     ------------------------ --------------- 7.9/12.9 MB 13.5 MB/s eta 0:00:01\n",
      "     ------------------------------ -------- 10.2/12.9 MB 12.5 MB/s eta 0:00:01\n",
      "     --------------------------------------  12.6/12.9 MB 12.3 MB/s eta 0:00:01\n",
      "     --------------------------------------- 12.9/12.9 MB 11.7 MB/s eta 0:00:00\n",
      "\u001b[38;5;2m✔ Download and installation successful\u001b[0m\n",
      "You can now load the package via spacy.load('es_core_news_sm')\n"
     ]
    }
   ],
   "source": [
    "!python -m spacy download es_core_news_sm\n"
   ]
  },
  {
   "cell_type": "code",
   "execution_count": 145,
   "metadata": {},
   "outputs": [
    {
     "name": "stdout",
     "output_type": "stream",
     "text": [
      "Modelo cargado correctamente\n"
     ]
    }
   ],
   "source": [
    "import spacy\n",
    "nlp = spacy.load(\"es_core_news_sm\")\n",
    "print(\"Modelo cargado correctamente\")\n"
   ]
  },
  {
   "cell_type": "code",
   "execution_count": 146,
   "metadata": {},
   "outputs": [],
   "source": [
    "import pandas as pd\n",
    "import matplotlib.pyplot as plt\n",
    "import seaborn as sns\n",
    "import re\n"
   ]
  },
  {
   "cell_type": "markdown",
   "metadata": {},
   "source": [
    "**1.2 Cargar el data set**"
   ]
  },
  {
   "cell_type": "markdown",
   "metadata": {},
   "source": [
    "*1.2.1 Data set de entrenamiento*\n",
    "\n",
    "El conocer la estructura de los datos de entrenamiento permite ver que estos están etiquetados ya que contienen una columna llamada 'Label', que indica si la noticia es real o falsa."
   ]
  },
  {
   "cell_type": "code",
   "execution_count": 147,
   "metadata": {},
   "outputs": [
    {
     "data": {
      "text/html": [
       "<div>\n",
       "<style scoped>\n",
       "    .dataframe tbody tr th:only-of-type {\n",
       "        vertical-align: middle;\n",
       "    }\n",
       "\n",
       "    .dataframe tbody tr th {\n",
       "        vertical-align: top;\n",
       "    }\n",
       "\n",
       "    .dataframe thead th {\n",
       "        text-align: right;\n",
       "    }\n",
       "</style>\n",
       "<table border=\"1\" class=\"dataframe\">\n",
       "  <thead>\n",
       "    <tr style=\"text-align: right;\">\n",
       "      <th></th>\n",
       "      <th>ID</th>\n",
       "      <th>Label</th>\n",
       "      <th>Titulo</th>\n",
       "      <th>Descripcion</th>\n",
       "      <th>Fecha</th>\n",
       "    </tr>\n",
       "  </thead>\n",
       "  <tbody>\n",
       "    <tr>\n",
       "      <th>0</th>\n",
       "      <td>ID</td>\n",
       "      <td>1</td>\n",
       "      <td>'The Guardian' va con Sánchez: 'Europa necesit...</td>\n",
       "      <td>El diario británico publicó este pasado jueves...</td>\n",
       "      <td>02/06/2023</td>\n",
       "    </tr>\n",
       "    <tr>\n",
       "      <th>1</th>\n",
       "      <td>ID</td>\n",
       "      <td>0</td>\n",
       "      <td>REVELAN QUE EL GOBIERNO NEGOCIO LA LIBERACIÓN ...</td>\n",
       "      <td>REVELAN QUE EL GOBIERNO NEGOCIO LA LIBERACIÓN ...</td>\n",
       "      <td>01/10/2023</td>\n",
       "    </tr>\n",
       "    <tr>\n",
       "      <th>2</th>\n",
       "      <td>ID</td>\n",
       "      <td>1</td>\n",
       "      <td>El 'Ahora o nunca' de Joan Fuster sobre el est...</td>\n",
       "      <td>El valencianismo convoca en Castelló su fiesta...</td>\n",
       "      <td>25/04/2022</td>\n",
       "    </tr>\n",
       "    <tr>\n",
       "      <th>3</th>\n",
       "      <td>ID</td>\n",
       "      <td>1</td>\n",
       "      <td>Iglesias alienta a Yolanda Díaz, ERC y EH Bild...</td>\n",
       "      <td>En política, igual que hay que negociar con lo...</td>\n",
       "      <td>03/01/2022</td>\n",
       "    </tr>\n",
       "    <tr>\n",
       "      <th>4</th>\n",
       "      <td>ID</td>\n",
       "      <td>0</td>\n",
       "      <td>Puigdemont: 'No sería ninguna tragedia una rep...</td>\n",
       "      <td>En una entrevista en El Punt Avui, el líder de...</td>\n",
       "      <td>09/03/2018</td>\n",
       "    </tr>\n",
       "  </tbody>\n",
       "</table>\n",
       "</div>"
      ],
      "text/plain": [
       "   ID  Label                                             Titulo  \\\n",
       "0  ID      1  'The Guardian' va con Sánchez: 'Europa necesit...   \n",
       "1  ID      0  REVELAN QUE EL GOBIERNO NEGOCIO LA LIBERACIÓN ...   \n",
       "2  ID      1  El 'Ahora o nunca' de Joan Fuster sobre el est...   \n",
       "3  ID      1  Iglesias alienta a Yolanda Díaz, ERC y EH Bild...   \n",
       "4  ID      0  Puigdemont: 'No sería ninguna tragedia una rep...   \n",
       "\n",
       "                                         Descripcion       Fecha  \n",
       "0  El diario británico publicó este pasado jueves...  02/06/2023  \n",
       "1  REVELAN QUE EL GOBIERNO NEGOCIO LA LIBERACIÓN ...  01/10/2023  \n",
       "2  El valencianismo convoca en Castelló su fiesta...  25/04/2022  \n",
       "3  En política, igual que hay que negociar con lo...  03/01/2022  \n",
       "4  En una entrevista en El Punt Avui, el líder de...  09/03/2018  "
      ]
     },
     "execution_count": 147,
     "metadata": {},
     "output_type": "execute_result"
    }
   ],
   "source": [
    "df_entrenamiento = pd.read_csv(\"fake_news_spanish.csv\", delimiter=';')\n",
    "df_entrenamiento.head()\n",
    "\n"
   ]
  },
  {
   "cell_type": "markdown",
   "metadata": {},
   "source": [
    "*1.2.2 Data set de prueba*\n",
    "\n",
    "El conocer la estructura de los datos permite saber de forma exacta los datos de prueba, para de esta forma poder compararlo con los datos de entrenamiento los cual están etiquetados y así poder entender cual es la variable objetivo para el modelo."
   ]
  },
  {
   "cell_type": "code",
   "execution_count": 148,
   "metadata": {},
   "outputs": [
    {
     "data": {
      "text/html": [
       "<div>\n",
       "<style scoped>\n",
       "    .dataframe tbody tr th:only-of-type {\n",
       "        vertical-align: middle;\n",
       "    }\n",
       "\n",
       "    .dataframe tbody tr th {\n",
       "        vertical-align: top;\n",
       "    }\n",
       "\n",
       "    .dataframe thead th {\n",
       "        text-align: right;\n",
       "    }\n",
       "</style>\n",
       "<table border=\"1\" class=\"dataframe\">\n",
       "  <thead>\n",
       "    <tr style=\"text-align: right;\">\n",
       "      <th></th>\n",
       "      <th>ID</th>\n",
       "      <th>Titulo</th>\n",
       "      <th>Descripcion</th>\n",
       "      <th>Fecha</th>\n",
       "    </tr>\n",
       "  </thead>\n",
       "  <tbody>\n",
       "    <tr>\n",
       "      <th>0</th>\n",
       "      <td>ID</td>\n",
       "      <td>La mesa del congreso censura un encuentro inte...</td>\n",
       "      <td>Portavoces de Ciudadanos, PNV, UPN, PSOE, Unid...</td>\n",
       "      <td>30/10/2018</td>\n",
       "    </tr>\n",
       "    <tr>\n",
       "      <th>1</th>\n",
       "      <td>ID</td>\n",
       "      <td>La brecha digital que dificulta el acceso de a...</td>\n",
       "      <td>No es la primera vez que los ciudadanos vulner...</td>\n",
       "      <td>15/03/2023</td>\n",
       "    </tr>\n",
       "    <tr>\n",
       "      <th>2</th>\n",
       "      <td>ID</td>\n",
       "      <td>PP apremia al EQUO a presentar una propuesta d...</td>\n",
       "      <td>El partido morado reprocha que los socialistas...</td>\n",
       "      <td>01/07/2019</td>\n",
       "    </tr>\n",
       "    <tr>\n",
       "      <th>3</th>\n",
       "      <td>ID</td>\n",
       "      <td>De soberano garante de la democracia a rey cor...</td>\n",
       "      <td>La renuncia de Felipe VI a su herencia, proced...</td>\n",
       "      <td>16/03/2020</td>\n",
       "    </tr>\n",
       "    <tr>\n",
       "      <th>4</th>\n",
       "      <td>ID</td>\n",
       "      <td>El Gobierno aprobará este martes detraer los b...</td>\n",
       "      <td>El Ejecutivo también prorrogará la suspensión ...</td>\n",
       "      <td>13/09/2021</td>\n",
       "    </tr>\n",
       "  </tbody>\n",
       "</table>\n",
       "</div>"
      ],
      "text/plain": [
       "   ID                                             Titulo  \\\n",
       "0  ID  La mesa del congreso censura un encuentro inte...   \n",
       "1  ID  La brecha digital que dificulta el acceso de a...   \n",
       "2  ID  PP apremia al EQUO a presentar una propuesta d...   \n",
       "3  ID  De soberano garante de la democracia a rey cor...   \n",
       "4  ID  El Gobierno aprobará este martes detraer los b...   \n",
       "\n",
       "                                         Descripcion       Fecha  \n",
       "0  Portavoces de Ciudadanos, PNV, UPN, PSOE, Unid...  30/10/2018  \n",
       "1  No es la primera vez que los ciudadanos vulner...  15/03/2023  \n",
       "2  El partido morado reprocha que los socialistas...  01/07/2019  \n",
       "3  La renuncia de Felipe VI a su herencia, proced...  16/03/2020  \n",
       "4  El Ejecutivo también prorrogará la suspensión ...  13/09/2021  "
      ]
     },
     "execution_count": 148,
     "metadata": {},
     "output_type": "execute_result"
    }
   ],
   "source": [
    "df_prueba = pd.read_csv(\"fake_news_test.csv\", delimiter=';')\n",
    "df_prueba.head()"
   ]
  },
  {
   "cell_type": "markdown",
   "metadata": {},
   "source": [
    "**2. Entendimiento de los datos**"
   ]
  },
  {
   "cell_type": "markdown",
   "metadata": {},
   "source": [
    "**2.1 Estadísticas Descriptivas de los datos** "
   ]
  },
  {
   "cell_type": "markdown",
   "metadata": {},
   "source": [
    "*2.1.1 Estadísticas Descriptivas de los datos de entrenamiento*\n",
    "\n",
    "Estos datos estadísticos permite conocer más a fondo los datos de entrenamiento que se usa para la construcción del modelo. En este caso, con estas estadísticas se sabe que hay un total de 57.063 noticias en los datos, de los cuales el 58.1% de estas noticias están etiquetadas como reales (1), lo que indica un ligero desequilibrio en las clases, pues hay más noticas reales que falsas. Adeemás, estos datos tiene una desviación estandar de 0.493 que muestra que los datos están bastante dispersos entre 0 y 1, lo qu es esperable en una variable binaria. Así mismo, se confirma que el mínimo y el máximo son 0 y 1 respectivamente, lo que indica que solo hay dos valores en esta columna 0 y 1 que es lo que se espera que ocurra. Por otra parte, se tiene el que 25% de los datos tienen un label igual a 0 lo que quiere decir que son noticias falsas. La medidana (50%) es 1, lo que significa que más de la motad de los datos son noticas reales y ocurre lo mismo con el 75% de los datos que tienen este mismo label.\n",
    "\n",
    "Debido a que hay más noticias reales que falsas, se puede generar un desbalance de clases y esto puede afectar a algunos modelos candidatos como la Regresión Logística, Random Forest o SVM, ya que podrían sesgarse hacia la clase mayoritaria. Para pdoer corregir este desbalance se pueden usar estrategias de balanceo como undersampling, oversmapling o ponderar las clases en el modelo. \n",
    "\n",
    "También, el confirmar que hay datos binarios quiere decir que solo se puede usar modelos de clasificación binaria como: Regresión Logística, Random Forest. SVM o Máquinas de Vectores de Soporte o Redes Neuronales. \n",
    "\n",
    "De la misma forma, el conocer estos datos permite determinar que una de las métricas importantes para el modelo es el de Precisión ya que permite minimizar falsos positivos es decir que se etiquete como falsa una noticia que es verdadera."
   ]
  },
  {
   "cell_type": "code",
   "execution_count": 149,
   "metadata": {},
   "outputs": [
    {
     "name": "stdout",
     "output_type": "stream",
     "text": [
      "              Label\n",
      "count  57063.000000\n",
      "mean       0.581077\n",
      "std        0.493387\n",
      "min        0.000000\n",
      "25%        0.000000\n",
      "50%        1.000000\n",
      "75%        1.000000\n",
      "max        1.000000\n"
     ]
    }
   ],
   "source": [
    "describe=df_entrenamiento.describe()\n",
    "print(describe)"
   ]
  },
  {
   "cell_type": "markdown",
   "metadata": {},
   "source": [
    "*2.1.2 Estadísticas Descriptivas de los datos de prueba*\n",
    "\n",
    "El conocer las estadísticas de los datos de prueba, permita conocer cuales son las variables más importante para el modelo. Utilizando este análisis se puede ver que se tiene una columna denominada ID que parece un identificador pero que no tiene valor para el modelo, por lo que no se debería tomar en cuenta a la hora de realizar el modelo. En la columna del título dice que hay 999 valores válidos y 997 títulos únicos, lo que sugiere que dos títulos están repetidos. Lo mismo ocurre con las descripcciones en las que hay 995 descripciones únicas, lo que sugiere que algunas noticias tienen descripciones repetidas. El concoer que hay títulos y descripciones repetídas podría afectar la efectividad del modelo, es por esto que se sugiere eliminar los que estén repetidos para que de esta forma no afecten el resultado final. Por último con la columna de las fechas, se muestra que hay 775 fechas únicas, lo que indica que algunas noticias comparten la misma fecha, sin embarho estas no afectan el contenido del  texto.\n"
   ]
  },
  {
   "cell_type": "code",
   "execution_count": 150,
   "metadata": {},
   "outputs": [
    {
     "name": "stdout",
     "output_type": "stream",
     "text": [
      "          ID                                             Titulo  \\\n",
      "count   1000                                                999   \n",
      "unique     1                                                997   \n",
      "top       ID  La Junta Electoral multa con 1.000 euros a 'AB...   \n",
      "freq    1000                                                  2   \n",
      "\n",
      "                                              Descripcion       Fecha  \n",
      "count                                                1000        1000  \n",
      "unique                                                995         755  \n",
      "top     La vicepresidenta ha asegurado que el Gobierno...  24/06/2019  \n",
      "freq                                                    2           5  \n"
     ]
    }
   ],
   "source": [
    "describe=df_prueba.describe()\n",
    "print(describe)"
   ]
  },
  {
   "cell_type": "markdown",
   "metadata": {},
   "source": [
    "**2.2 Conteo de las clases en Label de los Datos de Entrenamiento**\n",
    "\n",
    "Estos datos muestra la distribución de etiquetas en el conjunto de datos de entrenamiento, en estas se indica que hay 33.158 noticias clasificadas como reales y 23.905 como falsas. Lo que muestra un desbalance de clases, que si bien, no es un desbalance extremo, podría llegar a afectar los resultados del modelo y de esta forma que no logre identificar de forma correcta las noticias falsas. "
   ]
  },
  {
   "cell_type": "code",
   "execution_count": 151,
   "metadata": {},
   "outputs": [
    {
     "name": "stdout",
     "output_type": "stream",
     "text": [
      "Label\n",
      "1    33158\n",
      "0    23905\n",
      "Name: count, dtype: int64\n"
     ]
    }
   ],
   "source": [
    "label_count = df_entrenamiento['Label'].value_counts()\n",
    "print(label_count)"
   ]
  },
  {
   "cell_type": "markdown",
   "metadata": {},
   "source": [
    "**2.3 Variables numéricas y categóricas**\n"
   ]
  },
  {
   "cell_type": "markdown",
   "metadata": {},
   "source": [
    "*2.3.1-1 Variables numéricas para los datos de entrenamiento*\n",
    "\n",
    "El saber la longitud del título y la descripción puede ser relevate para el análisis. Pues un título más largo podría ser una señal de que un artículo es más detallado o contiene en el más contexto. Ya que se busca analizar noticias falsas, la longitud dedl título podría ayudar a diferenciar entre títulos \"informales\" es decir más cortos y títulos más detallados, los culaes podrían ser más caracteristicos de ciertos tipos de contenidos. \n",
    "\n",
    "De la misma forma, las descripciones más largas podrían ser más informativas y detalladas, mientras que las descripciones cortas podrían ser características de resúmenes o contenido más superficial. En el contexto de este ejemplo, las descripciones breves pueden estar asociadas con información o incluso engañosa"
   ]
  },
  {
   "cell_type": "code",
   "execution_count": 152,
   "metadata": {},
   "outputs": [],
   "source": [
    "df_entrenamiento['Fecha']=pd.to_datetime(df_entrenamiento['Fecha'], errors='coerce')\n",
    "df_entrenamiento['longitud_titulo'] = df_entrenamiento['Titulo'].apply(lambda x: len(str(x)))\n",
    "df_entrenamiento['longitud_descripcion'] = df_entrenamiento['Descripcion'].apply(lambda x: len(str(x)))\n"
   ]
  },
  {
   "cell_type": "markdown",
   "metadata": {},
   "source": [
    "*2.3.1-2 Variables numéricas para los datos de prueba*"
   ]
  },
  {
   "cell_type": "code",
   "execution_count": 153,
   "metadata": {},
   "outputs": [
    {
     "name": "stderr",
     "output_type": "stream",
     "text": [
      "C:\\Users\\SebOg\\AppData\\Local\\Temp\\ipykernel_4196\\4132102996.py:1: UserWarning: Parsing dates in %d/%m/%Y format when dayfirst=False (the default) was specified. Pass `dayfirst=True` or specify a format to silence this warning.\n",
      "  df_prueba['Fecha']=pd.to_datetime(df_prueba['Fecha'], errors='coerce')\n"
     ]
    }
   ],
   "source": [
    "df_prueba['Fecha']=pd.to_datetime(df_prueba['Fecha'], errors='coerce')\n",
    "df_prueba['longitud_titulo'] = df_prueba['Titulo'].apply(lambda x: len(str(x)))\n",
    "df_prueba['longitud_descripcion'] = df_prueba['Descripcion'].apply(lambda x: len(str(x)))\n"
   ]
  },
  {
   "cell_type": "markdown",
   "metadata": {},
   "source": [
    "*2.3.2-1 Separar las variables categóricas y numéricas pra los datos de entrenamiento*\n",
    "\n",
    "La clasificación de las variables en categóricas y numéricas permite determinar cuales son las más importantes para el modelo. Se clasifica como categóricas a las variables label, título y descripción. Estas variables son importantes pues, la variable de label se usa como variable objetivo (y) en la clasificación. Mientras que as variables de título y descripción se deben procesar con téctincas de vectorización (TF-IDF, CountVectorizer, Word Embeddings) para de esta forma convertirlas en representaciones numéricas antes de entrenar el modelo. \n",
    "\n",
    "Por otra parte, se determina como variables numéricas, a las variables de Longitud de Título, Longitud de Descripción y Fecha, sin embargo, esta última no es una variable numérica pero se puede convertir a una. De la misma forma, las longitudes de título y descripción se pueden normalizar o estandarizar para mejorar el rendimiento del modelo. "
   ]
  },
  {
   "cell_type": "code",
   "execution_count": 154,
   "metadata": {},
   "outputs": [],
   "source": [
    "categoricas = ['Label', 'Titulo', 'Descripcion']\n",
    "numericas = ['longitud_titulo', 'longitud_descripcion', 'Fecha']"
   ]
  },
  {
   "cell_type": "markdown",
   "metadata": {},
   "source": [
    "*2.3.1-2 Separar las variables categóricas y numéricas para los datos de prueba*\n",
    "\n",
    "Dado que para los datos de prueba no hay una columna Label, se sabe que las variables categóricas para estos son las variables de título y Descripción las cuales sirven para enviar al modelo y que este pueda determinar cuales son verdaderqas y cuales son falsas. \n",
    "\n",
    "Por otra parte, las variables numéricas al igual que los datos de entrenamiento las variables son las longitude sde título y descripción las cuales también se estandarizan y normalizan."
   ]
  },
  {
   "cell_type": "code",
   "execution_count": 155,
   "metadata": {},
   "outputs": [],
   "source": [
    "categoricas = ['Titulo', 'Descripcion']\n",
    "numericas = ['longitud_titulo', 'longitud_descripcion', 'Fecha']"
   ]
  },
  {
   "cell_type": "markdown",
   "metadata": {},
   "source": [
    "*2.3.3 Análisis de las variables categóricas*"
   ]
  },
  {
   "cell_type": "markdown",
   "metadata": {},
   "source": [
    "1.1 Label para los datos de entrenamiento\n",
    "\n",
    "Esta gráfica muestra lo anteriormente analizado en donde se muestra la distribución de la etiqueta Label, el cual muestra el pequeño desbalance que ocurre entre los datos etiquetados como falsos y verdaderos. Para el cual la mejor solución es evitar que el modelo se sesgue hacia la clase mayoritaria (1) realizando un balanceo de estas clases. "
   ]
  },
  {
   "cell_type": "code",
   "execution_count": 156,
   "metadata": {},
   "outputs": [
    {
     "data": {
      "image/png": "[encoded data removed]",
      "text/plain": [
       "<Figure size 600x400 with 1 Axes>"
      ]
     },
     "metadata": {},
     "output_type": "display_data"
    }
   ],
   "source": [
    "plt.figure(figsize=(6, 4))\n",
    "sns.countplot(x='Label', data=df_entrenamiento)\n",
    "plt.title('Distribución de las etiquetas (Label)')\n",
    "plt.show()\n",
    "\n"
   ]
  },
  {
   "cell_type": "markdown",
   "metadata": {},
   "source": [
    "*2.3.4 Análisis de las variables numéricas*"
   ]
  },
  {
   "cell_type": "markdown",
   "metadata": {},
   "source": [
    "1. Longitud del Título"
   ]
  },
  {
   "cell_type": "markdown",
   "metadata": {},
   "source": [
    "1.1 Longitud de Título para los datos de entrenamiento\n",
    "\n",
    "Esta gráfica es un boxplot que representa la distribución de la longitud de los títulos en los datos de entrenamiento. Esta gráfica muestra que el rango itercuartílico se tiene que la mayoría de los títulos tienen una longitus entre aproximadamente 80 y 120 caracteres, mientras que la mediana para estar cercana a 100 caracteres. Además, muestra que existen valores atípicos en ambos extremos, de parte de los cortos se tiene qye hay algunos títulos que tienen menos de 50 caracteres, por el otro lado, hay títulos que superan los 150-200 caracteres, con algunos casos extremos que superan los 250. Esto puede afectar al modelo pues si los títulos son muy cortos o largos generarían ruido en el modelo lo que podría afectar su precisión. Para poder manejar esto se podría hacer un filtrado de outliers usando el IQR y realizar la normalización de longitud para que el modelo no se sesgue por los títulos muy largos. La longitud del título es un factor clave en la clasificación, pues este permite analizar la correlación con la etiqueta Label para de esta forna determinar su relevancia. "
   ]
  },
  {
   "cell_type": "code",
   "execution_count": 157,
   "metadata": {},
   "outputs": [
    {
     "data": {
      "image/png": "[encoded data removed]",
      "text/plain": [
       "<Figure size 600x600 with 1 Axes>"
      ]
     },
     "metadata": {},
     "output_type": "display_data"
    }
   ],
   "source": [
    "plt.figure(figsize=(6,6))\n",
    "sns.boxplot(x=df_entrenamiento['longitud_titulo'])\n",
    "plt.title('Distribución de la longitud del título para los datos de entrenamiento')\n",
    "plt.show()\n"
   ]
  },
  {
   "cell_type": "markdown",
   "metadata": {},
   "source": [
    "1.2 Longitud de Título para los datos de Prueba\n",
    "\n",
    "Este boxplot represnta la distribución de la longitud de los títulos en el conjunto de prueba. Una de las partes más importantes de esta gráfica es que la medianaparece estar cerca de los 100 caracteres y la mayoría de los títulos tienen entre 80 y 120 caracteres. Existen algunos títulos muy cortos es decir que tienen menos de 40 caracteres y muy largos con más de 150 caracteres. Sin embargo, los valores extresmos no son tan prinunciados como en los datos de entrenamiento. "
   ]
  },
  {
   "cell_type": "code",
   "execution_count": 158,
   "metadata": {},
   "outputs": [
    {
     "data": {
      "image/png": "[encoded data removed]",
      "text/plain": [
       "<Figure size 600x600 with 1 Axes>"
      ]
     },
     "metadata": {},
     "output_type": "display_data"
    }
   ],
   "source": [
    "plt.figure(figsize=(6,6))\n",
    "sns.boxplot(x=df_prueba['longitud_titulo'])\n",
    "plt.title('Distribución de la longitud del título para los datos de prueba')\n",
    "plt.show()\n"
   ]
  },
  {
   "cell_type": "markdown",
   "metadata": {},
   "source": [
    "2. Longitud de la Descripción"
   ]
  },
  {
   "cell_type": "markdown",
   "metadata": {},
   "source": [
    "2.1 Longitud de la Descripción de los datos de Entrenamiento\n",
    "\n",
    "Este gráfico represneta la longitud de las descripciones en el conjunto de los datos de entrenamiento. En este se puede observar que la mayoría de las descripciones tienen longitudes relativamente bajas. Sin embargo, hay una gran cantidad de valores atípicos (outliers) con descripciones muy largas superando los 10.000 caracteres. La presencia de textos extremadamente largos podría afectar el procesamiento de texto y la eficiencia del modelo, para esto puede ser conveniente aplicar la normalización para reducir su impacto. La longitud de la descripción es una característica relevante, el modelo podría sesgarse hacia las noticias con descripciones largas. "
   ]
  },
  {
   "cell_type": "code",
   "execution_count": 159,
   "metadata": {},
   "outputs": [
    {
     "data": {
      "image/png": "[encoded data removed]",
      "text/plain": [
       "<Figure size 600x600 with 1 Axes>"
      ]
     },
     "metadata": {},
     "output_type": "display_data"
    }
   ],
   "source": [
    "plt.figure(figsize=(6,6))\n",
    "sns.boxplot(x=df_entrenamiento['longitud_descripcion'])\n",
    "plt.title('Distribución de la longitud de las descripciones de los datos de entrenamiento')\n",
    "plt.show()\n",
    "\n"
   ]
  },
  {
   "cell_type": "markdown",
   "metadata": {},
   "source": [
    "2.2 Longitud de la descripción de los datos de Prueba\n",
    "\n",
    "Comparando con la anterior gráfica se pueden observar varias diferencias claves. Primero es que la mayoría de las descripciones son mucho más cortas en comparación con el conjunto de entrenamiento, por lo que se observa un fuerte sesgo hacia longitudes pequeñas, con un rango bastante reducido. Aunque en los datos existen outliers, su magnitud es mucho menor en comparación con los datos de entrenamiento, esto se puede ver con que el valor máximo en el conjunto de prueba supera los 2500 caracteres, mientras que en el entrenamiento llegaba a más de 14.000 caracteres. Ahora bien, esto podría generar un impacto en el modelo, pues si se entrenó con descripciones mucho más largas que las de prueba, podría haber un desbalance en el aprendizaje y esto podría llevar a problemas de generalización, ya que las características de los textos son distintas en a,bos conjuntos. Para solucionar esyo se podría considerar truncar o normalizar las longitudes en el conjunto de entrenamiento para hacer coincidan más datos de prueba."
   ]
  },
  {
   "cell_type": "code",
   "execution_count": 160,
   "metadata": {},
   "outputs": [
    {
     "data": {
      "image/png": "[encoded data removed]",
      "text/plain": [
       "<Figure size 600x600 with 1 Axes>"
      ]
     },
     "metadata": {},
     "output_type": "display_data"
    }
   ],
   "source": [
    "plt.figure(figsize=(6,6))\n",
    "sns.boxplot(x=df_prueba['longitud_descripcion'])\n",
    "plt.title('Distribución de la longitud de las descripciones de los datos de prueba')\n",
    "plt.show()\n",
    "\n"
   ]
  },
  {
   "cell_type": "markdown",
   "metadata": {},
   "source": [
    "3. Fechas"
   ]
  },
  {
   "cell_type": "markdown",
   "metadata": {},
   "source": [
    "3.1 Fechas para los datos de Entrenamiento\n",
    "\n",
    "El gráfico de caja y bigotes muestra la distribución de los años en los datos de entrenamiento. Algunas de las observaciones claves se puede ver que los datos abarcan desde aproximadamente 206 hasta 2024. Esto sugiere que el conjunto de entrenamiento tiene información distribuida en un periodo de 8 años. Además, se evidencia quee la mediana está cerca de 2020, lo que indica que la mitad de los datos está antes y la otra midad después de este año. Así mismo, muestra que el rango intercuartil se encuentra aproximadamente entre 2019 y 2022 esto sugiere que la mayoría de los datos provienen de estos años. Se observan bigotes extendidtos hasta 2016 y 2024, lo que sugiere que hay algunos datos en los extremos, pero no necesariamente valores atípicos. Lo que permite reiterar nuevamente que esta variable no afecta el modelo que se desea generar. "
   ]
  },
  {
   "cell_type": "code",
   "execution_count": 161,
   "metadata": {},
   "outputs": [
    {
     "data": {
      "image/png": "[encoded data removed]",
      "text/plain": [
       "<Figure size 600x400 with 1 Axes>"
      ]
     },
     "metadata": {},
     "output_type": "display_data"
    }
   ],
   "source": [
    "df_entrenamiento['año']=df_entrenamiento['Fecha'].dt.year\n",
    "plt.figure(figsize=(6, 4))\n",
    "sns.boxplot(x=df_entrenamiento['año'])\n",
    "plt.title('Distribución de las fechas')\n",
    "plt.show()"
   ]
  },
  {
   "cell_type": "markdown",
   "metadata": {},
   "source": [
    "3.2 Fechas para los datos de prueba\n",
    "\n",
    "Comparando la grafica de los datos de entrenamiento y de prueba se puede ver que en este el rango de fechas es entre 2016- 2023. Así mismo, se ve que la mediana de este conjunto también es aproximadamente 2020 y que el 50% de los datos estan entre 2019-2021, lo que indica que los datos de entrenamiento contienen ejemplos más recientes que los de prueba. Sin embnargo, estos datos no muestran ser tan relevantes para el modelo. "
   ]
  },
  {
   "cell_type": "code",
   "execution_count": 162,
   "metadata": {},
   "outputs": [
    {
     "data": {
      "image/png": "[encoded data removed]",
      "text/plain": [
       "<Figure size 600x400 with 1 Axes>"
      ]
     },
     "metadata": {},
     "output_type": "display_data"
    }
   ],
   "source": [
    "df_prueba['año']=df_prueba['Fecha'].dt.year\n",
    "plt.figure(figsize=(6, 4))\n",
    "sns.boxplot(x=df_prueba['año'])\n",
    "plt.title('Distribución de las fechas')\n",
    "plt.show()"
   ]
  },
  {
   "cell_type": "markdown",
   "metadata": {},
   "source": [
    "4. Estadísticas Descriptivas para las Variables Numéricas"
   ]
  },
  {
   "cell_type": "markdown",
   "metadata": {},
   "source": [
    "4.1 Estadísticas Descriptivas para las variables numéricas para los datos de entrenamiento\n",
    "\n",
    "Con este análisis estadístico permite ver que la longitud de los títulos tiene un promedio de 94.77 caracteres, con un mínimo y máximo de 3-255 caracteres. También se puede ver que el 25% de estos datos tienen 80 caracteres mientras que el 50% tiene 95 y el 75% 111 caracteres, que tienen algunos valores atípicos que pueden ser muy cortos o extremadamente largos. Con estos datos se considera que se debe realizar un preprocesamiento de estos datos eliminando textos que puedan llegar a sesgar el modelo. "
   ]
  },
  {
   "cell_type": "code",
   "execution_count": 163,
   "metadata": {},
   "outputs": [
    {
     "name": "stdout",
     "output_type": "stream",
     "text": [
      "       longitud_titulo  longitud_descripcion                          Fecha\n",
      "count     57063.000000          57063.000000                          21740\n",
      "mean         94.770394            243.519724  2020-08-03 05:41:15.289788416\n",
      "min           3.000000             33.000000            2016-02-01 00:00:00\n",
      "25%          80.000000            171.000000            2019-04-04 18:00:00\n",
      "50%          95.000000            221.000000            2020-06-06 00:00:00\n",
      "75%         111.000000            267.000000            2021-12-04 00:00:00\n",
      "max         258.000000          14153.000000            2024-12-11 00:00:00\n",
      "std          21.878669            274.479568                            NaN\n"
     ]
    }
   ],
   "source": [
    "info=df_entrenamiento[numericas].describe()\n",
    "print(info)"
   ]
  },
  {
   "cell_type": "markdown",
   "metadata": {},
   "source": [
    "4.2 Estadísticas Descriptivas para las Variables Numéricas para los datos de prueba\n",
    "\n",
    "Ahora bien, analizando estos datos de prueba con los anteriores de entrenamiento, se puede ver que la media de los datos es 94.53 y que el título más largo tiene 165 caracteres lo que indica que hay menos títulos extremadamente largos. Así mismo se ve que hay una desviación estandar de 20.50, lo que sugiere que hay una distribución más homogenea entre los datos. Estas distribuciones permiten ver que son consistentes entre los datos de entrenamiento y prueba por lo que su impacto en el modelo es reducido. Auqnue hay menos outliers en las descripciones de prueba, sigue habiendo algunos largos(>2.500) y unos más cortos de mínimo 3 caracteres que podrían afectar el rendimiento del modelo."
   ]
  },
  {
   "cell_type": "code",
   "execution_count": 164,
   "metadata": {},
   "outputs": [
    {
     "name": "stdout",
     "output_type": "stream",
     "text": [
      "       longitud_titulo  longitud_descripcion                          Fecha\n",
      "count      1000.000000           1000.000000                           1000\n",
      "mean         94.532000            230.712000  2020-07-23 01:29:16.800000256\n",
      "min           3.000000             36.000000            2016-06-18 00:00:00\n",
      "25%          80.000000            171.000000            2019-04-07 18:00:00\n",
      "50%          95.000000            220.500000            2020-05-19 00:00:00\n",
      "75%         110.000000            259.250000            2021-11-22 00:00:00\n",
      "max         165.000000           2577.000000            2023-11-28 00:00:00\n",
      "std          20.499835            120.401834                            NaN\n"
     ]
    }
   ],
   "source": [
    "info=df_prueba[numericas].describe()\n",
    "print(info)"
   ]
  },
  {
   "cell_type": "markdown",
   "metadata": {},
   "source": [
    "5. Valores atípicos en la longitud de Título y Descripción"
   ]
  },
  {
   "cell_type": "markdown",
   "metadata": {},
   "source": [
    "5.1 Detección de valores atípicos en la longitud de título y descripción de los datos de entrenamiento\n",
    "\n",
    "Las gráficas permiten ver los datos atípicos para la longitud de título y de la descripción. En ambas gráficas se puede ver que hay muchos valores atípicos. Auqnue no todos los datos son atípicos, hay una gran cantidad de datos con longitudes mucho mayores al promedio. Lo cual podria afectar el rendimiento de modelos, especialemnte aquellos sensibles a la escala de datos como los son la regresión lienal, KNN y redes neuronales. Por lo tanto, se deben considerar métodos para manejar esto valores como los on la normalización o ls eliminación de outliers si esto es apropiado para el modelo. "
   ]
  },
  {
   "cell_type": "code",
   "execution_count": 165,
   "metadata": {},
   "outputs": [
    {
     "name": "stdout",
     "output_type": "stream",
     "text": [
      "Valores atípicos en la longitud del título: 57063\n",
      "Valores atípicos en la longitud de la descripción: 15045\n"
     ]
    },
    {
     "data": {
      "image/png": "[encoded data removed]",
      "text/plain": [
       "<Figure size 1200x600 with 2 Axes>"
      ]
     },
     "metadata": {},
     "output_type": "display_data"
    }
   ],
   "source": [
    "Q1_titulo = df_entrenamiento['longitud_titulo'].quantile(0.25)\n",
    "Q3_titulo = df_entrenamiento['longitud_titulo'].quantile(0.75)\n",
    "IQR_titulo = Q3_titulo - Q1_titulo\n",
    "\n",
    "lim_inf_titulo = Q1_titulo - 1.5 * IQR_titulo\n",
    "lim_inf_titulo = Q3_titulo + 1.5 * IQR_titulo\n",
    "atipicos_titulo = df_entrenamiento[(df_entrenamiento['longitud_titulo'] < lim_inf_titulo) | (df_entrenamiento['longitud_titulo'] > lim_inf_titulo)]\n",
    "\n",
    "#Longitud de la descripción\n",
    "Q1_desc= df_entrenamiento['longitud_descripcion'].quantile(0.25)\n",
    "Q3_desc = df_entrenamiento['longitud_descripcion'].quantile(0.75)\n",
    "lim_inf_desc = Q1_desc - 1.5 * IQR_titulo\n",
    "lim_sup_desc = Q3_desc + 1.5 * IQR_titulo\n",
    "atipicos_desc = df_entrenamiento[(df_entrenamiento['longitud_descripcion'] < lim_inf_desc) | (df_entrenamiento['longitud_descripcion'] > lim_sup_desc)]\n",
    "\n",
    "print(f\"Valores atípicos en la longitud del título: {len(atipicos_titulo)}\")\n",
    "print(f\"Valores atípicos en la longitud de la descripción: {len(atipicos_desc)}\")\n",
    "\n",
    "# Graficar boxplots para visualizar valores atípicos\n",
    "plt.figure(figsize=(12, 6))\n",
    "\n",
    "plt.subplot(1, 2, 1)\n",
    "sns.boxplot(x=df_entrenamiento['longitud_titulo'])\n",
    "plt.title(\"Boxplot de la longitud del título\")\n",
    "\n",
    "plt.subplot(1, 2, 2)\n",
    "sns.boxplot(x=df_entrenamiento['longitud_descripcion'])\n",
    "plt.title(\"Boxplot de la longitud de la descripción\")\n",
    "\n",
    "plt.show()"
   ]
  },
  {
   "cell_type": "markdown",
   "metadata": {},
   "source": [
    "5.2 Detección de Valores Atípicos de la Longitud de Título y Descripción de los datos de prueba\n",
    "\n",
    "Estas gráficas muestran los avlores atípicos para la longitud de título y descripción. En este se puede ver que estos datos tienen una distribución más centrada, lo que significa que hay pocos valores atípicos, los cuales parecen ser títulos inusualmente cortos o largos, lo que muestra que la distribución en los datos de prueba es más controlada. Considerando todo esto, se debe asegurar que el modelo no se vea afectado por diferencias en la distribución. "
   ]
  },
  {
   "cell_type": "code",
   "execution_count": 166,
   "metadata": {},
   "outputs": [
    {
     "name": "stdout",
     "output_type": "stream",
     "text": [
      "Valores atípicos en la longitud del título: 999\n",
      "Valores atípicos en la longitud de la descripción: 258\n"
     ]
    },
    {
     "data": {
      "image/png": "[encoded data removed]",
      "text/plain": [
       "<Figure size 1200x600 with 2 Axes>"
      ]
     },
     "metadata": {},
     "output_type": "display_data"
    }
   ],
   "source": [
    "Q1_titulo = df_prueba['longitud_titulo'].quantile(0.25)\n",
    "Q3_titulo = df_prueba['longitud_titulo'].quantile(0.75)\n",
    "IQR_titulo = Q3_titulo - Q1_titulo\n",
    "\n",
    "lim_inf_titulo = Q1_titulo - 1.5 * IQR_titulo\n",
    "lim_inf_titulo = Q3_titulo + 1.5 * IQR_titulo\n",
    "atipicos_titulo = df_prueba[(df_prueba['longitud_titulo'] < lim_inf_titulo) | (df_prueba['longitud_titulo'] > lim_inf_titulo)]\n",
    "\n",
    "#Longitud de la descripción\n",
    "Q1_desc= df_prueba['longitud_descripcion'].quantile(0.25)\n",
    "Q3_desc = df_prueba['longitud_descripcion'].quantile(0.75)\n",
    "lim_inf_desc = Q1_desc - 1.5 * IQR_titulo\n",
    "lim_sup_desc = Q3_desc + 1.5 * IQR_titulo\n",
    "atipicos_desc = df_prueba[(df_prueba['longitud_descripcion'] < lim_inf_desc) | (df_prueba['longitud_descripcion'] > lim_sup_desc)]\n",
    "\n",
    "print(f\"Valores atípicos en la longitud del título: {len(atipicos_titulo)}\")\n",
    "print(f\"Valores atípicos en la longitud de la descripción: {len(atipicos_desc)}\")\n",
    "\n",
    "# Graficar boxplots para visualizar valores atípicos\n",
    "plt.figure(figsize=(12, 6))\n",
    "\n",
    "plt.subplot(1, 2, 1)\n",
    "sns.boxplot(x=df_prueba['longitud_titulo'])\n",
    "plt.title(\"Boxplot de la longitud del título\")\n",
    "\n",
    "plt.subplot(1, 2, 2)\n",
    "sns.boxplot(x=df_prueba['longitud_descripcion'])\n",
    "plt.title(\"Boxplot de la longitud de la descripción\")\n",
    "\n",
    "plt.show()"
   ]
  },
  {
   "cell_type": "markdown",
   "metadata": {},
   "source": [
    "6. Valores atípicos en las fechas"
   ]
  },
  {
   "cell_type": "markdown",
   "metadata": {},
   "source": [
    "6.1 Valores atípicos en las fechas de los datos de entrenamiento\n",
    "\n",
    "La cantidad de valores atípcios demuestra una vez más que esta variable no es importante para el modelo. Pues esta al el objetivo de este modelo ser clasificar esta variable no aporta información semántica del contenido que permita determinar si una noticia es verdadera o falsa. "
   ]
  },
  {
   "cell_type": "code",
   "execution_count": 167,
   "metadata": {},
   "outputs": [
    {
     "name": "stdout",
     "output_type": "stream",
     "text": [
      "Valores atípicos en la fecha: 0\n"
     ]
    }
   ],
   "source": [
    "lim_inf_fecha = df_entrenamiento['año'].min()-1\n",
    "lim_sup_fecha = df_entrenamiento['año'].max()+1\n",
    "atipicos_fecha = df_entrenamiento[(df_entrenamiento['año'] < lim_inf_fecha) | (df_entrenamiento['año'] > lim_sup_fecha)]\n",
    "print(f\"Valores atípicos en la fecha: {len(atipicos_fecha)}\")"
   ]
  },
  {
   "cell_type": "markdown",
   "metadata": {},
   "source": [
    "6.2 Valores atípicos en las fechas de los datos de prueba\n",
    "\n",
    "La cantidad de valores atípcios demuestra una vez más que esta variable no es importante para el modelo. Pues esta al el objetivo de este modelo ser clasificar esta variable no aporta información semántica del contenido que permita determinar si una noticia es verdadera o falsa. "
   ]
  },
  {
   "cell_type": "code",
   "execution_count": 168,
   "metadata": {},
   "outputs": [
    {
     "name": "stdout",
     "output_type": "stream",
     "text": [
      "Valores atípicos en la fecha: 0\n"
     ]
    }
   ],
   "source": [
    "lim_inf_fecha = df_prueba['año'].min()-1\n",
    "lim_sup_fecha = df_prueba['año'].max()+1\n",
    "atipicos_fecha = df_prueba[(df_prueba['año'] < lim_inf_fecha) | (df_prueba['año'] > lim_sup_fecha)]\n",
    "print(f\"Valores atípicos en la fecha: {len(atipicos_fecha)}\")"
   ]
  },
  {
   "cell_type": "markdown",
   "metadata": {},
   "source": [
    "7. Resumen de las variables"
   ]
  },
  {
   "cell_type": "markdown",
   "metadata": {},
   "source": [
    "7.1 Resumen de las variables de los datos de entrenamiento"
   ]
  },
  {
   "cell_type": "code",
   "execution_count": 169,
   "metadata": {},
   "outputs": [
    {
     "name": "stdout",
     "output_type": "stream",
     "text": [
      "\n",
      "Resumen de las variables:\n",
      "Variables categóricas: Label, Titulo, Descripcion\n",
      "Variables numéricas: longitud_titulo, longitud_descripcion, año\n",
      "\n",
      "Muestras de valores atípicos en longitud_titulo:\n",
      "   ID                                             Titulo  \\\n",
      "0  ID  La mesa del congreso censura un encuentro inte...   \n",
      "1  ID  La brecha digital que dificulta el acceso de a...   \n",
      "2  ID  PP apremia al EQUO a presentar una propuesta d...   \n",
      "3  ID  De soberano garante de la democracia a rey cor...   \n",
      "4  ID  El Gobierno aprobará este martes detraer los b...   \n",
      "\n",
      "                                         Descripcion      Fecha  \\\n",
      "0  Portavoces de Ciudadanos, PNV, UPN, PSOE, Unid... 2018-10-30   \n",
      "1  No es la primera vez que los ciudadanos vulner... 2023-03-15   \n",
      "2  El partido morado reprocha que los socialistas... 2019-07-01   \n",
      "3  La renuncia de Felipe VI a su herencia, proced... 2020-03-16   \n",
      "4  El Ejecutivo también prorrogará la suspensión ... 2021-09-13   \n",
      "\n",
      "   longitud_titulo  longitud_descripcion   año  \n",
      "0              100                   119  2018  \n",
      "1              121                   197  2023  \n",
      "2               95                   215  2019  \n",
      "3               75                   446  2020  \n",
      "4              132                   343  2021  \n",
      "\n",
      "Muestras de valores atípicos en longitud_descripcion:\n",
      "    ID                                             Titulo  \\\n",
      "0   ID  La mesa del congreso censura un encuentro inte...   \n",
      "3   ID  De soberano garante de la democracia a rey cor...   \n",
      "4   ID  El Gobierno aprobará este martes detraer los b...   \n",
      "5   ID  Sánchez presenta unos Presupuestos con un gran...   \n",
      "10  ID  Santiago Abascal será el candidato a la presid...   \n",
      "\n",
      "                                          Descripcion      Fecha  \\\n",
      "0   Portavoces de Ciudadanos, PNV, UPN, PSOE, Unid... 2018-10-30   \n",
      "3   La renuncia de Felipe VI a su herencia, proced... 2020-03-16   \n",
      "4   El Ejecutivo también prorrogará la suspensión ... 2021-09-13   \n",
      "5   Prevé una recaudación récords de 227.000 millo... 2019-01-11   \n",
      "10  Lo será básicamente con un solo punto en su pr... 2020-08-24   \n",
      "\n",
      "    longitud_titulo  longitud_descripcion   año  \n",
      "0               100                   119  2018  \n",
      "3                75                   446  2020  \n",
      "4               132                   343  2021  \n",
      "5               109                   350  2019  \n",
      "10               82                   124  2020  \n",
      "\n",
      "Muestras de valores atípicos en fechas:\n",
      "Empty DataFrame\n",
      "Columns: [ID, Titulo, Descripcion, Fecha, longitud_titulo, longitud_descripcion, año]\n",
      "Index: []\n"
     ]
    }
   ],
   "source": [
    "# Resumen\n",
    "print(\"\\nResumen de las variables:\")\n",
    "print(\"Variables categóricas: Label, Titulo, Descripcion\")\n",
    "print(\"Variables numéricas: longitud_titulo, longitud_descripcion, año\")\n",
    "\n",
    "# Mostrar algunas muestras de los valores atípicos\n",
    "print(\"\\nMuestras de valores atípicos en longitud_titulo:\")\n",
    "print(atipicos_titulo.head())\n",
    "\n",
    "print(\"\\nMuestras de valores atípicos en longitud_descripcion:\")\n",
    "print(atipicos_desc.head())\n",
    "\n",
    "print(\"\\nMuestras de valores atípicos en fechas:\")\n",
    "print(atipicos_fecha.head())"
   ]
  },
  {
   "cell_type": "markdown",
   "metadata": {},
   "source": [
    "7.2 Resumen de las variables de los datos de prueba"
   ]
  },
  {
   "cell_type": "code",
   "execution_count": 170,
   "metadata": {},
   "outputs": [
    {
     "name": "stdout",
     "output_type": "stream",
     "text": [
      "\n",
      "Resumen de las variables:\n",
      "Variables categóricas: Label, Titulo, Descripcion\n",
      "Variables numéricas: longitud_titulo, longitud_descripcion, año\n",
      "\n",
      "Muestras de valores atípicos en longitud_titulo:\n",
      "   ID                                             Titulo  \\\n",
      "0  ID  La mesa del congreso censura un encuentro inte...   \n",
      "1  ID  La brecha digital que dificulta el acceso de a...   \n",
      "2  ID  PP apremia al EQUO a presentar una propuesta d...   \n",
      "3  ID  De soberano garante de la democracia a rey cor...   \n",
      "4  ID  El Gobierno aprobará este martes detraer los b...   \n",
      "\n",
      "                                         Descripcion      Fecha  \\\n",
      "0  Portavoces de Ciudadanos, PNV, UPN, PSOE, Unid... 2018-10-30   \n",
      "1  No es la primera vez que los ciudadanos vulner... 2023-03-15   \n",
      "2  El partido morado reprocha que los socialistas... 2019-07-01   \n",
      "3  La renuncia de Felipe VI a su herencia, proced... 2020-03-16   \n",
      "4  El Ejecutivo también prorrogará la suspensión ... 2021-09-13   \n",
      "\n",
      "   longitud_titulo  longitud_descripcion   año  \n",
      "0              100                   119  2018  \n",
      "1              121                   197  2023  \n",
      "2               95                   215  2019  \n",
      "3               75                   446  2020  \n",
      "4              132                   343  2021  \n",
      "\n",
      "Muestras de valores atípicos en longitud_descripcion:\n",
      "    ID                                             Titulo  \\\n",
      "0   ID  La mesa del congreso censura un encuentro inte...   \n",
      "3   ID  De soberano garante de la democracia a rey cor...   \n",
      "4   ID  El Gobierno aprobará este martes detraer los b...   \n",
      "5   ID  Sánchez presenta unos Presupuestos con un gran...   \n",
      "10  ID  Santiago Abascal será el candidato a la presid...   \n",
      "\n",
      "                                          Descripcion      Fecha  \\\n",
      "0   Portavoces de Ciudadanos, PNV, UPN, PSOE, Unid... 2018-10-30   \n",
      "3   La renuncia de Felipe VI a su herencia, proced... 2020-03-16   \n",
      "4   El Ejecutivo también prorrogará la suspensión ... 2021-09-13   \n",
      "5   Prevé una recaudación récords de 227.000 millo... 2019-01-11   \n",
      "10  Lo será básicamente con un solo punto en su pr... 2020-08-24   \n",
      "\n",
      "    longitud_titulo  longitud_descripcion   año  \n",
      "0               100                   119  2018  \n",
      "3                75                   446  2020  \n",
      "4               132                   343  2021  \n",
      "5               109                   350  2019  \n",
      "10               82                   124  2020  \n",
      "\n",
      "Muestras de valores atípicos en fechas:\n",
      "Empty DataFrame\n",
      "Columns: [ID, Titulo, Descripcion, Fecha, longitud_titulo, longitud_descripcion, año]\n",
      "Index: []\n"
     ]
    }
   ],
   "source": [
    "# Resumen\n",
    "print(\"\\nResumen de las variables:\")\n",
    "print(\"Variables categóricas: Label, Titulo, Descripcion\")\n",
    "print(\"Variables numéricas: longitud_titulo, longitud_descripcion, año\")\n",
    "\n",
    "# Mostrar algunas muestras de los valores atípicos\n",
    "print(\"\\nMuestras de valores atípicos en longitud_titulo:\")\n",
    "print(atipicos_titulo.head())\n",
    "\n",
    "print(\"\\nMuestras de valores atípicos en longitud_descripcion:\")\n",
    "print(atipicos_desc.head())\n",
    "\n",
    "print(\"\\nMuestras de valores atípicos en fechas:\")\n",
    "print(atipicos_fecha.head())"
   ]
  },
  {
   "cell_type": "markdown",
   "metadata": {},
   "source": [
    "**3. Variable Objetivo**\n",
    "\n",
    "La idea del entrenamiento de estos módelos es poder clasificar con 0 o 1 las noticias, para de esta forma determinar si son falsas o verdaderas. Por lo tanto, la variable objetivo del modelo es el Label. "
   ]
  },
  {
   "cell_type": "markdown",
   "metadata": {},
   "source": [
    "**4. Preprocesamiento de los datos**"
   ]
  },
  {
   "cell_type": "markdown",
   "metadata": {},
   "source": [
    "**4.1 Eliminación de Nulos**"
   ]
  },
  {
   "cell_type": "markdown",
   "metadata": {},
   "source": [
    "*4.1.1 Eliminación de Nulos en los datos de entrenamiento*\n",
    "\n",
    "En este punto se realiza una limpieza de los valores nulos que hay en los datos de entrenamiento. Antes de realizar la limpieza se tenian 16 registros de títulos que no tenian un valor. Sin embargo, después de la limpieza, los datos de prueba ya no tienen valores nulos, lo que indica que se realizó un buen preprocesamiento. Este proceso es bueno para el modelo, pues esto evita que los datos tenga datos incompletos o sin sentido, El título es una variable clave para el análisis de noticias falsas, ya que puede contener palabras clave o patrones importantes. Si el título está vacío, al información proporcionada en ese registro es parcial y podría generar ruido en el modelo. Además, si se mantienen registros sin títulos, el modelo podría aprender de datos incompletos y ahcer predicciones menos precisas, el eliminar estos valores asegura que el modelo solo aprenda de ejemplos completos y presentitavivos. De la misma forma, muchas técnicas de procesamiento de texto como TD-IDF no funcionan bien con valores nulos. Y el reemplazar los valores nulos por otro como lo es el 'Sin Título' podría afectar negativamente el análisi de texto. Tener datos limpios evita que el modelo haga esfuerzos innecesarios en manejar valores vacíos o poco representativos. Un modelo más limpio y con menos rruido suele generalizar mejor. \n"
   ]
  },
  {
   "cell_type": "code",
   "execution_count": 171,
   "metadata": {},
   "outputs": [
    {
     "name": "stdout",
     "output_type": "stream",
     "text": [
      "Valores nulos de los datos de entrenamiento antes de la limpieza:\n",
      "ID                          0\n",
      "Label                       0\n",
      "Titulo                     16\n",
      "Descripcion                 0\n",
      "Fecha                   35323\n",
      "longitud_titulo             0\n",
      "longitud_descripcion        0\n",
      "año                     35323\n",
      "dtype: int64\n",
      "Valores nulos de los datos de prueba después de la limpieza:\n",
      "ID                      0\n",
      "Label                   0\n",
      "Titulo                  0\n",
      "Descripcion             0\n",
      "Fecha                   0\n",
      "longitud_titulo         0\n",
      "longitud_descripcion    0\n",
      "año                     0\n",
      "dtype: int64\n"
     ]
    }
   ],
   "source": [
    "print(\"Valores nulos de los datos de entrenamiento antes de la limpieza:\")\n",
    "print(df_entrenamiento.isnull().sum())\n",
    "\n",
    "print(\"Valores nulos de los datos de prueba después de la limpieza:\")\n",
    "\n",
    "df_entrenamiento.dropna(inplace=True)\n",
    "\n",
    "print(df_entrenamiento.isnull().sum())"
   ]
  },
  {
   "cell_type": "markdown",
   "metadata": {},
   "source": [
    "*4.1.2 Eliminación de Nulos en los datos de prueba*\n",
    "\n",
    "Para este punto se puede ver que en los datos de prueba no hay valores nulos antes de la limpieza, por lo que el proceso de limpieza no cambión en nada en términos de valores faltantes. Esto beneficia al modelo pues no se pierde información inncesariamente y todos losa datos ya estaban completos, lo que facilita el proceamiento y el entrenamiento del modelo. Adicionalmente, se mantiene la consistencia entre los datos de entrenamiento y prueba. Por otro lado, como en los datos de entrenemiento si hubo eliminación de valores nulos en \"Título\", eso asegura que el modelo solo aprenda de datos completos y representativos, lo que ayuda a una mejor generalizaicón cuando se evalúe con los datos de prueba. "
   ]
  },
  {
   "cell_type": "code",
   "execution_count": 172,
   "metadata": {},
   "outputs": [
    {
     "name": "stdout",
     "output_type": "stream",
     "text": [
      "Valores nulos de los datos de prueba antes de la limpieza:\n",
      "ID                      0\n",
      "Titulo                  1\n",
      "Descripcion             0\n",
      "Fecha                   0\n",
      "longitud_titulo         0\n",
      "longitud_descripcion    0\n",
      "año                     0\n",
      "dtype: int64\n",
      "Valores nulos de los datos de prueba después de la limpieza:\n",
      "ID                      0\n",
      "Titulo                  0\n",
      "Descripcion             0\n",
      "Fecha                   0\n",
      "longitud_titulo         0\n",
      "longitud_descripcion    0\n",
      "año                     0\n",
      "dtype: int64\n"
     ]
    }
   ],
   "source": [
    "print(\"Valores nulos de los datos de prueba antes de la limpieza:\")\n",
    "print(df_prueba.isnull().sum())\n",
    "\n",
    "print(\"Valores nulos de los datos de prueba después de la limpieza:\")\n",
    "\n",
    "df_prueba.dropna(inplace=True)\n",
    "\n",
    "print(df_prueba.isnull().sum())"
   ]
  },
  {
   "cell_type": "markdown",
   "metadata": {},
   "source": [
    "**4.2 Eliminación de Duplicados**"
   ]
  },
  {
   "cell_type": "markdown",
   "metadata": {},
   "source": [
    "*4.2.1 Eliminación de Duplicados para los datos de entrenamiento*\n",
    "\n",
    "El eliminar los duplicados que se tienen en los datos de entrenamiento es una buena práctica porque permite evitar sesgis en el modelo, pues si algunos ejemplos están repetidos, el modelo puede sibreajustarse a ellos dando más peso a ciertas muestras. Adicionalmente, reduce datos inncesarios lo que agiliza el procesamieneto y optimización del modelo. Así mismo, asegura que cada muestra aporta información única, mejorando la capacidad del modelo para generalizar. En conclusión, la limpieza de duplicados contribuye a un modelo más preciso, eficiente y confiable."
   ]
  },
  {
   "cell_type": "code",
   "execution_count": 173,
   "metadata": {},
   "outputs": [
    {
     "name": "stdout",
     "output_type": "stream",
     "text": [
      "Duplicados en los datos de entrenamiento antes de la limpieza: 120\n",
      "Duplicados en los datos de entrenamiento después de la limpieza: 0\n"
     ]
    }
   ],
   "source": [
    "print(f\"Duplicados en los datos de entrenamiento antes de la limpieza: {df_entrenamiento.duplicated().sum()}\")\n",
    "df_entrenamiento.drop_duplicates(inplace=True)\n",
    "print(f\"Duplicados en los datos de entrenamiento después de la limpieza: {df_entrenamiento.duplicated().sum()}\")"
   ]
  },
  {
   "cell_type": "code",
   "execution_count": 174,
   "metadata": {},
   "outputs": [
    {
     "name": "stdout",
     "output_type": "stream",
     "text": [
      "Duplicados en los datos de prueba antes de la limpieza: 1\n",
      "Duplicados en los datos de prueba después de la limpieza: 0\n"
     ]
    }
   ],
   "source": [
    "print(f\"Duplicados en los datos de prueba antes de la limpieza: {df_prueba.duplicated().sum()}\")\n",
    "df_prueba.drop_duplicates(inplace=True)\n",
    "print(f\"Duplicados en los datos de prueba después de la limpieza: {df_prueba.duplicated().sum()}\")"
   ]
  },
  {
   "cell_type": "markdown",
   "metadata": {},
   "source": [
    "**4.3 Pasar los textos a minúsculas**"
   ]
  },
  {
   "cell_type": "markdown",
   "metadata": {},
   "source": [
    "*4.3.1 Pasar los textos a minúsculas los datos de entrenamiento*\n",
    "\n",
    "El convertir los textos a minúsculas en los datos de entrenamiento es una buena práctica pues permite eliminar las diferencias artificiales como lo pueden ser las palabras 'Gobierno' y 'gobierno' que se tratan de la misma palabra, pero se puede tratar como diferentes y así reducir la dimensionalidad del texto. Además, permite mejorar la consistencia con modelos como los de NLP que funcionan mejor con datos homogéneos, evitando que una misma palabra en mayúscula y minúscula sea interpretada como distinta. Aí mismo, al hacer matching de palabras o tokens, se evita que \"The Guardian\" y \"the guardian\" se consideren diferentes. Este paso es especialmente útil antes de aplicar la vectorización ya que ayuda a mejorar la calidad de la representación de los textos. "
   ]
  },
  {
   "cell_type": "code",
   "execution_count": 175,
   "metadata": {},
   "outputs": [
    {
     "data": {
      "text/html": [
       "<div>\n",
       "<style scoped>\n",
       "    .dataframe tbody tr th:only-of-type {\n",
       "        vertical-align: middle;\n",
       "    }\n",
       "\n",
       "    .dataframe tbody tr th {\n",
       "        vertical-align: top;\n",
       "    }\n",
       "\n",
       "    .dataframe thead th {\n",
       "        text-align: right;\n",
       "    }\n",
       "</style>\n",
       "<table border=\"1\" class=\"dataframe\">\n",
       "  <thead>\n",
       "    <tr style=\"text-align: right;\">\n",
       "      <th></th>\n",
       "      <th>ID</th>\n",
       "      <th>Label</th>\n",
       "      <th>Titulo</th>\n",
       "      <th>Descripcion</th>\n",
       "      <th>Fecha</th>\n",
       "      <th>longitud_titulo</th>\n",
       "      <th>longitud_descripcion</th>\n",
       "      <th>año</th>\n",
       "    </tr>\n",
       "  </thead>\n",
       "  <tbody>\n",
       "    <tr>\n",
       "      <th>0</th>\n",
       "      <td>ID</td>\n",
       "      <td>1</td>\n",
       "      <td>'the guardian' va con sánchez: 'europa necesit...</td>\n",
       "      <td>el diario británico publicó este pasado jueves...</td>\n",
       "      <td>2023-02-06</td>\n",
       "      <td>77</td>\n",
       "      <td>218</td>\n",
       "      <td>2023.0</td>\n",
       "    </tr>\n",
       "    <tr>\n",
       "      <th>1</th>\n",
       "      <td>ID</td>\n",
       "      <td>0</td>\n",
       "      <td>revelan que el gobierno negocio la liberación ...</td>\n",
       "      <td>revelan que el gobierno negocio la liberación ...</td>\n",
       "      <td>2023-01-10</td>\n",
       "      <td>104</td>\n",
       "      <td>3260</td>\n",
       "      <td>2023.0</td>\n",
       "    </tr>\n",
       "    <tr>\n",
       "      <th>3</th>\n",
       "      <td>ID</td>\n",
       "      <td>1</td>\n",
       "      <td>iglesias alienta a yolanda díaz, erc y eh bild...</td>\n",
       "      <td>en política, igual que hay que negociar con lo...</td>\n",
       "      <td>2022-03-01</td>\n",
       "      <td>110</td>\n",
       "      <td>133</td>\n",
       "      <td>2022.0</td>\n",
       "    </tr>\n",
       "    <tr>\n",
       "      <th>4</th>\n",
       "      <td>ID</td>\n",
       "      <td>0</td>\n",
       "      <td>puigdemont: 'no sería ninguna tragedia una rep...</td>\n",
       "      <td>en una entrevista en el punt avui, el líder de...</td>\n",
       "      <td>2018-09-03</td>\n",
       "      <td>72</td>\n",
       "      <td>242</td>\n",
       "      <td>2018.0</td>\n",
       "    </tr>\n",
       "    <tr>\n",
       "      <th>9</th>\n",
       "      <td>ID</td>\n",
       "      <td>0</td>\n",
       "      <td>la 'ayusización' del bng: santiago abascal ins...</td>\n",
       "      <td>pablo santiago abascal planea vivir de las ren...</td>\n",
       "      <td>2021-10-05</td>\n",
       "      <td>109</td>\n",
       "      <td>232</td>\n",
       "      <td>2021.0</td>\n",
       "    </tr>\n",
       "  </tbody>\n",
       "</table>\n",
       "</div>"
      ],
      "text/plain": [
       "   ID  Label                                             Titulo  \\\n",
       "0  ID      1  'the guardian' va con sánchez: 'europa necesit...   \n",
       "1  ID      0  revelan que el gobierno negocio la liberación ...   \n",
       "3  ID      1  iglesias alienta a yolanda díaz, erc y eh bild...   \n",
       "4  ID      0  puigdemont: 'no sería ninguna tragedia una rep...   \n",
       "9  ID      0  la 'ayusización' del bng: santiago abascal ins...   \n",
       "\n",
       "                                         Descripcion      Fecha  \\\n",
       "0  el diario británico publicó este pasado jueves... 2023-02-06   \n",
       "1  revelan que el gobierno negocio la liberación ... 2023-01-10   \n",
       "3  en política, igual que hay que negociar con lo... 2022-03-01   \n",
       "4  en una entrevista en el punt avui, el líder de... 2018-09-03   \n",
       "9  pablo santiago abascal planea vivir de las ren... 2021-10-05   \n",
       "\n",
       "   longitud_titulo  longitud_descripcion     año  \n",
       "0               77                   218  2023.0  \n",
       "1              104                  3260  2023.0  \n",
       "3              110                   133  2022.0  \n",
       "4               72                   242  2018.0  \n",
       "9              109                   232  2021.0  "
      ]
     },
     "execution_count": 175,
     "metadata": {},
     "output_type": "execute_result"
    }
   ],
   "source": [
    "#Pasar a minúsculas los títulos\n",
    "df_entrenamiento['Titulo'] = df_entrenamiento['Titulo'].str.lower()\n",
    "df_entrenamiento.head()\n",
    "\n",
    "#Pasar a minúsculas las descripciones\n",
    "df_entrenamiento['Descripcion'] = df_entrenamiento['Descripcion'].str.lower()\n",
    "df_entrenamiento.head()"
   ]
  },
  {
   "cell_type": "markdown",
   "metadata": {},
   "source": [
    "*4.3.2 Pasar los textos a minúsculas los datos de prueba*\n",
    "\n",
    "Como en el anterior preprocesamiento de los datos de entrenamiento, para los datos de prueba es útil convertir todo el texto a minúsculas ya que ayuda a reducir la variabilidad en losdatos y de esta forma mejorar la calidad del análisis. Con este proceso se eliminan las diferencias entre palabras que solo difieren en mayúsculas y minúsculas. Por ejemplo \"Gobierno\" y \"gobierno\" para ser tratados como la misma palabra. Esto es útil para modelos de aprendizaje automático que trabajan con texto, ya que evita considerar como términos distintos palabras que solo difieren en capitalización. "
   ]
  },
  {
   "cell_type": "code",
   "execution_count": 176,
   "metadata": {},
   "outputs": [
    {
     "data": {
      "text/html": [
       "<div>\n",
       "<style scoped>\n",
       "    .dataframe tbody tr th:only-of-type {\n",
       "        vertical-align: middle;\n",
       "    }\n",
       "\n",
       "    .dataframe tbody tr th {\n",
       "        vertical-align: top;\n",
       "    }\n",
       "\n",
       "    .dataframe thead th {\n",
       "        text-align: right;\n",
       "    }\n",
       "</style>\n",
       "<table border=\"1\" class=\"dataframe\">\n",
       "  <thead>\n",
       "    <tr style=\"text-align: right;\">\n",
       "      <th></th>\n",
       "      <th>ID</th>\n",
       "      <th>Titulo</th>\n",
       "      <th>Descripcion</th>\n",
       "      <th>Fecha</th>\n",
       "      <th>longitud_titulo</th>\n",
       "      <th>longitud_descripcion</th>\n",
       "      <th>año</th>\n",
       "    </tr>\n",
       "  </thead>\n",
       "  <tbody>\n",
       "    <tr>\n",
       "      <th>0</th>\n",
       "      <td>ID</td>\n",
       "      <td>la mesa del congreso censura un encuentro inte...</td>\n",
       "      <td>portavoces de ciudadanos, pnv, upn, psoe, unid...</td>\n",
       "      <td>2018-10-30</td>\n",
       "      <td>100</td>\n",
       "      <td>119</td>\n",
       "      <td>2018</td>\n",
       "    </tr>\n",
       "    <tr>\n",
       "      <th>1</th>\n",
       "      <td>ID</td>\n",
       "      <td>la brecha digital que dificulta el acceso de a...</td>\n",
       "      <td>no es la primera vez que los ciudadanos vulner...</td>\n",
       "      <td>2023-03-15</td>\n",
       "      <td>121</td>\n",
       "      <td>197</td>\n",
       "      <td>2023</td>\n",
       "    </tr>\n",
       "    <tr>\n",
       "      <th>2</th>\n",
       "      <td>ID</td>\n",
       "      <td>pp apremia al equo a presentar una propuesta d...</td>\n",
       "      <td>el partido morado reprocha que los socialistas...</td>\n",
       "      <td>2019-07-01</td>\n",
       "      <td>95</td>\n",
       "      <td>215</td>\n",
       "      <td>2019</td>\n",
       "    </tr>\n",
       "    <tr>\n",
       "      <th>3</th>\n",
       "      <td>ID</td>\n",
       "      <td>de soberano garante de la democracia a rey cor...</td>\n",
       "      <td>la renuncia de felipe vi a su herencia, proced...</td>\n",
       "      <td>2020-03-16</td>\n",
       "      <td>75</td>\n",
       "      <td>446</td>\n",
       "      <td>2020</td>\n",
       "    </tr>\n",
       "    <tr>\n",
       "      <th>4</th>\n",
       "      <td>ID</td>\n",
       "      <td>el gobierno aprobará este martes detraer los b...</td>\n",
       "      <td>el ejecutivo también prorrogará la suspensión ...</td>\n",
       "      <td>2021-09-13</td>\n",
       "      <td>132</td>\n",
       "      <td>343</td>\n",
       "      <td>2021</td>\n",
       "    </tr>\n",
       "  </tbody>\n",
       "</table>\n",
       "</div>"
      ],
      "text/plain": [
       "   ID                                             Titulo  \\\n",
       "0  ID  la mesa del congreso censura un encuentro inte...   \n",
       "1  ID  la brecha digital que dificulta el acceso de a...   \n",
       "2  ID  pp apremia al equo a presentar una propuesta d...   \n",
       "3  ID  de soberano garante de la democracia a rey cor...   \n",
       "4  ID  el gobierno aprobará este martes detraer los b...   \n",
       "\n",
       "                                         Descripcion      Fecha  \\\n",
       "0  portavoces de ciudadanos, pnv, upn, psoe, unid... 2018-10-30   \n",
       "1  no es la primera vez que los ciudadanos vulner... 2023-03-15   \n",
       "2  el partido morado reprocha que los socialistas... 2019-07-01   \n",
       "3  la renuncia de felipe vi a su herencia, proced... 2020-03-16   \n",
       "4  el ejecutivo también prorrogará la suspensión ... 2021-09-13   \n",
       "\n",
       "   longitud_titulo  longitud_descripcion   año  \n",
       "0              100                   119  2018  \n",
       "1              121                   197  2023  \n",
       "2               95                   215  2019  \n",
       "3               75                   446  2020  \n",
       "4              132                   343  2021  "
      ]
     },
     "execution_count": 176,
     "metadata": {},
     "output_type": "execute_result"
    }
   ],
   "source": [
    "#Pasar a minúsculas los títulos\n",
    "df_prueba['Titulo'] = df_prueba['Titulo'].str.lower()\n",
    "df_prueba.head()\n",
    "\n",
    "#Pasar a minúsculas las descripciones\n",
    "df_prueba['Descripcion'] = df_prueba['Descripcion'].str.lower()\n",
    "df_prueba.head()"
   ]
  },
  {
   "cell_type": "markdown",
   "metadata": {},
   "source": [
    "**4.4 Eliminar las puntuaciones**"
   ]
  },
  {
   "cell_type": "code",
   "execution_count": 177,
   "metadata": {},
   "outputs": [],
   "source": [
    "import string\n",
    "punc=string.punctuation\n",
    "\n",
    "def remove_punc(text):\n",
    "    return text.translate(str.maketrans('', '', punc))"
   ]
  },
  {
   "cell_type": "markdown",
   "metadata": {},
   "source": [
    "*4.4.1 Eliminar las puntuaciones de los datos de entrenamiento*\n",
    "\n",
    "Eliminar las puntuaciones y convertir todo a minúsculas en los datos de entrenamietno ayuda a mejorar la calidad del procesamiento del lenguaje natural, al reducir la variabilidad en el texto. La puntuación no aporta información significativa en muchos modelos de NLP y podría considerarse como ruiso, esto permite que los modelos se enfoquen en las palabras y su significado sin distraerse con símbilos. ASí mismo, permite que al analizar las palabras más frecuentes en títulos y descripciones, evitar´pa contar separadamente varianyes con diferentes capitalizaciones y de esta forms facilita la tokenización y la construcción de representaciones vectoriales de texto. En conlusión, aplicar estos preprocesamientos ayuda a mejorar la calidad del modelo en tareas como la detección de noticias falsas, ya que permite capturar patrones más generales y evitar que detalles irrelevantes afecten el rendemiento del clasificador."
   ]
  },
  {
   "cell_type": "code",
   "execution_count": 178,
   "metadata": {},
   "outputs": [
    {
     "data": {
      "text/html": [
       "<div>\n",
       "<style scoped>\n",
       "    .dataframe tbody tr th:only-of-type {\n",
       "        vertical-align: middle;\n",
       "    }\n",
       "\n",
       "    .dataframe tbody tr th {\n",
       "        vertical-align: top;\n",
       "    }\n",
       "\n",
       "    .dataframe thead th {\n",
       "        text-align: right;\n",
       "    }\n",
       "</style>\n",
       "<table border=\"1\" class=\"dataframe\">\n",
       "  <thead>\n",
       "    <tr style=\"text-align: right;\">\n",
       "      <th></th>\n",
       "      <th>ID</th>\n",
       "      <th>Label</th>\n",
       "      <th>Titulo</th>\n",
       "      <th>Descripcion</th>\n",
       "      <th>Fecha</th>\n",
       "      <th>longitud_titulo</th>\n",
       "      <th>longitud_descripcion</th>\n",
       "      <th>año</th>\n",
       "    </tr>\n",
       "  </thead>\n",
       "  <tbody>\n",
       "    <tr>\n",
       "      <th>0</th>\n",
       "      <td>ID</td>\n",
       "      <td>1</td>\n",
       "      <td>the guardian va con sánchez europa necesita qu...</td>\n",
       "      <td>el diario británico publicó este pasado jueves...</td>\n",
       "      <td>2023-02-06</td>\n",
       "      <td>77</td>\n",
       "      <td>218</td>\n",
       "      <td>2023.0</td>\n",
       "    </tr>\n",
       "    <tr>\n",
       "      <th>1</th>\n",
       "      <td>ID</td>\n",
       "      <td>0</td>\n",
       "      <td>revelan que el gobierno negocio la liberación ...</td>\n",
       "      <td>revelan que el gobierno negocio la liberación ...</td>\n",
       "      <td>2023-01-10</td>\n",
       "      <td>104</td>\n",
       "      <td>3260</td>\n",
       "      <td>2023.0</td>\n",
       "    </tr>\n",
       "    <tr>\n",
       "      <th>3</th>\n",
       "      <td>ID</td>\n",
       "      <td>1</td>\n",
       "      <td>iglesias alienta a yolanda díaz erc y eh bildu...</td>\n",
       "      <td>en política igual que hay que negociar con los...</td>\n",
       "      <td>2022-03-01</td>\n",
       "      <td>110</td>\n",
       "      <td>133</td>\n",
       "      <td>2022.0</td>\n",
       "    </tr>\n",
       "    <tr>\n",
       "      <th>4</th>\n",
       "      <td>ID</td>\n",
       "      <td>0</td>\n",
       "      <td>puigdemont no sería ninguna tragedia una repet...</td>\n",
       "      <td>en una entrevista en el punt avui el líder de ...</td>\n",
       "      <td>2018-09-03</td>\n",
       "      <td>72</td>\n",
       "      <td>242</td>\n",
       "      <td>2018.0</td>\n",
       "    </tr>\n",
       "    <tr>\n",
       "      <th>9</th>\n",
       "      <td>ID</td>\n",
       "      <td>0</td>\n",
       "      <td>la ayusización del bng santiago abascal instru...</td>\n",
       "      <td>pablo santiago abascal planea vivir de las ren...</td>\n",
       "      <td>2021-10-05</td>\n",
       "      <td>109</td>\n",
       "      <td>232</td>\n",
       "      <td>2021.0</td>\n",
       "    </tr>\n",
       "  </tbody>\n",
       "</table>\n",
       "</div>"
      ],
      "text/plain": [
       "   ID  Label                                             Titulo  \\\n",
       "0  ID      1  the guardian va con sánchez europa necesita qu...   \n",
       "1  ID      0  revelan que el gobierno negocio la liberación ...   \n",
       "3  ID      1  iglesias alienta a yolanda díaz erc y eh bildu...   \n",
       "4  ID      0  puigdemont no sería ninguna tragedia una repet...   \n",
       "9  ID      0  la ayusización del bng santiago abascal instru...   \n",
       "\n",
       "                                         Descripcion      Fecha  \\\n",
       "0  el diario británico publicó este pasado jueves... 2023-02-06   \n",
       "1  revelan que el gobierno negocio la liberación ... 2023-01-10   \n",
       "3  en política igual que hay que negociar con los... 2022-03-01   \n",
       "4  en una entrevista en el punt avui el líder de ... 2018-09-03   \n",
       "9  pablo santiago abascal planea vivir de las ren... 2021-10-05   \n",
       "\n",
       "   longitud_titulo  longitud_descripcion     año  \n",
       "0               77                   218  2023.0  \n",
       "1              104                  3260  2023.0  \n",
       "3              110                   133  2022.0  \n",
       "4               72                   242  2018.0  \n",
       "9              109                   232  2021.0  "
      ]
     },
     "execution_count": 178,
     "metadata": {},
     "output_type": "execute_result"
    }
   ],
   "source": [
    "#Elimnar signos de puntuación de los títulos\n",
    "df_entrenamiento['Titulo'] = df_entrenamiento['Titulo'].apply(lambda x: remove_punc(x))\n",
    "df_entrenamiento.head()\n",
    "\n",
    "#Elimnar signos de puntuación de las descripciones\n",
    "df_entrenamiento['Descripcion'] = df_entrenamiento['Descripcion'].apply(lambda x: remove_punc(x))\n",
    "df_entrenamiento.head()"
   ]
  },
  {
   "cell_type": "markdown",
   "metadata": {},
   "source": [
    "*4.4.2 Eliminar las puntuaciones de los datos de prueba*\n",
    "\n",
    "Al igual que en los datos de entrenamiento, el eliminar la puntuación permite que el modelo interprete correctamente los patrones en el texto sin verse afectado por signos de puntuación innecesarios. Muchos de los signso de puntuación, como comas o puntos no tienen relevancia en al detección de noticias falsas. En modelos basados en conteno de palabras, la puntuación solo aumenta la cantidad de tokens sin aportar información semántica relevante. Por ejemplo la palabra \"corrupción\" y \"corrupción,\" podrían ser tratadas como palabras distintas si la puntuación  no se elimina, por lo tanto eliminarlas mejora la agrupación y clasificación de palabras en el modelo."
   ]
  },
  {
   "cell_type": "code",
   "execution_count": 179,
   "metadata": {},
   "outputs": [
    {
     "data": {
      "text/html": [
       "<div>\n",
       "<style scoped>\n",
       "    .dataframe tbody tr th:only-of-type {\n",
       "        vertical-align: middle;\n",
       "    }\n",
       "\n",
       "    .dataframe tbody tr th {\n",
       "        vertical-align: top;\n",
       "    }\n",
       "\n",
       "    .dataframe thead th {\n",
       "        text-align: right;\n",
       "    }\n",
       "</style>\n",
       "<table border=\"1\" class=\"dataframe\">\n",
       "  <thead>\n",
       "    <tr style=\"text-align: right;\">\n",
       "      <th></th>\n",
       "      <th>ID</th>\n",
       "      <th>Titulo</th>\n",
       "      <th>Descripcion</th>\n",
       "      <th>Fecha</th>\n",
       "      <th>longitud_titulo</th>\n",
       "      <th>longitud_descripcion</th>\n",
       "      <th>año</th>\n",
       "    </tr>\n",
       "  </thead>\n",
       "  <tbody>\n",
       "    <tr>\n",
       "      <th>0</th>\n",
       "      <td>ID</td>\n",
       "      <td>la mesa del congreso censura un encuentro inte...</td>\n",
       "      <td>portavoces de ciudadanos pnv upn psoe unidos p...</td>\n",
       "      <td>2018-10-30</td>\n",
       "      <td>100</td>\n",
       "      <td>119</td>\n",
       "      <td>2018</td>\n",
       "    </tr>\n",
       "    <tr>\n",
       "      <th>1</th>\n",
       "      <td>ID</td>\n",
       "      <td>la brecha digital que dificulta el acceso de a...</td>\n",
       "      <td>no es la primera vez que los ciudadanos vulner...</td>\n",
       "      <td>2023-03-15</td>\n",
       "      <td>121</td>\n",
       "      <td>197</td>\n",
       "      <td>2023</td>\n",
       "    </tr>\n",
       "    <tr>\n",
       "      <th>2</th>\n",
       "      <td>ID</td>\n",
       "      <td>pp apremia al equo a presentar una propuesta d...</td>\n",
       "      <td>el partido morado reprocha que los socialistas...</td>\n",
       "      <td>2019-07-01</td>\n",
       "      <td>95</td>\n",
       "      <td>215</td>\n",
       "      <td>2019</td>\n",
       "    </tr>\n",
       "    <tr>\n",
       "      <th>3</th>\n",
       "      <td>ID</td>\n",
       "      <td>de soberano garante de la democracia a rey cor...</td>\n",
       "      <td>la renuncia de felipe vi a su herencia procede...</td>\n",
       "      <td>2020-03-16</td>\n",
       "      <td>75</td>\n",
       "      <td>446</td>\n",
       "      <td>2020</td>\n",
       "    </tr>\n",
       "    <tr>\n",
       "      <th>4</th>\n",
       "      <td>ID</td>\n",
       "      <td>el gobierno aprobará este martes detraer los b...</td>\n",
       "      <td>el ejecutivo también prorrogará la suspensión ...</td>\n",
       "      <td>2021-09-13</td>\n",
       "      <td>132</td>\n",
       "      <td>343</td>\n",
       "      <td>2021</td>\n",
       "    </tr>\n",
       "  </tbody>\n",
       "</table>\n",
       "</div>"
      ],
      "text/plain": [
       "   ID                                             Titulo  \\\n",
       "0  ID  la mesa del congreso censura un encuentro inte...   \n",
       "1  ID  la brecha digital que dificulta el acceso de a...   \n",
       "2  ID  pp apremia al equo a presentar una propuesta d...   \n",
       "3  ID  de soberano garante de la democracia a rey cor...   \n",
       "4  ID  el gobierno aprobará este martes detraer los b...   \n",
       "\n",
       "                                         Descripcion      Fecha  \\\n",
       "0  portavoces de ciudadanos pnv upn psoe unidos p... 2018-10-30   \n",
       "1  no es la primera vez que los ciudadanos vulner... 2023-03-15   \n",
       "2  el partido morado reprocha que los socialistas... 2019-07-01   \n",
       "3  la renuncia de felipe vi a su herencia procede... 2020-03-16   \n",
       "4  el ejecutivo también prorrogará la suspensión ... 2021-09-13   \n",
       "\n",
       "   longitud_titulo  longitud_descripcion   año  \n",
       "0              100                   119  2018  \n",
       "1              121                   197  2023  \n",
       "2               95                   215  2019  \n",
       "3               75                   446  2020  \n",
       "4              132                   343  2021  "
      ]
     },
     "execution_count": 179,
     "metadata": {},
     "output_type": "execute_result"
    }
   ],
   "source": [
    "#Elimnar signos de puntuación de los títulos\n",
    "df_prueba['Titulo'] = df_prueba['Titulo'].apply(lambda x: remove_punc(x))\n",
    "df_prueba.head()\n",
    "\n",
    "#Elimnar signos de puntuación de las descripciones\n",
    "df_prueba['Descripcion'] = df_prueba['Descripcion'].apply(lambda x: remove_punc(x))\n",
    "df_prueba.head()"
   ]
  },
  {
   "cell_type": "markdown",
   "metadata": {},
   "source": [
    "**5 Selección de los modelos y preprocesamiento para estos**\n",
    "\n",
    "Los modelos que pueden ser útiles para identificar cuales noticias son falsas son los modelos de Naive Bayes, Regresión Logística, Random Forest, SVM y KNN"
   ]
  },
  {
   "cell_type": "code",
   "execution_count": 180,
   "metadata": {},
   "outputs": [
    {
     "name": "stdout",
     "output_type": "stream",
     "text": [
      "['C:\\\\Users\\\\SebOg/nltk_data', 'c:\\\\Users\\\\SebOg\\\\anaconda3\\\\nltk_data', 'c:\\\\Users\\\\SebOg\\\\anaconda3\\\\share\\\\nltk_data', 'c:\\\\Users\\\\SebOg\\\\anaconda3\\\\lib\\\\nltk_data', 'C:\\\\Users\\\\SebOg\\\\AppData\\\\Roaming\\\\nltk_data', 'C:\\\\nltk_data', 'D:\\\\nltk_data', 'E:\\\\nltk_data']\n"
     ]
    }
   ],
   "source": [
    "import nltk\n",
    "print(nltk.data.path)\n"
   ]
  },
  {
   "cell_type": "code",
   "execution_count": 181,
   "metadata": {},
   "outputs": [
    {
     "name": "stderr",
     "output_type": "stream",
     "text": [
      "[nltk_data] Downloading package punkt to\n",
      "[nltk_data]     C:\\Users\\SebOg\\AppData\\Roaming\\nltk_data...\n",
      "[nltk_data]   Package punkt is already up-to-date!\n",
      "[nltk_data] Downloading package stopwords to\n",
      "[nltk_data]     C:\\Users\\SebOg\\AppData\\Roaming\\nltk_data...\n",
      "[nltk_data]   Package stopwords is already up-to-date!\n",
      "[nltk_data] Downloading package wordnet to\n",
      "[nltk_data]     C:\\Users\\SebOg\\AppData\\Roaming\\nltk_data...\n",
      "[nltk_data]   Package wordnet is already up-to-date!\n",
      "[nltk_data] Downloading package omw-1.4 to\n",
      "[nltk_data]     C:\\Users\\SebOg\\AppData\\Roaming\\nltk_data...\n",
      "[nltk_data]   Package omw-1.4 is already up-to-date!\n"
     ]
    },
    {
     "data": {
      "text/plain": [
       "True"
      ]
     },
     "execution_count": 181,
     "metadata": {},
     "output_type": "execute_result"
    }
   ],
   "source": [
    "\n",
    "nltk.download('punkt')\n",
    "nltk.download('stopwords')\n",
    "nltk.download('wordnet')\n",
    "nltk.download('omw-1.4')\n"
   ]
  },
  {
   "cell_type": "markdown",
   "metadata": {},
   "source": [
    "*Poner las palabras de StopWords*\n",
    "\n",
    "Las stopwords son palabras muy frecuentes en un dioma que generalmente no aportan mucho significado en el análisis de texto. En el contexto de este modelo, el identificar la sStopWords ayuda a reducir el ruido pata que palabras que aparecen casi todos los textos y no ayudan a diferencias noticias falsas de verdaderas. Al eliminarlas, el modelo se enfoxax en palabras más relevantes. Además, menos palabras en el texti significan menos dimensiones en los vectores de características, se reduce el tiempo de procesamiento y entrenamiento. Adicionalmente, algunas palabras vacías pueden aparecer más en ciertos tipos de noticias, pero no necesariamnete indican una falsedad, su presencia podría hacer qu eel modelo aprenda ptarones incorrectos. "
   ]
  },
  {
   "cell_type": "code",
   "execution_count": 182,
   "metadata": {},
   "outputs": [
    {
     "name": "stdout",
     "output_type": "stream",
     "text": [
      "{'entre', 'unos', 'tendremos', 'tendré', 'tuvieran', 'estuviese', 'tus', 'nosotros', 'estaré', 'otros', 'éramos', 'esté', 'fui', 'muchos', 'algo', 'hubiese', 'con', 'estaban', 'todo', 'serán', 'nuestro', 'sus', 'hay', 'estarían', 'tuve', 'tendría', 'estaría', 'tuviese', 'hubisteis', 'hubierais', 'ese', 'tuyas', 'estabas', 'el', 'suyas', 'hubiste', 'tuvisteis', 'me', 'estaríamos', 'estuvierais', 'eras', 'estuvo', 'otras', 'antes', 'tienes', 'tengas', 'tendréis', 'hemos', 'somos', 'estuvieras', 'tenías', 'estemos', 'estuvieran', 'tenéis', 'estés', 'como', 'fuésemos', 'estar', 'cuando', 'estadas', 'tuyo', 'tuviste', 'estén', 'habré', 'fueseis', 'tuvieron', 'otra', 'seríais', 'por', 'estuviera', 'hubieron', 'erais', 'le', 'era', 'ella', 'había', 'eres', 'algunas', 'tendrías', 'os', 'todos', 'tenidas', 'estuvimos', 'será', 'suya', 'tenemos', 'habían', 'tengo', 'mí', 'son', 'también', 'teníais', 'cual', 'suyos', 'tenido', 'tuviesen', 'habrás', 'fuiste', 'estuvieron', 'teniendo', 'de', 'para', 'él', 'algunos', 'seré', 'las', 'fue', 'estarías', 'habidas', 'ni', 'hubieran', 'estaréis', 'habrán', 'sentida', 'tengamos', 'estábamos', 'estuve', 'fuisteis', 'desde', 'has', 'estéis', 'estuvieses', 'durante', 'no', 'contra', 'este', 'fuimos', 'una', 'tenían', 'quien', 'estará', 'habríamos', 'seáis', 'ti', 'estando', 'los', 'sentidos', 'tu', 'hubo', 'estamos', 'hubiera', 'tuvierais', 'tuya', 'tuviéramos', 'hubiéramos', 'sí', 'se', 'estaríais', 'al', 'esos', 'teníamos', 'tuvimos', 'más', 'sería', 'eran', 'nos', 'tienen', 'yo', 'su', 'hayamos', 'sin', 'tendríamos', 'hubiesen', 'seas', 'eso', 'nuestras', 'seremos', 'sentidas', 'he', 'ha', 'vuestro', 'vuestros', 'habrías', 'habríais', 'es', 'fuéramos', 'fuerais', 'e', 'te', 'del', 'mis', 'sentid', 'tengáis', 'hube', 'tendrá', 'hayas', 'estas', 'mi', 'serás', 'mío', 'haya', 'estuviéramos', 'tenida', 'estaremos', 'tenía', 'fuesen', 'hayáis', 'soy', 'tuviera', 'quienes', 'estaba', 'esa', 'míos', 'esas', 'estuvisteis', 'tuvieras', 'estados', 'sea', 'nuestros', 'vuestras', 'vuestra', 'nada', 'porque', 'hayan', 'estuviésemos', 'y', 'serías', 'han', 'a', 'qué', 'uno', 'hubieseis', 'sobre', 'habías', 'estáis', 'ante', 'habéis', 'habido', 'que', 'tendrás', 'estarán', 'habiendo', 'tenga', 'poco', 'estuviesen', 'tuvieses', 'habidos', 'muy', 'donde', 'están', 'habréis', 'sintiendo', 'tiene', 'tuyos', 'tuvo', 'hubiésemos', 'sois', 'tú', 'fueron', 'estado', 'tendrían', 'seréis', 'sean', 'habíais', 'tendrán', 'mías', 'habremos', 'habrían', 'en', 'vosotras', 'siente', 'tengan', 'tuvieseis', 'habrá', 'ellos', 'otro', 'hubieras', 'nuestra', 'ellas', 'fueran', 'estabais', 'estoy', 'les', 'estada', 'mía', 'estás', 'ya', 'seamos', 'tenidos', 'vosotros', 'tened', 'estuvieseis', 'mucho', 'tuviésemos', 'fuera', 'sentido', 'estarás', 'está', 'esto', 'habría', 'pero', 'esta', 'nosotras', 'estuviste', 'lo', 'o', 'la', 'tanto', 'fueras', 'serían', 'suyo', 'hasta', 'hubieses', 'estos', 'habíamos', 'fueses', 'fuese', 'un', 'hubimos', 'tendríais', 'estad', 'habida', 'seríamos'}\n"
     ]
    },
    {
     "name": "stderr",
     "output_type": "stream",
     "text": [
      "[nltk_data] Downloading package stopwords to\n",
      "[nltk_data]     C:\\Users\\SebOg\\AppData\\Roaming\\nltk_data...\n",
      "[nltk_data]   Package stopwords is already up-to-date!\n"
     ]
    }
   ],
   "source": [
    "import nltk\n",
    "nltk.download('stopwords')\n",
    "from nltk.corpus import stopwords\n",
    "\n",
    "# Lista de StopWords en español\n",
    "stop_words = set(stopwords.words('spanish'))\n",
    "print(stop_words)"
   ]
  },
  {
   "cell_type": "markdown",
   "metadata": {},
   "source": [
    "**5.1 Tokenización de los datos**"
   ]
  },
  {
   "cell_type": "code",
   "execution_count": 183,
   "metadata": {},
   "outputs": [],
   "source": [
    "from nltk.tokenize import word_tokenize\n",
    "\n",
    "def tokenize(text):\n",
    "    tokens = word_tokenize(text)\n",
    "    return tokens\n"
   ]
  },
  {
   "cell_type": "markdown",
   "metadata": {},
   "source": [
    "**5.2 Lematización de los datos**"
   ]
  },
  {
   "cell_type": "code",
   "execution_count": 184,
   "metadata": {},
   "outputs": [],
   "source": [
    "def lematizar(tokens):\n",
    "    doc=nlp(\" \".join(tokens))\n",
    "    lemmas=[token.lemma_ for token in doc if token.text not in stop_words]\n",
    "    return lemmas"
   ]
  },
  {
   "cell_type": "markdown",
   "metadata": {},
   "source": [
    "**5.3 Aplicar el Procesamiento**"
   ]
  },
  {
   "cell_type": "code",
   "execution_count": 185,
   "metadata": {},
   "outputs": [],
   "source": [
    "def preprocesar(text):\n",
    "    tokens=tokenize(text)\n",
    "    lemmas=lematizar(tokens)\n",
    "    return \"\".join(lemmas)  "
   ]
  },
  {
   "cell_type": "markdown",
   "metadata": {},
   "source": [
    "*5.3.1 Procesamiento para los datos de entrenamiento*\n",
    "\n",
    "La tokenización y lematización son pasos clave en el procesamiento del lenguaje natural por que ayudan a mejorar la calidad de los datos antes de entrenar un modelo. La tokenizaicón consiste en dividir el texto en palabras individuales conocidad como tokens que permite separar palabras compuestas o concatenadas y de esta forma poder manejar mejor palabras con puntuación o caracteres especiales y permitir un análisis más granular del contenido. Por otro lado la lematización reduce cada palabra a su forma base (lema) permite unificar variantes de una palabra y así reducir la cantidad de palabras únicas, mejorando la eficiencia del modelo y evitar que palabras conjugadas o en plural generen ruido en los datos. \n",
    "\n",
    "Para este caso en específico, el modelo aprende patrones más generales en los textos y no se ve afectado por variaciones morfológicas innecesarias. Al reducir la cantidad de palabras distintas,s e mejora la eficiencia del entrenamiento y se evitan sesgos de palabras irrelevantes que dificulten la detección de noticias falsas. Del mismo modo, se eliminan diferencias accidentales entre noticias falsas y verdaderas basadas en conjugaciones o pluralidad. "
   ]
  },
  {
   "cell_type": "code",
   "execution_count": 186,
   "metadata": {},
   "outputs": [
    {
     "name": "stderr",
     "output_type": "stream",
     "text": [
      "[nltk_data] Downloading package punkt to\n",
      "[nltk_data]     C:\\Users\\SebOg\\AppData\\Roaming\\nltk_data...\n",
      "[nltk_data]   Package punkt is already up-to-date!\n"
     ]
    },
    {
     "name": "stdout",
     "output_type": "stream",
     "text": [
      "hasta aca funciono\n"
     ]
    },
    {
     "data": {
      "text/html": [
       "<div>\n",
       "<style scoped>\n",
       "    .dataframe tbody tr th:only-of-type {\n",
       "        vertical-align: middle;\n",
       "    }\n",
       "\n",
       "    .dataframe tbody tr th {\n",
       "        vertical-align: top;\n",
       "    }\n",
       "\n",
       "    .dataframe thead th {\n",
       "        text-align: right;\n",
       "    }\n",
       "</style>\n",
       "<table border=\"1\" class=\"dataframe\">\n",
       "  <thead>\n",
       "    <tr style=\"text-align: right;\">\n",
       "      <th></th>\n",
       "      <th>ID</th>\n",
       "      <th>Label</th>\n",
       "      <th>Titulo</th>\n",
       "      <th>Descripcion</th>\n",
       "      <th>Fecha</th>\n",
       "      <th>longitud_titulo</th>\n",
       "      <th>longitud_descripcion</th>\n",
       "      <th>año</th>\n",
       "      <th>Titulo_procesado</th>\n",
       "      <th>Descripcion_procesado</th>\n",
       "    </tr>\n",
       "  </thead>\n",
       "  <tbody>\n",
       "    <tr>\n",
       "      <th>0</th>\n",
       "      <td>ID</td>\n",
       "      <td>1</td>\n",
       "      <td>the guardian va con sánchez europa necesita qu...</td>\n",
       "      <td>el diario británico publicó este pasado jueves...</td>\n",
       "      <td>2023-02-06</td>\n",
       "      <td>77</td>\n",
       "      <td>218</td>\n",
       "      <td>2023.0</td>\n",
       "      <td>theguardiarirsánchezeuropanecesitarapuestadarf...</td>\n",
       "      <td>diariobritánicopublicarpasadojueveseditorialpr...</td>\n",
       "    </tr>\n",
       "    <tr>\n",
       "      <th>1</th>\n",
       "      <td>ID</td>\n",
       "      <td>0</td>\n",
       "      <td>revelan que el gobierno negocio la liberación ...</td>\n",
       "      <td>revelan que el gobierno negocio la liberación ...</td>\n",
       "      <td>2023-01-10</td>\n",
       "      <td>104</td>\n",
       "      <td>3260</td>\n",
       "      <td>2023.0</td>\n",
       "      <td>revelargobiernonegocioliberaciónmirelcambiooto...</td>\n",
       "      <td>revelargobiernonegocioliberaciónmirelcambiooto...</td>\n",
       "    </tr>\n",
       "    <tr>\n",
       "      <th>3</th>\n",
       "      <td>ID</td>\n",
       "      <td>1</td>\n",
       "      <td>iglesias alienta a yolanda díaz erc y eh bildu...</td>\n",
       "      <td>en política igual que hay que negociar con los...</td>\n",
       "      <td>2022-03-01</td>\n",
       "      <td>110</td>\n",
       "      <td>133</td>\n",
       "      <td>2022.0</td>\n",
       "      <td>iglesiaalentaryolandadíazercehbildunegociarrea...</td>\n",
       "      <td>políticaigualnegociarempresarionegociargrupopa...</td>\n",
       "    </tr>\n",
       "    <tr>\n",
       "      <th>4</th>\n",
       "      <td>ID</td>\n",
       "      <td>0</td>\n",
       "      <td>puigdemont no sería ninguna tragedia una repet...</td>\n",
       "      <td>en una entrevista en el punt avui el líder de ...</td>\n",
       "      <td>2018-09-03</td>\n",
       "      <td>72</td>\n",
       "      <td>242</td>\n",
       "      <td>2018.0</td>\n",
       "      <td>puigdemontningunotragediarepeticiónelección</td>\n",
       "      <td>entrevistapuntavuilíderjxcatdesdramatizarposib...</td>\n",
       "    </tr>\n",
       "    <tr>\n",
       "      <th>9</th>\n",
       "      <td>ID</td>\n",
       "      <td>0</td>\n",
       "      <td>la ayusización del bng santiago abascal instru...</td>\n",
       "      <td>pablo santiago abascal planea vivir de las ren...</td>\n",
       "      <td>2021-10-05</td>\n",
       "      <td>109</td>\n",
       "      <td>232</td>\n",
       "      <td>2021.0</td>\n",
       "      <td>ayusizaciónbngsantiagoabascalinstruirseguirest...</td>\n",
       "      <td>pablosantiagoabascalplanearvivirrentaarrollado...</td>\n",
       "    </tr>\n",
       "  </tbody>\n",
       "</table>\n",
       "</div>"
      ],
      "text/plain": [
       "   ID  Label                                             Titulo  \\\n",
       "0  ID      1  the guardian va con sánchez europa necesita qu...   \n",
       "1  ID      0  revelan que el gobierno negocio la liberación ...   \n",
       "3  ID      1  iglesias alienta a yolanda díaz erc y eh bildu...   \n",
       "4  ID      0  puigdemont no sería ninguna tragedia una repet...   \n",
       "9  ID      0  la ayusización del bng santiago abascal instru...   \n",
       "\n",
       "                                         Descripcion      Fecha  \\\n",
       "0  el diario británico publicó este pasado jueves... 2023-02-06   \n",
       "1  revelan que el gobierno negocio la liberación ... 2023-01-10   \n",
       "3  en política igual que hay que negociar con los... 2022-03-01   \n",
       "4  en una entrevista en el punt avui el líder de ... 2018-09-03   \n",
       "9  pablo santiago abascal planea vivir de las ren... 2021-10-05   \n",
       "\n",
       "   longitud_titulo  longitud_descripcion     año  \\\n",
       "0               77                   218  2023.0   \n",
       "1              104                  3260  2023.0   \n",
       "3              110                   133  2022.0   \n",
       "4               72                   242  2018.0   \n",
       "9              109                   232  2021.0   \n",
       "\n",
       "                                    Titulo_procesado  \\\n",
       "0  theguardiarirsánchezeuropanecesitarapuestadarf...   \n",
       "1  revelargobiernonegocioliberaciónmirelcambiooto...   \n",
       "3  iglesiaalentaryolandadíazercehbildunegociarrea...   \n",
       "4        puigdemontningunotragediarepeticiónelección   \n",
       "9  ayusizaciónbngsantiagoabascalinstruirseguirest...   \n",
       "\n",
       "                               Descripcion_procesado  \n",
       "0  diariobritánicopublicarpasadojueveseditorialpr...  \n",
       "1  revelargobiernonegocioliberaciónmirelcambiooto...  \n",
       "3  políticaigualnegociarempresarionegociargrupopa...  \n",
       "4  entrevistapuntavuilíderjxcatdesdramatizarposib...  \n",
       "9  pablosantiagoabascalplanearvivirrentaarrollado...  "
      ]
     },
     "execution_count": 186,
     "metadata": {},
     "output_type": "execute_result"
    }
   ],
   "source": [
    "import nltk\n",
    "nltk.download('punkt')\n",
    "\n",
    "# Procesar los títulos y descripciones\n",
    "df_entrenamiento['Titulo_procesado'] = df_entrenamiento['Titulo'].apply(preprocesar)\n",
    "print(\"hasta aca funciono\")\n",
    "df_entrenamiento['Descripcion_procesado'] = df_entrenamiento['Descripcion'].apply(preprocesar)\n",
    "\n",
    "df_entrenamiento.head()"
   ]
  },
  {
   "cell_type": "markdown",
   "metadata": {},
   "source": [
    "*5.3.2 Procesamiento de los datos de prueba* \n",
    "\n",
    "El procesar los textos con tokenización y lematización tiene varias ventajas clave para el modelo de detección de noticias falsas. Esto es importante pues al lematizar y tokenizar, se está eliminando palabras irrelevantes y reduciendo de esta forma variaciones de una misma palabra. Esto ayuda a que el modelo aprenda mejor los ptarones relevantes en las noticias. Sin este procesamiento, cada variación de una palabra se trataría como una entidad separada, aumentando el número de términos en la representación del texto. Así mismo, la lematización ayuda a que noticias con el mismo significado pero diferentes conjugaciones sean tratadas de la misma manera. Esto es crucial por que noticias verdaderas y falsas suelen usar palabras similares pero con ligeros cambios en la estructura. De la misma manera, el modelo no aprenderá solo palabras exactas, sino sus conceptos y relaciones. Esto permite que el modelo detecte noticias falsas incluso si el texto no es idéntico a los ejemplos de entrenamiento. "
   ]
  },
  {
   "cell_type": "code",
   "execution_count": 187,
   "metadata": {},
   "outputs": [
    {
     "name": "stdout",
     "output_type": "stream",
     "text": [
      "hasta aca funciono\n"
     ]
    },
    {
     "data": {
      "text/html": [
       "<div>\n",
       "<style scoped>\n",
       "    .dataframe tbody tr th:only-of-type {\n",
       "        vertical-align: middle;\n",
       "    }\n",
       "\n",
       "    .dataframe tbody tr th {\n",
       "        vertical-align: top;\n",
       "    }\n",
       "\n",
       "    .dataframe thead th {\n",
       "        text-align: right;\n",
       "    }\n",
       "</style>\n",
       "<table border=\"1\" class=\"dataframe\">\n",
       "  <thead>\n",
       "    <tr style=\"text-align: right;\">\n",
       "      <th></th>\n",
       "      <th>ID</th>\n",
       "      <th>Titulo</th>\n",
       "      <th>Descripcion</th>\n",
       "      <th>Fecha</th>\n",
       "      <th>longitud_titulo</th>\n",
       "      <th>longitud_descripcion</th>\n",
       "      <th>año</th>\n",
       "      <th>Titulo_procesado</th>\n",
       "      <th>Descripcion_procesado</th>\n",
       "    </tr>\n",
       "  </thead>\n",
       "  <tbody>\n",
       "    <tr>\n",
       "      <th>0</th>\n",
       "      <td>ID</td>\n",
       "      <td>la mesa del congreso censura un encuentro inte...</td>\n",
       "      <td>portavoces de ciudadanos pnv upn psoe unidos p...</td>\n",
       "      <td>2018-10-30</td>\n",
       "      <td>100</td>\n",
       "      <td>119</td>\n",
       "      <td>2018</td>\n",
       "      <td>mesacongresocensurarencuentrointernacionalparl...</td>\n",
       "      <td>portavozciudadanopnvupnpsoeunidosppequodenunci...</td>\n",
       "    </tr>\n",
       "    <tr>\n",
       "      <th>1</th>\n",
       "      <td>ID</td>\n",
       "      <td>la brecha digital que dificulta el acceso de a...</td>\n",
       "      <td>no es la primera vez que los ciudadanos vulner...</td>\n",
       "      <td>2023-03-15</td>\n",
       "      <td>121</td>\n",
       "      <td>197</td>\n",
       "      <td>2023</td>\n",
       "      <td>brechadigitaldificultaraccesoayudapersonavulne...</td>\n",
       "      <td>primerovezciudadanovulnerabletoparobstáculohor...</td>\n",
       "    </tr>\n",
       "    <tr>\n",
       "      <th>2</th>\n",
       "      <td>ID</td>\n",
       "      <td>pp apremia al equo a presentar una propuesta d...</td>\n",
       "      <td>el partido morado reprocha que los socialistas...</td>\n",
       "      <td>2019-07-01</td>\n",
       "      <td>95</td>\n",
       "      <td>215</td>\n",
       "      <td>2019</td>\n",
       "      <td>ppapremiarequopresentarpropuestagobiernocritic...</td>\n",
       "      <td>partidomoradoreprocharsocialistaparalizadocong...</td>\n",
       "    </tr>\n",
       "    <tr>\n",
       "      <th>3</th>\n",
       "      <td>ID</td>\n",
       "      <td>de soberano garante de la democracia a rey cor...</td>\n",
       "      <td>la renuncia de felipe vi a su herencia procede...</td>\n",
       "      <td>2020-03-16</td>\n",
       "      <td>75</td>\n",
       "      <td>446</td>\n",
       "      <td>2020</td>\n",
       "      <td>soberanogarantedemocraciareycorruptoapartadode...</td>\n",
       "      <td>renunciafelipeverherenciaprocedentemultimillon...</td>\n",
       "    </tr>\n",
       "    <tr>\n",
       "      <th>4</th>\n",
       "      <td>ID</td>\n",
       "      <td>el gobierno aprobará este martes detraer los b...</td>\n",
       "      <td>el ejecutivo también prorrogará la suspensión ...</td>\n",
       "      <td>2021-09-13</td>\n",
       "      <td>132</td>\n",
       "      <td>343</td>\n",
       "      <td>2021</td>\n",
       "      <td>gobiernoaprobarmartesdetraerbeneficioextraordi...</td>\n",
       "      <td>ejecutivoprorrogacersuspensiónimpuestogeneraci...</td>\n",
       "    </tr>\n",
       "  </tbody>\n",
       "</table>\n",
       "</div>"
      ],
      "text/plain": [
       "   ID                                             Titulo  \\\n",
       "0  ID  la mesa del congreso censura un encuentro inte...   \n",
       "1  ID  la brecha digital que dificulta el acceso de a...   \n",
       "2  ID  pp apremia al equo a presentar una propuesta d...   \n",
       "3  ID  de soberano garante de la democracia a rey cor...   \n",
       "4  ID  el gobierno aprobará este martes detraer los b...   \n",
       "\n",
       "                                         Descripcion      Fecha  \\\n",
       "0  portavoces de ciudadanos pnv upn psoe unidos p... 2018-10-30   \n",
       "1  no es la primera vez que los ciudadanos vulner... 2023-03-15   \n",
       "2  el partido morado reprocha que los socialistas... 2019-07-01   \n",
       "3  la renuncia de felipe vi a su herencia procede... 2020-03-16   \n",
       "4  el ejecutivo también prorrogará la suspensión ... 2021-09-13   \n",
       "\n",
       "   longitud_titulo  longitud_descripcion   año  \\\n",
       "0              100                   119  2018   \n",
       "1              121                   197  2023   \n",
       "2               95                   215  2019   \n",
       "3               75                   446  2020   \n",
       "4              132                   343  2021   \n",
       "\n",
       "                                    Titulo_procesado  \\\n",
       "0  mesacongresocensurarencuentrointernacionalparl...   \n",
       "1  brechadigitaldificultaraccesoayudapersonavulne...   \n",
       "2  ppapremiarequopresentarpropuestagobiernocritic...   \n",
       "3  soberanogarantedemocraciareycorruptoapartadode...   \n",
       "4  gobiernoaprobarmartesdetraerbeneficioextraordi...   \n",
       "\n",
       "                               Descripcion_procesado  \n",
       "0  portavozciudadanopnvupnpsoeunidosppequodenunci...  \n",
       "1  primerovezciudadanovulnerabletoparobstáculohor...  \n",
       "2  partidomoradoreprocharsocialistaparalizadocong...  \n",
       "3  renunciafelipeverherenciaprocedentemultimillon...  \n",
       "4  ejecutivoprorrogacersuspensiónimpuestogeneraci...  "
      ]
     },
     "execution_count": 187,
     "metadata": {},
     "output_type": "execute_result"
    }
   ],
   "source": [
    "\n",
    "\n",
    "# Procesar los títulos y descripciones\n",
    "df_prueba['Titulo_procesado'] = df_prueba['Titulo'].apply(preprocesar)\n",
    "print(\"hasta aca funciono\")\n",
    "df_prueba['Descripcion_procesado'] = df_prueba['Descripcion'].apply(preprocesar)\n",
    "\n",
    "df_prueba.head()"
   ]
  },
  {
   "cell_type": "markdown",
   "metadata": {},
   "source": [
    "*5.3.3 Unir el título y descripción de los datos de entrenamiento ya procesados*\n",
    "\n",
    "El concatenar el Título y la Descripción permite que en lugar de tratar el título y la descripción por separado, los une en un solo texto para que el modelo tenga más información en cada muestra. Esto resulta útil por que el título suele ser corto y puede no contener suficiente contexto para que el modelo clasifique correctamente la noticia. Además, al entrenar modelos NLP, es más efectivo tener más palabras y contexto en cada entrada. Esto se debe a que un título puede ser ambiguo por sí solo, pero con la descripción completa se reduce la posibilidad de errores en la clasificación."
   ]
  },
  {
   "cell_type": "code",
   "execution_count": 188,
   "metadata": {},
   "outputs": [],
   "source": [
    "textos_entrenamiento = df_entrenamiento['Titulo_procesado'] + \" \" + df_entrenamiento['Descripcion_procesado']\n"
   ]
  },
  {
   "cell_type": "markdown",
   "metadata": {},
   "source": [
    "*5.3.4 Unir el título y descripción de los datos de prueba ya procesados*\n",
    "\n",
    "El comcatenar estas dos columnas permite que si se entrenó el modelo con lso textos de entrenamiento, se debe realizar lo mismo en los datos de prueba para que el modelo pueda realizar las predicciones correctamente. Si solo se utilizan los títulos o solo las descripciones en los datos de prueba, pero se entrenó con ambos, el modelo podría hacer predicciones erróneas. "
   ]
  },
  {
   "cell_type": "code",
   "execution_count": 189,
   "metadata": {},
   "outputs": [],
   "source": [
    "textos_prueba = df_prueba['Titulo_procesado'] + \" \" + df_prueba['Descripcion_procesado']\n",
    "\n"
   ]
  },
  {
   "cell_type": "markdown",
   "metadata": {},
   "source": [
    "**5.4 Vectorización de los datos para los modelos**"
   ]
  },
  {
   "cell_type": "markdown",
   "metadata": {},
   "source": [
    "*5.4.1 Vectorización con BoW para los modelos de Naive Bayes, Random Forest y Regresión Logística*"
   ]
  },
  {
   "cell_type": "code",
   "execution_count": 190,
   "metadata": {},
   "outputs": [],
   "source": [
    "from sklearn.feature_extraction.text import CountVectorizer\n"
   ]
  },
  {
   "cell_type": "markdown",
   "metadata": {},
   "source": [
    "*5.4.1-1 Vectorización para los datos de entrenamiento*\n",
    "\n",
    "Esta aplicación de Bag of Words para transformar los textos en una representación numérica que pueda ser utilizada por un modelo. Este crea un vectoriador de texto basado en la frecuencia de palabras y cuantas veces aparece cada una de estas palabras en cada docuemnto. Luego se aprende el vocabulario de los datos de entrenamiento y se convierten los textos enuna matriz dispersa donde cada fila representa un documento y cada columna una palabra del vocabulario. Esto es útil para el modelo pues permite detectar patrones en las palabras más comunes en noticias falsas y reales. "
   ]
  },
  {
   "cell_type": "code",
   "execution_count": 191,
   "metadata": {},
   "outputs": [],
   "source": [
    "vectorizador_bow=CountVectorizer() \n",
    "\n",
    "x_bow=vectorizador_bow.fit_transform(textos_entrenamiento)"
   ]
  },
  {
   "cell_type": "markdown",
   "metadata": {},
   "source": [
    "*5.4.2 TF-IDF sin IDF para Naive Bayes*"
   ]
  },
  {
   "cell_type": "code",
   "execution_count": 192,
   "metadata": {},
   "outputs": [],
   "source": [
    "from sklearn.feature_extraction.text import TfidfVectorizer\n"
   ]
  },
  {
   "cell_type": "markdown",
   "metadata": {},
   "source": [
    "*5.4.2-1 TF-IDF para los datos de entrenamiento*\n",
    "\n",
    "Esta transformación permite pasar los textos de entrenamiento en una representación numérica que pueda ser utilizada por el modelo. Ya que los modelos de aprendizaje automático no pueden trabjar direcatemnte con texto, estos se deben convertir las palabras en números, en donde cada docuemnto se representa como yn vector de frecuencias normalizadas de las palabras que contiene. EL no usar el idf beneficia a modelos basados en probabilidad como Naives Bayes, esto se debe a que esttos modelos funcionan mejor con frecuencias absolutas en lugar de pesos logarítmicos. Adicionalemnet, evita el sesgo hacia palabras muy frecuentes evitando asó que tengan demasiado peso en la clasificación. COn esta transformación, el modelo no se memoriza palabras exactas, sino que aprende patrones de frecuencia en los textos, lo que ayuda a detectar noticias falsas en datos nuevos. "
   ]
  },
  {
   "cell_type": "code",
   "execution_count": 193,
   "metadata": {},
   "outputs": [],
   "source": [
    "vectorizador_tfidf_nb=TfidfVectorizer(use_idf=False)\n",
    "x_entr_tfidf_nb=vectorizador_tfidf_nb.fit_transform(textos_entrenamiento)"
   ]
  },
  {
   "cell_type": "markdown",
   "metadata": {},
   "source": [
    "*5.4.3 TF-IDF para SVM y KNN*"
   ]
  },
  {
   "cell_type": "markdown",
   "metadata": {},
   "source": [
    "*5.4.3-1 TF-IDF para los datos de entrenamiento*\n",
    "\n",
    "Esto convierte los textos en una representación numérica con presos TF-IDF, lo que ayuda a mejorar la clasificación de noticias falsas. Esto convierte el texto en una matriz numérica ponderada, pues en lugar de contar palabras, asigna pesos a cada término. Terminos más raros es decir menos frecuentes en todos los docuemntos tienen más peso, mienttas que términos comunes tienen menos importancia. Adicionalmente, reduce la importancia de palabras demasiado comunes pero que no ayudan a diferenciar enbtre noticias reales y falsas. Con este modelo si una palabra aparece en todos los documentos su peso disminuye por que no es distintiva. Si una álabra es frecuente en una noticia pero rara en el resto del conjunto, tendrá un peso alto, lo que ayuda a identificar patrones útiles para el modelo. Este TF-IDF es ideal para modelos lineales como Regresión Logística, SVM y Redes neuronales, ya que mejora la separación entre clases. "
   ]
  },
  {
   "cell_type": "code",
   "execution_count": 194,
   "metadata": {},
   "outputs": [],
   "source": [
    "vectorizador_idf=TfidfVectorizer(use_idf=True)\n",
    "x_entr_idf=vectorizador_idf.fit_transform(textos_entrenamiento)"
   ]
  },
  {
   "cell_type": "markdown",
   "metadata": {},
   "source": [
    "**5.5 Convertir a DataFrame para inspección**"
   ]
  },
  {
   "cell_type": "markdown",
   "metadata": {},
   "source": [
    "*5.5.1 Convertir para los datos de entrenamiento*\n",
    "\n",
    "Este paso convierte la representación numérica de los textos en un DataFrame para poder analizar y entrenar el modelo. Esto es útil pues permite inspeccionar cómo se vectorizan los textos y ervisar si hay palabras demasiado frecuentes o poco onformativas pata detectar posibles problemas en la tokenización y lematización. Además, se puede analizar que palabras tienen más pesos en cada documento."
   ]
  },
  {
   "cell_type": "code",
   "execution_count": 195,
   "metadata": {},
   "outputs": [
    {
     "ename": "MemoryError",
     "evalue": "Unable to allocate 6.77 GiB for an array with shape (21613, 42040) and data type float64",
     "output_type": "error",
     "traceback": [
      "\u001b[1;31m---------------------------------------------------------------------------\u001b[0m",
      "\u001b[1;31mMemoryError\u001b[0m                               Traceback (most recent call last)",
      "Cell \u001b[1;32mIn[195], line 3\u001b[0m\n\u001b[0;32m      1\u001b[0m df_bow_entrenamiento\u001b[38;5;241m=\u001b[39mpd\u001b[38;5;241m.\u001b[39mDataFrame(x_bow\u001b[38;5;241m.\u001b[39mtoarray(), columns\u001b[38;5;241m=\u001b[39mvectorizador_bow\u001b[38;5;241m.\u001b[39mget_feature_names_out())\n\u001b[0;32m      2\u001b[0m df_idf_nb_entrenamiento\u001b[38;5;241m=\u001b[39mpd\u001b[38;5;241m.\u001b[39mDataFrame(x_entr_tfidf_nb\u001b[38;5;241m.\u001b[39mtoarray(), columns\u001b[38;5;241m=\u001b[39mvectorizador_tfidf_nb\u001b[38;5;241m.\u001b[39mget_feature_names_out())\n\u001b[1;32m----> 3\u001b[0m df_idf_entrenamiento\u001b[38;5;241m=\u001b[39mpd\u001b[38;5;241m.\u001b[39mDataFrame(x_entr_idf\u001b[38;5;241m.\u001b[39mtoarray(), columns\u001b[38;5;241m=\u001b[39mvectorizador_idf\u001b[38;5;241m.\u001b[39mget_feature_names_out())\n",
      "File \u001b[1;32mc:\\Users\\SebOg\\anaconda3\\Lib\\site-packages\\scipy\\sparse\\_compressed.py:1106\u001b[0m, in \u001b[0;36m_cs_matrix.toarray\u001b[1;34m(self, order, out)\u001b[0m\n\u001b[0;32m   1104\u001b[0m \u001b[38;5;28;01mif\u001b[39;00m out \u001b[38;5;129;01mis\u001b[39;00m \u001b[38;5;28;01mNone\u001b[39;00m \u001b[38;5;129;01mand\u001b[39;00m order \u001b[38;5;129;01mis\u001b[39;00m \u001b[38;5;28;01mNone\u001b[39;00m:\n\u001b[0;32m   1105\u001b[0m     order \u001b[38;5;241m=\u001b[39m \u001b[38;5;28mself\u001b[39m\u001b[38;5;241m.\u001b[39m_swap(\u001b[38;5;124m'\u001b[39m\u001b[38;5;124mcf\u001b[39m\u001b[38;5;124m'\u001b[39m)[\u001b[38;5;241m0\u001b[39m]\n\u001b[1;32m-> 1106\u001b[0m out \u001b[38;5;241m=\u001b[39m \u001b[38;5;28mself\u001b[39m\u001b[38;5;241m.\u001b[39m_process_toarray_args(order, out)\n\u001b[0;32m   1107\u001b[0m \u001b[38;5;28;01mif\u001b[39;00m \u001b[38;5;129;01mnot\u001b[39;00m (out\u001b[38;5;241m.\u001b[39mflags\u001b[38;5;241m.\u001b[39mc_contiguous \u001b[38;5;129;01mor\u001b[39;00m out\u001b[38;5;241m.\u001b[39mflags\u001b[38;5;241m.\u001b[39mf_contiguous):\n\u001b[0;32m   1108\u001b[0m     \u001b[38;5;28;01mraise\u001b[39;00m \u001b[38;5;167;01mValueError\u001b[39;00m(\u001b[38;5;124m'\u001b[39m\u001b[38;5;124mOutput array must be C or F contiguous\u001b[39m\u001b[38;5;124m'\u001b[39m)\n",
      "File \u001b[1;32mc:\\Users\\SebOg\\anaconda3\\Lib\\site-packages\\scipy\\sparse\\_base.py:1327\u001b[0m, in \u001b[0;36m_spbase._process_toarray_args\u001b[1;34m(self, order, out)\u001b[0m\n\u001b[0;32m   1325\u001b[0m     \u001b[38;5;28;01mreturn\u001b[39;00m out\n\u001b[0;32m   1326\u001b[0m \u001b[38;5;28;01melse\u001b[39;00m:\n\u001b[1;32m-> 1327\u001b[0m     \u001b[38;5;28;01mreturn\u001b[39;00m np\u001b[38;5;241m.\u001b[39mzeros(\u001b[38;5;28mself\u001b[39m\u001b[38;5;241m.\u001b[39mshape, dtype\u001b[38;5;241m=\u001b[39m\u001b[38;5;28mself\u001b[39m\u001b[38;5;241m.\u001b[39mdtype, order\u001b[38;5;241m=\u001b[39morder)\n",
      "\u001b[1;31mMemoryError\u001b[0m: Unable to allocate 6.77 GiB for an array with shape (21613, 42040) and data type float64"
     ]
    }
   ],
   "source": [
    "df_bow_entrenamiento=pd.DataFrame(x_bow.toarray(), columns=vectorizador_bow.get_feature_names_out())\n",
    "df_idf_nb_entrenamiento=pd.DataFrame(x_entr_tfidf_nb.toarray(), columns=vectorizador_tfidf_nb.get_feature_names_out())\n",
    "df_idf_entrenamiento=pd.DataFrame(x_entr_idf.toarray(), columns=vectorizador_idf.get_feature_names_out())\n",
    "\n"
   ]
  },
  {
   "cell_type": "markdown",
   "metadata": {},
   "source": [
    "**5.6 Revisión de Resultados**"
   ]
  },
  {
   "cell_type": "markdown",
   "metadata": {},
   "source": [
    "*Revisión de los datos de entrenamiento*\n",
    "\n",
    "Esta parte permite inspeccionar el preprocesamiento del texto y la transformación a representaciones como Bag of Words. Este muestra como se transforman los textos en feautres numéricas y ayuda a detectar problemas en el preprocesamiento antes de entrenar el modelo. "
   ]
  },
  {
   "cell_type": "code",
   "execution_count": null,
   "metadata": {},
   "outputs": [
    {
     "name": "stdout",
     "output_type": "stream",
     "text": [
      "Ejemplo de texto original:\n",
      " the guardian va con sánchez europa necesita que su apuesta dé sus frutos\n",
      "\n",
      "Texto procesado:\n",
      " theguardiarirsánchezeuropanecesitarapuestadarfruto\n",
      "\n",
      "Ejemplo de tokens después de tokenización y lematización:\n",
      " ['the', 'guardiar', 'ir', 'sánchez', 'europa', 'necesitar', 'apuesta', 'dar', 'fruto']\n",
      "\n",
      "BoW shape: (21613, 42040)\n"
     ]
    }
   ],
   "source": [
    "print(\"Ejemplo de texto original:\\n\", df_entrenamiento['Titulo'].iloc[0])\n",
    "print(\"\\nTexto procesado:\\n\", df_entrenamiento['Titulo_procesado'].iloc[0])\n",
    "print(\"\\nEjemplo de tokens después de tokenización y lematización:\\n\", lematizar(tokenize(df_entrenamiento['Titulo'].iloc[0])))\n",
    "print(\"\\nBoW shape:\", x_bow.shape)\n"
   ]
  },
  {
   "cell_type": "markdown",
   "metadata": {},
   "source": [
    "**6. Implementacion de los Algoritmos**\n",
    "\n",
    "A continuacion se presentan las implementaciones de los algoritmos Naive Bayes, Regresion Logistica, SVM y KNN. Como se habló anteriormente, estos algoritmos son conocidos por permitir hacer predicciones en base a unos datos clasificados en categorias."
   ]
  },
  {
   "cell_type": "markdown",
   "metadata": {},
   "source": [
    "*6.1 Implementacion de Naive Bayes*\n",
    "\n",
    "Para la implementacion de este algoritmo se utiliza la libreria de sklearn y se importa MultinomialNB"
   ]
  },
  {
   "cell_type": "code",
   "execution_count": 202,
   "metadata": {},
   "outputs": [
    {
     "name": "stdout",
     "output_type": "stream",
     "text": [
      " Evaluacion de Naive Bayes con BoW:\n",
      "Accuracy: 0.6144\n",
      "              precision    recall  f1-score   support\n",
      "\n",
      "           0       0.69      0.17      0.27      9176\n",
      "           1       0.61      0.94      0.74     12437\n",
      "\n",
      "    accuracy                           0.61     21613\n",
      "   macro avg       0.65      0.56      0.50     21613\n",
      "weighted avg       0.64      0.61      0.54     21613\n",
      "\n",
      "\n",
      " Evaluacion de Naive Bayes con TF-IDF (sin IDF):\n",
      "Accuracy: 0.6121\n",
      "              precision    recall  f1-score   support\n",
      "\n",
      "           0       0.85      0.11      0.19      9176\n",
      "           1       0.60      0.99      0.75     12437\n",
      "\n",
      "    accuracy                           0.61     21613\n",
      "   macro avg       0.72      0.55      0.47     21613\n",
      "weighted avg       0.70      0.61      0.51     21613\n",
      "\n"
     ]
    },
    {
     "name": "stderr",
     "output_type": "stream",
     "text": [
      "c:\\Users\\SebOg\\anaconda3\\Lib\\site-packages\\sklearn\\base.py:493: UserWarning: X does not have valid feature names, but MultinomialNB was fitted with feature names\n",
      "  warnings.warn(\n"
     ]
    }
   ],
   "source": [
    "import pandas as pd\n",
    "from sklearn.naive_bayes import MultinomialNB\n",
    "from sklearn.metrics import accuracy_score, classification_report\n",
    "\n",
    "X_train_bow = df_bow_entrenamiento\n",
    "X_train_tfidf = df_idf_nb_entrenamiento\n",
    "y_train = df_entrenamiento[\"Label\"]  \n",
    "\n",
    "modelo_nb_bow = MultinomialNB(alpha=1.0)\n",
    "modelo_nb_bow.fit(X_train_bow, y_train)\n",
    "\n",
    "modelo_nb_tfidf = MultinomialNB(alpha=1.0)\n",
    "modelo_nb_tfidf.fit(X_train_tfidf, y_train)\n",
    "\n",
    "X_test_bow = vectorizador_bow.transform(df_entrenamiento[\"Titulo\"] + \" \" + df_entrenamiento[\"Descripcion\"])\n",
    "X_test_tfidf = vectorizador_tfidf_nb.transform(df_entrenamiento[\"Titulo\"] + \" \" + df_entrenamiento[\"Descripcion\"])\n",
    "y_test = df_entrenamiento[\"Label\"] \n",
    "\n",
    "y_pred_bow = modelo_nb_bow.predict(X_test_bow)\n",
    "y_pred_tfidf = modelo_nb_tfidf.predict(X_test_tfidf)\n",
    "\n",
    "\n",
    "print(\" Evaluacion de Naive Bayes con BoW:\")\n",
    "print(f\"Accuracy: {accuracy_score(y_test, y_pred_bow):.4f}\")\n",
    "print(classification_report(y_test, y_pred_bow))\n",
    "\n",
    "print(\"\\n Evaluacion de Naive Bayes con TF-IDF (sin IDF):\")\n",
    "print(f\"Accuracy: {accuracy_score(y_test, y_pred_tfidf):.4f}\")\n",
    "print(classification_report(y_test, y_pred_tfidf))"
   ]
  },
  {
   "cell_type": "markdown",
   "metadata": {},
   "source": [
    "*6.2 Implementacion de Regresion Logistica*"
   ]
  },
  {
   "cell_type": "markdown",
   "metadata": {},
   "source": [
    "Para la implementacion de Regresion Logistica se realiza con sklearn."
   ]
  },
  {
   "cell_type": "code",
   "execution_count": null,
   "metadata": {},
   "outputs": [
    {
     "name": "stderr",
     "output_type": "stream",
     "text": [
      "c:\\Users\\SebOg\\anaconda3\\Lib\\site-packages\\sklearn\\base.py:493: UserWarning: X does not have valid feature names, but LogisticRegression was fitted with feature names\n",
      "  warnings.warn(\n"
     ]
    },
    {
     "name": "stdout",
     "output_type": "stream",
     "text": [
      " Evaluacion de Regresion Logistica con BoW:\n",
      "Precision: 0.6068\n",
      "              precision    recall  f1-score   support\n",
      "\n",
      "           0       0.91      0.08      0.15      9176\n",
      "           1       0.59      0.99      0.74     12437\n",
      "\n",
      "    accuracy                           0.61     21613\n",
      "   macro avg       0.75      0.54      0.45     21613\n",
      "weighted avg       0.73      0.61      0.49     21613\n",
      "\n",
      "\n",
      " Evaluacion de Regresión Logistica con TF-IDF (sin IDF):\n",
      "Precision: 0.5754\n",
      "              precision    recall  f1-score   support\n",
      "\n",
      "           0       0.00      0.00      0.00      9176\n",
      "           1       0.58      1.00      0.73     12437\n",
      "\n",
      "    accuracy                           0.58     21613\n",
      "   macro avg       0.29      0.50      0.37     21613\n",
      "weighted avg       0.33      0.58      0.42     21613\n",
      "\n"
     ]
    },
    {
     "data": {
      "image/png": "[encoded data removed]",
      "text/plain": [
       "<Figure size 1000x400 with 4 Axes>"
      ]
     },
     "metadata": {},
     "output_type": "display_data"
    }
   ],
   "source": [
    "from sklearn.linear_model import LogisticRegression\n",
    "from sklearn.metrics import confusion_matrix\n",
    "\n",
    "X_train_bow = df_bow_entrenamiento\n",
    "X_train_tfidf = df_idf_nb_entrenamiento\n",
    "y_train = df_entrenamiento[\"Label\"]  \n",
    "\n",
    "modelo_rl_bow = LogisticRegression(max_iter=1000)\n",
    "modelo_rl_bow.fit(X_train_bow, y_train)\n",
    "\n",
    "modelo_rl_tfidf = LogisticRegression(max_iter=1000)\n",
    "modelo_rl_tfidf.fit(X_train_tfidf, y_train)\n",
    "\n",
    "\n",
    "X_test_bow = vectorizador_bow.transform(df_entrenamiento[\"Titulo\"] + \" \" + df_entrenamiento[\"Descripcion\"])\n",
    "X_test_tfidf = vectorizador_tfidf_nb.transform(df_entrenamiento[\"Titulo\"] + \" \" + df_entrenamiento[\"Descripcion\"])\n",
    "y_test = df_entrenamiento[\"Label\"]  \n",
    "\n",
    "y_pred_bow = modelo_rl_bow.predict(X_test_bow)\n",
    "y_pred_tfidf = modelo_rl_tfidf.predict(X_test_tfidf)\n",
    "\n",
    "print(\" Evaluacion de Regresion Logistica con BoW:\")\n",
    "print(f\"Precision: {accuracy_score(y_test, y_pred_bow):.4f}\")\n",
    "print(classification_report(y_test, y_pred_bow))\n",
    "\n",
    "print(\"\\n Evaluacion de Regresión Logistica con TF-IDF (sin IDF):\")\n",
    "print(f\"Precision: {accuracy_score(y_test, y_pred_tfidf):.4f}\")\n",
    "print(classification_report(y_test, y_pred_tfidf))\n",
    "\n",
    "matriz_confusion_bow = confusion_matrix(y_test, y_pred_bow)\n",
    "matriz_confusion_tfidf = confusion_matrix(y_test, y_pred_tfidf)\n",
    "\n",
    "plt.figure(figsize=(10, 4))\n",
    "\n",
    "plt.subplot(1, 2, 1)\n",
    "sns.heatmap(matriz_confusion_bow, annot=True, fmt=\"d\", cmap=\"Blues\", xticklabels=[\"Veridico (0)\", \"Falso (1)\"], yticklabels=[\"Veridico (0)\", \"Falso (1)\"])\n",
    "plt.xlabel(\"Prediccion\")\n",
    "plt.ylabel(\"Real\")\n",
    "plt.title(\"Matriz de Confusion - BoW\")\n",
    "\n",
    "plt.subplot(1, 2, 2)\n",
    "sns.heatmap(matriz_confusion_tfidf, annot=True, fmt=\"d\", cmap=\"Oranges\", xticklabels=[\"Veridico (0)\", \"Falso (1)\"], yticklabels=[\"Veridico (0)\", \"Falso (1)\"])\n",
    "plt.xlabel(\"Prediccion\")\n",
    "plt.ylabel(\"Real\")\n",
    "plt.title(\"Matriz de Confusion - TF-IDF\")\n",
    "\n",
    "plt.tight_layout()\n",
    "plt.show()\n",
    "\n",
    "\n"
   ]
  },
  {
   "cell_type": "markdown",
   "metadata": {},
   "source": [
    "A partir de estos resultados, podemos observar a partir del TF-IDF (sin IDF) que el algoritmo presenta un problema de sesgo, puesto que asigna las predicciones como noticias falsas. Esto sucede debido a que el algoritmo tiene un umbral de 50% para decidir si una noticia es falsa o no, y si lo sobrepasa se le asigna 1. Dado esto, se decide implementar un pequeño cambio en su umbral para demostrar sus cambios."
   ]
  },
  {
   "cell_type": "code",
   "execution_count": 210,
   "metadata": {},
   "outputs": [
    {
     "name": "stderr",
     "output_type": "stream",
     "text": [
      "c:\\Users\\SebOg\\anaconda3\\Lib\\site-packages\\sklearn\\base.py:493: UserWarning: X does not have valid feature names, but LogisticRegression was fitted with feature names\n",
      "  warnings.warn(\n"
     ]
    },
    {
     "data": {
      "image/png": "[encoded data removed]",
      "text/plain": [
       "<Figure size 1000x400 with 2 Axes>"
      ]
     },
     "metadata": {},
     "output_type": "display_data"
    },
    {
     "name": "stdout",
     "output_type": "stream",
     "text": [
      "\n",
      " Evaluacion con umbral ajustado:\n",
      "Precision: 0.5327\n",
      "              precision    recall  f1-score   support\n",
      "\n",
      "           0       0.47      0.71      0.56      9176\n",
      "           1       0.65      0.40      0.50     12437\n",
      "\n",
      "    accuracy                           0.53     21613\n",
      "   macro avg       0.56      0.56      0.53     21613\n",
      "weighted avg       0.57      0.53      0.53     21613\n",
      "\n"
     ]
    }
   ],
   "source": [
    "#Modificacion al umbral\n",
    "y_prob_tfidf = modelo_rl_tfidf.predict_proba(X_test_tfidf)[:, 1] \n",
    "y_pred_tfidf_ajustado = (y_prob_tfidf > 0.59).astype(int) \n",
    "\n",
    "matriz_confusion_tfidf = confusion_matrix(y_test, y_pred_tfidf_ajustado)\n",
    "\n",
    "plt.figure(figsize=(10, 4))\n",
    "\n",
    "plt.subplot(1, 2, 2)\n",
    "sns.heatmap(matriz_confusion_tfidf, annot=True, fmt=\"d\", cmap=\"Oranges\", xticklabels=[\"Verídico (0)\", \"Falso (1)\"], yticklabels=[\"Verídico (0)\", \"Falso (1)\"])\n",
    "plt.xlabel(\"Predicción\")\n",
    "plt.ylabel(\"Real\")\n",
    "plt.title(\"Matriz de Confusión - TF-IDF\")\n",
    "\n",
    "plt.tight_layout()\n",
    "plt.show()\n",
    "\n",
    "\n",
    "print(\"\\n Evaluacion con umbral ajustado:\")\n",
    "print(f\"Precision: {accuracy_score(y_test, y_pred_tfidf_ajustado):.4f}\")\n",
    "print(classification_report(y_test, y_pred_tfidf_ajustado))\n"
   ]
  },
  {
   "cell_type": "markdown",
   "metadata": {},
   "source": [
    "Como se puede observar, al cambiar el umbral se cambia su precision y su f1-score, mostrando que es una mejor decision establecer un umbral mas alto al preestablecido por la libreria en el caso de estudio."
   ]
  }
 ],
 "metadata": {
  "kernelspec": {
   "display_name": "base",
   "language": "python",
   "name": "python3"
  },
  "language_info": {
   "codemirror_mode": {
    "name": "ipython",
    "version": 3
   },
   "file_extension": ".py",
   "mimetype": "text/x-python",
   "name": "python",
   "nbconvert_exporter": "python",
   "pygments_lexer": "ipython3",
   "version": "3.12.7"
  }
 },
 "nbformat": 4,
 "nbformat_minor": 2
}
