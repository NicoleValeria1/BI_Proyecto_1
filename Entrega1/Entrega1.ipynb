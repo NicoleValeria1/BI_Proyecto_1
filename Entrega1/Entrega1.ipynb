{
 "cells": [
  {
   "cell_type": "markdown",
   "metadata": {},
   "source": [
    "1.1 Importar librerias"
   ]
  },
  {
   "cell_type": "code",
   "execution_count": 80,
   "metadata": {},
   "outputs": [
    {
     "name": "stdout",
     "output_type": "stream",
     "text": [
      "Note: you may need to restart the kernel to use updated packages.\n"
     ]
    },
    {
     "name": "stderr",
     "output_type": "stream",
     "text": [
      "\n",
      "[notice] A new release of pip is available: 24.0 -> 25.0.1\n",
      "[notice] To update, run: C:\\Users\\danie\\AppData\\Local\\Microsoft\\WindowsApps\\PythonSoftwareFoundation.Python.3.11_qbz5n2kfra8p0\\python.exe -m pip install --upgrade pip\n"
     ]
    },
    {
     "name": "stdout",
     "output_type": "stream",
     "text": [
      "Requirement already satisfied: seaborn in c:\\users\\danie\\appdata\\local\\packages\\pythonsoftwarefoundation.python.3.11_qbz5n2kfra8p0\\localcache\\local-packages\\python311\\site-packages (0.13.2)\n",
      "Requirement already satisfied: numpy!=1.24.0,>=1.20 in c:\\users\\danie\\appdata\\local\\packages\\pythonsoftwarefoundation.python.3.11_qbz5n2kfra8p0\\localcache\\local-packages\\python311\\site-packages (from seaborn) (2.1.3)\n",
      "Requirement already satisfied: pandas>=1.2 in c:\\users\\danie\\appdata\\local\\packages\\pythonsoftwarefoundation.python.3.11_qbz5n2kfra8p0\\localcache\\local-packages\\python311\\site-packages (from seaborn) (2.2.3)\n",
      "Requirement already satisfied: matplotlib!=3.6.1,>=3.4 in c:\\users\\danie\\appdata\\local\\packages\\pythonsoftwarefoundation.python.3.11_qbz5n2kfra8p0\\localcache\\local-packages\\python311\\site-packages (from seaborn) (3.9.3)\n",
      "Requirement already satisfied: contourpy>=1.0.1 in c:\\users\\danie\\appdata\\local\\packages\\pythonsoftwarefoundation.python.3.11_qbz5n2kfra8p0\\localcache\\local-packages\\python311\\site-packages (from matplotlib!=3.6.1,>=3.4->seaborn) (1.3.1)\n",
      "Requirement already satisfied: cycler>=0.10 in c:\\users\\danie\\appdata\\local\\packages\\pythonsoftwarefoundation.python.3.11_qbz5n2kfra8p0\\localcache\\local-packages\\python311\\site-packages (from matplotlib!=3.6.1,>=3.4->seaborn) (0.12.1)\n",
      "Requirement already satisfied: fonttools>=4.22.0 in c:\\users\\danie\\appdata\\local\\packages\\pythonsoftwarefoundation.python.3.11_qbz5n2kfra8p0\\localcache\\local-packages\\python311\\site-packages (from matplotlib!=3.6.1,>=3.4->seaborn) (4.55.1)\n",
      "Requirement already satisfied: kiwisolver>=1.3.1 in c:\\users\\danie\\appdata\\local\\packages\\pythonsoftwarefoundation.python.3.11_qbz5n2kfra8p0\\localcache\\local-packages\\python311\\site-packages (from matplotlib!=3.6.1,>=3.4->seaborn) (1.4.7)\n",
      "Requirement already satisfied: packaging>=20.0 in c:\\users\\danie\\appdata\\local\\packages\\pythonsoftwarefoundation.python.3.11_qbz5n2kfra8p0\\localcache\\local-packages\\python311\\site-packages (from matplotlib!=3.6.1,>=3.4->seaborn) (24.2)\n",
      "Requirement already satisfied: pillow>=8 in c:\\users\\danie\\appdata\\local\\packages\\pythonsoftwarefoundation.python.3.11_qbz5n2kfra8p0\\localcache\\local-packages\\python311\\site-packages (from matplotlib!=3.6.1,>=3.4->seaborn) (11.0.0)\n",
      "Requirement already satisfied: pyparsing>=2.3.1 in c:\\users\\danie\\appdata\\local\\packages\\pythonsoftwarefoundation.python.3.11_qbz5n2kfra8p0\\localcache\\local-packages\\python311\\site-packages (from matplotlib!=3.6.1,>=3.4->seaborn) (3.2.0)\n",
      "Requirement already satisfied: python-dateutil>=2.7 in c:\\users\\danie\\appdata\\local\\packages\\pythonsoftwarefoundation.python.3.11_qbz5n2kfra8p0\\localcache\\local-packages\\python311\\site-packages (from matplotlib!=3.6.1,>=3.4->seaborn) (2.9.0.post0)\n",
      "Requirement already satisfied: pytz>=2020.1 in c:\\users\\danie\\appdata\\local\\packages\\pythonsoftwarefoundation.python.3.11_qbz5n2kfra8p0\\localcache\\local-packages\\python311\\site-packages (from pandas>=1.2->seaborn) (2024.1)\n",
      "Requirement already satisfied: tzdata>=2022.7 in c:\\users\\danie\\appdata\\local\\packages\\pythonsoftwarefoundation.python.3.11_qbz5n2kfra8p0\\localcache\\local-packages\\python311\\site-packages (from pandas>=1.2->seaborn) (2024.2)\n",
      "Requirement already satisfied: six>=1.5 in c:\\users\\danie\\appdata\\local\\packages\\pythonsoftwarefoundation.python.3.11_qbz5n2kfra8p0\\localcache\\local-packages\\python311\\site-packages (from python-dateutil>=2.7->matplotlib!=3.6.1,>=3.4->seaborn) (1.16.0)\n"
     ]
    }
   ],
   "source": [
    "%pip install seaborn\n",
    "\n"
   ]
  },
  {
   "cell_type": "code",
   "execution_count": 81,
   "metadata": {},
   "outputs": [
    {
     "name": "stdout",
     "output_type": "stream",
     "text": [
      "Requirement already satisfied: nltk in c:\\users\\danie\\appdata\\local\\packages\\pythonsoftwarefoundation.python.3.11_qbz5n2kfra8p0\\localcache\\local-packages\\python311\\site-packages (3.9.1)\n",
      "Requirement already satisfied: click in c:\\users\\danie\\appdata\\local\\packages\\pythonsoftwarefoundation.python.3.11_qbz5n2kfra8p0\\localcache\\local-packages\\python311\\site-packages (from nltk) (8.1.8)\n",
      "Requirement already satisfied: joblib in c:\\users\\danie\\appdata\\local\\packages\\pythonsoftwarefoundation.python.3.11_qbz5n2kfra8p0\\localcache\\local-packages\\python311\\site-packages (from nltk) (1.4.2)\n",
      "Requirement already satisfied: regex>=2021.8.3 in c:\\users\\danie\\appdata\\local\\packages\\pythonsoftwarefoundation.python.3.11_qbz5n2kfra8p0\\localcache\\local-packages\\python311\\site-packages (from nltk) (2024.11.6)\n",
      "Requirement already satisfied: tqdm in c:\\users\\danie\\appdata\\local\\packages\\pythonsoftwarefoundation.python.3.11_qbz5n2kfra8p0\\localcache\\local-packages\\python311\\site-packages (from nltk) (4.67.1)\n",
      "Requirement already satisfied: colorama in c:\\users\\danie\\appdata\\local\\packages\\pythonsoftwarefoundation.python.3.11_qbz5n2kfra8p0\\localcache\\local-packages\\python311\\site-packages (from click->nltk) (0.4.6)\n",
      "Note: you may need to restart the kernel to use updated packages.\n"
     ]
    },
    {
     "name": "stderr",
     "output_type": "stream",
     "text": [
      "\n",
      "[notice] A new release of pip is available: 24.0 -> 25.0.1\n",
      "[notice] To update, run: C:\\Users\\danie\\AppData\\Local\\Microsoft\\WindowsApps\\PythonSoftwareFoundation.Python.3.11_qbz5n2kfra8p0\\python.exe -m pip install --upgrade pip\n"
     ]
    }
   ],
   "source": [
    "%pip install nltk\n"
   ]
  },
  {
   "cell_type": "code",
   "execution_count": 82,
   "metadata": {},
   "outputs": [
    {
     "name": "stdout",
     "output_type": "stream",
     "text": [
      "Note: you may need to restart the kernel to use updated packages.Requirement already satisfied: scikit-learn in c:\\users\\danie\\appdata\\local\\packages\\pythonsoftwarefoundation.python.3.11_qbz5n2kfra8p0\\localcache\\local-packages\\python311\\site-packages (1.6.1)\n",
      "Requirement already satisfied: numpy>=1.19.5 in c:\\users\\danie\\appdata\\local\\packages\\pythonsoftwarefoundation.python.3.11_qbz5n2kfra8p0\\localcache\\local-packages\\python311\\site-packages (from scikit-learn) (2.1.3)\n",
      "Requirement already satisfied: scipy>=1.6.0 in c:\\users\\danie\\appdata\\local\\packages\\pythonsoftwarefoundation.python.3.11_qbz5n2kfra8p0\\localcache\\local-packages\\python311\\site-packages (from scikit-learn) (1.15.2)\n",
      "Requirement already satisfied: joblib>=1.2.0 in c:\\users\\danie\\appdata\\local\\packages\\pythonsoftwarefoundation.python.3.11_qbz5n2kfra8p0\\localcache\\local-packages\\python311\\site-packages (from scikit-learn) (1.4.2)\n",
      "Requirement already satisfied: threadpoolctl>=3.1.0 in c:\\users\\danie\\appdata\\local\\packages\\pythonsoftwarefoundation.python.3.11_qbz5n2kfra8p0\\localcache\\local-packages\\python311\\site-packages (from scikit-learn) (3.5.0)\n",
      "\n"
     ]
    },
    {
     "name": "stderr",
     "output_type": "stream",
     "text": [
      "\n",
      "[notice] A new release of pip is available: 24.0 -> 25.0.1\n",
      "[notice] To update, run: C:\\Users\\danie\\AppData\\Local\\Microsoft\\WindowsApps\\PythonSoftwareFoundation.Python.3.11_qbz5n2kfra8p0\\python.exe -m pip install --upgrade pip\n"
     ]
    }
   ],
   "source": [
    "%pip install scikit-learn\n"
   ]
  },
  {
   "cell_type": "code",
   "execution_count": 83,
   "metadata": {},
   "outputs": [
    {
     "name": "stdout",
     "output_type": "stream",
     "text": [
      "Requirement already satisfied: spacy in c:\\users\\danie\\appdata\\local\\packages\\pythonsoftwarefoundation.python.3.11_qbz5n2kfra8p0\\localcache\\local-packages\\python311\\site-packages (3.8.4)\n",
      "Requirement already satisfied: spacy-legacy<3.1.0,>=3.0.11 in c:\\users\\danie\\appdata\\local\\packages\\pythonsoftwarefoundation.python.3.11_qbz5n2kfra8p0\\localcache\\local-packages\\python311\\site-packages (from spacy) (3.0.12)\n",
      "Requirement already satisfied: spacy-loggers<2.0.0,>=1.0.0 in c:\\users\\danie\\appdata\\local\\packages\\pythonsoftwarefoundation.python.3.11_qbz5n2kfra8p0\\localcache\\local-packages\\python311\\site-packages (from spacy) (1.0.5)\n",
      "Requirement already satisfied: murmurhash<1.1.0,>=0.28.0 in c:\\users\\danie\\appdata\\local\\packages\\pythonsoftwarefoundation.python.3.11_qbz5n2kfra8p0\\localcache\\local-packages\\python311\\site-packages (from spacy) (1.0.12)\n",
      "Requirement already satisfied: cymem<2.1.0,>=2.0.2 in c:\\users\\danie\\appdata\\local\\packages\\pythonsoftwarefoundation.python.3.11_qbz5n2kfra8p0\\localcache\\local-packages\\python311\\site-packages (from spacy) (2.0.11)\n",
      "Requirement already satisfied: preshed<3.1.0,>=3.0.2 in c:\\users\\danie\\appdata\\local\\packages\\pythonsoftwarefoundation.python.3.11_qbz5n2kfra8p0\\localcache\\local-packages\\python311\\site-packages (from spacy) (3.0.9)\n",
      "Requirement already satisfied: thinc<8.4.0,>=8.3.4 in c:\\users\\danie\\appdata\\local\\packages\\pythonsoftwarefoundation.python.3.11_qbz5n2kfra8p0\\localcache\\local-packages\\python311\\site-packages (from spacy) (8.3.4)\n",
      "Requirement already satisfied: wasabi<1.2.0,>=0.9.1 in c:\\users\\danie\\appdata\\local\\packages\\pythonsoftwarefoundation.python.3.11_qbz5n2kfra8p0\\localcache\\local-packages\\python311\\site-packages (from spacy) (1.1.3)\n",
      "Requirement already satisfied: srsly<3.0.0,>=2.4.3 in c:\\users\\danie\\appdata\\local\\packages\\pythonsoftwarefoundation.python.3.11_qbz5n2kfra8p0\\localcache\\local-packages\\python311\\site-packages (from spacy) (2.5.1)\n",
      "Requirement already satisfied: catalogue<2.1.0,>=2.0.6 in c:\\users\\danie\\appdata\\local\\packages\\pythonsoftwarefoundation.python.3.11_qbz5n2kfra8p0\\localcache\\local-packages\\python311\\site-packages (from spacy) (2.0.10)\n",
      "Requirement already satisfied: weasel<0.5.0,>=0.1.0 in c:\\users\\danie\\appdata\\local\\packages\\pythonsoftwarefoundation.python.3.11_qbz5n2kfra8p0\\localcache\\local-packages\\python311\\site-packages (from spacy) (0.4.1)\n",
      "Requirement already satisfied: typer<1.0.0,>=0.3.0 in c:\\users\\danie\\appdata\\local\\packages\\pythonsoftwarefoundation.python.3.11_qbz5n2kfra8p0\\localcache\\local-packages\\python311\\site-packages (from spacy) (0.15.1)\n",
      "Requirement already satisfied: tqdm<5.0.0,>=4.38.0 in c:\\users\\danie\\appdata\\local\\packages\\pythonsoftwarefoundation.python.3.11_qbz5n2kfra8p0\\localcache\\local-packages\\python311\\site-packages (from spacy) (4.67.1)\n",
      "Requirement already satisfied: numpy>=1.19.0 in c:\\users\\danie\\appdata\\local\\packages\\pythonsoftwarefoundation.python.3.11_qbz5n2kfra8p0\\localcache\\local-packages\\python311\\site-packages (from spacy) (2.1.3)\n",
      "Requirement already satisfied: requests<3.0.0,>=2.13.0 in c:\\users\\danie\\appdata\\local\\packages\\pythonsoftwarefoundation.python.3.11_qbz5n2kfra8p0\\localcache\\local-packages\\python311\\site-packages (from spacy) (2.32.3)\n",
      "Requirement already satisfied: pydantic!=1.8,!=1.8.1,<3.0.0,>=1.7.4 in c:\\users\\danie\\appdata\\local\\packages\\pythonsoftwarefoundation.python.3.11_qbz5n2kfra8p0\\localcache\\local-packages\\python311\\site-packages (from spacy) (2.10.6)\n",
      "Requirement already satisfied: jinja2 in c:\\users\\danie\\appdata\\local\\packages\\pythonsoftwarefoundation.python.3.11_qbz5n2kfra8p0\\localcache\\local-packages\\python311\\site-packages (from spacy) (3.1.5)\n",
      "Requirement already satisfied: setuptools in c:\\program files\\windowsapps\\pythonsoftwarefoundation.python.3.11_3.11.2544.0_x64__qbz5n2kfra8p0\\lib\\site-packages (from spacy) (65.5.0)\n",
      "Requirement already satisfied: packaging>=20.0 in c:\\users\\danie\\appdata\\local\\packages\\pythonsoftwarefoundation.python.3.11_qbz5n2kfra8p0\\localcache\\local-packages\\python311\\site-packages (from spacy) (24.2)\n",
      "Requirement already satisfied: langcodes<4.0.0,>=3.2.0 in c:\\users\\danie\\appdata\\local\\packages\\pythonsoftwarefoundation.python.3.11_qbz5n2kfra8p0\\localcache\\local-packages\\python311\\site-packages (from spacy) (3.5.0)\n",
      "Requirement already satisfied: language-data>=1.2 in c:\\users\\danie\\appdata\\local\\packages\\pythonsoftwarefoundation.python.3.11_qbz5n2kfra8p0\\localcache\\local-packages\\python311\\site-packages (from langcodes<4.0.0,>=3.2.0->spacy) (1.3.0)\n",
      "Requirement already satisfied: annotated-types>=0.6.0 in c:\\users\\danie\\appdata\\local\\packages\\pythonsoftwarefoundation.python.3.11_qbz5n2kfra8p0\\localcache\\local-packages\\python311\\site-packages (from pydantic!=1.8,!=1.8.1,<3.0.0,>=1.7.4->spacy) (0.7.0)\n",
      "Requirement already satisfied: pydantic-core==2.27.2 in c:\\users\\danie\\appdata\\local\\packages\\pythonsoftwarefoundation.python.3.11_qbz5n2kfra8p0\\localcache\\local-packages\\python311\\site-packages (from pydantic!=1.8,!=1.8.1,<3.0.0,>=1.7.4->spacy) (2.27.2)\n",
      "Requirement already satisfied: typing-extensions>=4.12.2 in c:\\users\\danie\\appdata\\local\\packages\\pythonsoftwarefoundation.python.3.11_qbz5n2kfra8p0\\localcache\\local-packages\\python311\\site-packages (from pydantic!=1.8,!=1.8.1,<3.0.0,>=1.7.4->spacy) (4.12.2)\n",
      "Requirement already satisfied: charset-normalizer<4,>=2 in c:\\users\\danie\\appdata\\local\\packages\\pythonsoftwarefoundation.python.3.11_qbz5n2kfra8p0\\localcache\\local-packages\\python311\\site-packages (from requests<3.0.0,>=2.13.0->spacy) (3.4.1)\n",
      "Requirement already satisfied: idna<4,>=2.5 in c:\\users\\danie\\appdata\\local\\packages\\pythonsoftwarefoundation.python.3.11_qbz5n2kfra8p0\\localcache\\local-packages\\python311\\site-packages (from requests<3.0.0,>=2.13.0->spacy) (3.10)\n",
      "Requirement already satisfied: urllib3<3,>=1.21.1 in c:\\users\\danie\\appdata\\local\\packages\\pythonsoftwarefoundation.python.3.11_qbz5n2kfra8p0\\localcache\\local-packages\\python311\\site-packages (from requests<3.0.0,>=2.13.0->spacy) (2.3.0)\n",
      "Requirement already satisfied: certifi>=2017.4.17 in c:\\users\\danie\\appdata\\local\\packages\\pythonsoftwarefoundation.python.3.11_qbz5n2kfra8p0\\localcache\\local-packages\\python311\\site-packages (from requests<3.0.0,>=2.13.0->spacy) (2025.1.31)\n",
      "Requirement already satisfied: blis<1.3.0,>=1.2.0 in c:\\users\\danie\\appdata\\local\\packages\\pythonsoftwarefoundation.python.3.11_qbz5n2kfra8p0\\localcache\\local-packages\\python311\\site-packages (from thinc<8.4.0,>=8.3.4->spacy) (1.2.0)\n",
      "Requirement already satisfied: confection<1.0.0,>=0.0.1 in c:\\users\\danie\\appdata\\local\\packages\\pythonsoftwarefoundation.python.3.11_qbz5n2kfra8p0\\localcache\\local-packages\\python311\\site-packages (from thinc<8.4.0,>=8.3.4->spacy) (0.1.5)\n",
      "Requirement already satisfied: colorama in c:\\users\\danie\\appdata\\local\\packages\\pythonsoftwarefoundation.python.3.11_qbz5n2kfra8p0\\localcache\\local-packages\\python311\\site-packages (from tqdm<5.0.0,>=4.38.0->spacy) (0.4.6)\n",
      "Requirement already satisfied: click>=8.0.0 in c:\\users\\danie\\appdata\\local\\packages\\pythonsoftwarefoundation.python.3.11_qbz5n2kfra8p0\\localcache\\local-packages\\python311\\site-packages (from typer<1.0.0,>=0.3.0->spacy) (8.1.8)\n",
      "Requirement already satisfied: shellingham>=1.3.0 in c:\\users\\danie\\appdata\\local\\packages\\pythonsoftwarefoundation.python.3.11_qbz5n2kfra8p0\\localcache\\local-packages\\python311\\site-packages (from typer<1.0.0,>=0.3.0->spacy) (1.5.4)\n",
      "Requirement already satisfied: rich>=10.11.0 in c:\\users\\danie\\appdata\\local\\packages\\pythonsoftwarefoundation.python.3.11_qbz5n2kfra8p0\\localcache\\local-packages\\python311\\site-packages (from typer<1.0.0,>=0.3.0->spacy) (13.9.4)\n",
      "Requirement already satisfied: cloudpathlib<1.0.0,>=0.7.0 in c:\\users\\danie\\appdata\\local\\packages\\pythonsoftwarefoundation.python.3.11_qbz5n2kfra8p0\\localcache\\local-packages\\python311\\site-packages (from weasel<0.5.0,>=0.1.0->spacy) (0.20.0)\n",
      "Requirement already satisfied: smart-open<8.0.0,>=5.2.1 in c:\\users\\danie\\appdata\\local\\packages\\pythonsoftwarefoundation.python.3.11_qbz5n2kfra8p0\\localcache\\local-packages\\python311\\site-packages (from weasel<0.5.0,>=0.1.0->spacy) (7.1.0)\n",
      "Requirement already satisfied: MarkupSafe>=2.0 in c:\\users\\danie\\appdata\\local\\packages\\pythonsoftwarefoundation.python.3.11_qbz5n2kfra8p0\\localcache\\local-packages\\python311\\site-packages (from jinja2->spacy) (3.0.2)\n",
      "Requirement already satisfied: marisa-trie>=1.1.0 in c:\\users\\danie\\appdata\\local\\packages\\pythonsoftwarefoundation.python.3.11_qbz5n2kfra8p0\\localcache\\local-packages\\python311\\site-packages (from language-data>=1.2->langcodes<4.0.0,>=3.2.0->spacy) (1.2.1)\n",
      "Requirement already satisfied: markdown-it-py>=2.2.0 in c:\\users\\danie\\appdata\\local\\packages\\pythonsoftwarefoundation.python.3.11_qbz5n2kfra8p0\\localcache\\local-packages\\python311\\site-packages (from rich>=10.11.0->typer<1.0.0,>=0.3.0->spacy) (3.0.0)\n",
      "Requirement already satisfied: pygments<3.0.0,>=2.13.0 in c:\\users\\danie\\appdata\\local\\packages\\pythonsoftwarefoundation.python.3.11_qbz5n2kfra8p0\\localcache\\local-packages\\python311\\site-packages (from rich>=10.11.0->typer<1.0.0,>=0.3.0->spacy) (2.19.1)\n",
      "Requirement already satisfied: wrapt in c:\\users\\danie\\appdata\\local\\packages\\pythonsoftwarefoundation.python.3.11_qbz5n2kfra8p0\\localcache\\local-packages\\python311\\site-packages (from smart-open<8.0.0,>=5.2.1->weasel<0.5.0,>=0.1.0->spacy) (1.17.2)\n",
      "Requirement already satisfied: mdurl~=0.1 in c:\\users\\danie\\appdata\\local\\packages\\pythonsoftwarefoundation.python.3.11_qbz5n2kfra8p0\\localcache\\local-packages\\python311\\site-packages (from markdown-it-py>=2.2.0->rich>=10.11.0->typer<1.0.0,>=0.3.0->spacy) (0.1.2)\n",
      "Note: you may need to restart the kernel to use updated packages.\n"
     ]
    },
    {
     "name": "stderr",
     "output_type": "stream",
     "text": [
      "\n",
      "[notice] A new release of pip is available: 24.0 -> 25.0.1\n",
      "[notice] To update, run: C:\\Users\\danie\\AppData\\Local\\Microsoft\\WindowsApps\\PythonSoftwareFoundation.Python.3.11_qbz5n2kfra8p0\\python.exe -m pip install --upgrade pip\n"
     ]
    }
   ],
   "source": [
    "%pip install spacy\n"
   ]
  },
  {
   "cell_type": "code",
   "execution_count": 84,
   "metadata": {},
   "outputs": [
    {
     "data": {
      "text/plain": [
       "{'spacy_version': '3.8.4',\n",
       " 'location': 'C:\\\\Users\\\\danie\\\\AppData\\\\Local\\\\Packages\\\\PythonSoftwareFoundation.Python.3.11_qbz5n2kfra8p0\\\\LocalCache\\\\local-packages\\\\Python311\\\\site-packages\\\\spacy',\n",
       " 'platform': 'Windows-10-10.0.22631-SP0',\n",
       " 'python_version': '3.11.9',\n",
       " 'pipelines': {'es_core_news_sm': '3.8.0'}}"
      ]
     },
     "execution_count": 84,
     "metadata": {},
     "output_type": "execute_result"
    }
   ],
   "source": [
    "import spacy\n",
    "spacy.info()\n"
   ]
  },
  {
   "cell_type": "code",
   "execution_count": 85,
   "metadata": {},
   "outputs": [
    {
     "name": "stdout",
     "output_type": "stream",
     "text": [
      "Collecting es-core-news-sm==3.8.0\n",
      "  Downloading https://github.com/explosion/spacy-models/releases/download/es_core_news_sm-3.8.0/es_core_news_sm-3.8.0-py3-none-any.whl (12.9 MB)\n",
      "     ---------------------------------------- 0.0/12.9 MB ? eta -:--:--\n",
      "     --------------------------------------- 0.0/12.9 MB 660.6 kB/s eta 0:00:20\n",
      "     --------------------------------------- 0.0/12.9 MB 653.6 kB/s eta 0:00:20\n",
      "     --------------------------------------- 0.1/12.9 MB 804.6 kB/s eta 0:00:16\n",
      "     --------------------------------------- 0.1/12.9 MB 804.6 kB/s eta 0:00:16\n",
      "      --------------------------------------- 0.3/12.9 MB 1.3 MB/s eta 0:00:10\n",
      "     - -------------------------------------- 0.5/12.9 MB 1.9 MB/s eta 0:00:07\n",
      "     - -------------------------------------- 0.5/12.9 MB 1.9 MB/s eta 0:00:07\n",
      "     - -------------------------------------- 0.6/12.9 MB 1.7 MB/s eta 0:00:08\n",
      "     -- ------------------------------------- 0.8/12.9 MB 1.9 MB/s eta 0:00:07\n",
      "     --- ------------------------------------ 1.1/12.9 MB 2.4 MB/s eta 0:00:05\n",
      "     ---- ----------------------------------- 1.4/12.9 MB 2.7 MB/s eta 0:00:05\n",
      "     ----- ---------------------------------- 1.6/12.9 MB 3.0 MB/s eta 0:00:04\n",
      "     ----- ---------------------------------- 1.8/12.9 MB 3.1 MB/s eta 0:00:04\n",
      "     ------ --------------------------------- 2.0/12.9 MB 3.1 MB/s eta 0:00:04\n",
      "     ------ --------------------------------- 2.2/12.9 MB 3.3 MB/s eta 0:00:04\n",
      "     ------- -------------------------------- 2.4/12.9 MB 3.3 MB/s eta 0:00:04\n",
      "     ------- -------------------------------- 2.4/12.9 MB 3.3 MB/s eta 0:00:04\n",
      "     ------- -------------------------------- 2.4/12.9 MB 3.3 MB/s eta 0:00:04\n",
      "     ------- -------------------------------- 2.4/12.9 MB 3.3 MB/s eta 0:00:04\n",
      "     ------- -------------------------------- 2.5/12.9 MB 2.8 MB/s eta 0:00:04\n",
      "     -------- ------------------------------- 2.7/12.9 MB 2.8 MB/s eta 0:00:04\n",
      "     -------- ------------------------------- 2.7/12.9 MB 2.7 MB/s eta 0:00:04\n",
      "     -------- ------------------------------- 2.9/12.9 MB 2.7 MB/s eta 0:00:04\n",
      "     --------- ------------------------------ 2.9/12.9 MB 2.7 MB/s eta 0:00:04\n",
      "     --------- ------------------------------ 3.0/12.9 MB 2.6 MB/s eta 0:00:04\n",
      "     --------- ------------------------------ 3.0/12.9 MB 2.5 MB/s eta 0:00:04\n",
      "     --------- ------------------------------ 3.0/12.9 MB 2.5 MB/s eta 0:00:04\n",
      "     --------- ------------------------------ 3.1/12.9 MB 2.4 MB/s eta 0:00:05\n",
      "     --------- ------------------------------ 3.2/12.9 MB 2.4 MB/s eta 0:00:05\n",
      "     ---------- ----------------------------- 3.3/12.9 MB 2.4 MB/s eta 0:00:05\n",
      "     ---------- ----------------------------- 3.4/12.9 MB 2.4 MB/s eta 0:00:04\n",
      "     ----------- ---------------------------- 3.7/12.9 MB 2.5 MB/s eta 0:00:04\n",
      "     ----------- ---------------------------- 3.8/12.9 MB 2.5 MB/s eta 0:00:04\n",
      "     ------------ --------------------------- 4.1/12.9 MB 2.6 MB/s eta 0:00:04\n",
      "     ------------- -------------------------- 4.3/12.9 MB 2.7 MB/s eta 0:00:04\n",
      "     -------------- ------------------------- 4.6/12.9 MB 2.8 MB/s eta 0:00:03\n",
      "     -------------- ------------------------- 4.7/12.9 MB 2.8 MB/s eta 0:00:03\n",
      "     -------------- ------------------------- 4.7/12.9 MB 2.8 MB/s eta 0:00:03\n",
      "     -------------- ------------------------- 4.7/12.9 MB 2.6 MB/s eta 0:00:04\n",
      "     --------------- ------------------------ 5.0/12.9 MB 2.7 MB/s eta 0:00:03\n",
      "     ---------------- ----------------------- 5.4/12.9 MB 2.9 MB/s eta 0:00:03\n",
      "     ------------------ --------------------- 5.8/12.9 MB 3.0 MB/s eta 0:00:03\n",
      "     ------------------ --------------------- 6.1/12.9 MB 3.1 MB/s eta 0:00:03\n",
      "     -------------------- ------------------- 6.5/12.9 MB 3.2 MB/s eta 0:00:02\n",
      "     --------------------- ------------------ 6.9/12.9 MB 3.4 MB/s eta 0:00:02\n",
      "     ---------------------- ----------------- 7.2/12.9 MB 3.4 MB/s eta 0:00:02\n",
      "     ----------------------- ---------------- 7.7/12.9 MB 3.5 MB/s eta 0:00:02\n",
      "     ------------------------- -------------- 8.1/12.9 MB 3.6 MB/s eta 0:00:02\n",
      "     ------------------------- -------------- 8.4/12.9 MB 3.7 MB/s eta 0:00:02\n",
      "     -------------------------- ------------- 8.6/12.9 MB 3.7 MB/s eta 0:00:02\n",
      "     --------------------------- ------------ 8.9/12.9 MB 3.8 MB/s eta 0:00:02\n",
      "     ---------------------------- ----------- 9.2/12.9 MB 3.8 MB/s eta 0:00:01\n",
      "     ----------------------------- ---------- 9.4/12.9 MB 3.9 MB/s eta 0:00:01\n",
      "     ------------------------------ --------- 9.7/12.9 MB 3.9 MB/s eta 0:00:01\n",
      "     ------------------------------ --------- 10.0/12.9 MB 3.9 MB/s eta 0:00:01\n",
      "     -------------------------------- ------- 10.4/12.9 MB 4.3 MB/s eta 0:00:01\n",
      "     --------------------------------- ------ 10.7/12.9 MB 4.3 MB/s eta 0:00:01\n",
      "     ---------------------------------- ----- 11.0/12.9 MB 4.5 MB/s eta 0:00:01\n",
      "     ----------------------------------- ---- 11.3/12.9 MB 4.5 MB/s eta 0:00:01\n",
      "     ----------------------------------- ---- 11.6/12.9 MB 4.5 MB/s eta 0:00:01\n",
      "     ------------------------------------ --- 11.9/12.9 MB 4.5 MB/s eta 0:00:01\n",
      "     ------------------------------------- -- 12.1/12.9 MB 4.6 MB/s eta 0:00:01\n",
      "     -------------------------------------- - 12.4/12.9 MB 4.6 MB/s eta 0:00:01\n",
      "     ---------------------------------------  12.7/12.9 MB 4.6 MB/s eta 0:00:01\n",
      "     ---------------------------------------  12.9/12.9 MB 5.1 MB/s eta 0:00:01\n",
      "     ---------------------------------------- 12.9/12.9 MB 5.0 MB/s eta 0:00:00\n",
      "\u001b[38;5;2m✔ Download and installation successful\u001b[0m\n",
      "You can now load the package via spacy.load('es_core_news_sm')\n"
     ]
    },
    {
     "name": "stderr",
     "output_type": "stream",
     "text": [
      "\n",
      "[notice] A new release of pip is available: 24.0 -> 25.0.1\n",
      "[notice] To update, run: C:\\Users\\danie\\AppData\\Local\\Microsoft\\WindowsApps\\PythonSoftwareFoundation.Python.3.11_qbz5n2kfra8p0\\python.exe -m pip install --upgrade pip\n"
     ]
    }
   ],
   "source": [
    "!python -m spacy download es_core_news_sm\n"
   ]
  },
  {
   "cell_type": "code",
   "execution_count": 86,
   "metadata": {},
   "outputs": [
    {
     "name": "stdout",
     "output_type": "stream",
     "text": [
      "Modelo cargado correctamente\n"
     ]
    }
   ],
   "source": [
    "import spacy\n",
    "nlp = spacy.load(\"es_core_news_sm\")\n",
    "print(\"Modelo cargado correctamente\")\n"
   ]
  },
  {
   "cell_type": "code",
   "execution_count": 87,
   "metadata": {},
   "outputs": [],
   "source": [
    "import pandas as pd\n",
    "import matplotlib.pyplot as plt\n",
    "import seaborn as sns\n",
    "import re\n"
   ]
  },
  {
   "cell_type": "markdown",
   "metadata": {},
   "source": [
    "**1.2 Cargar el data set**"
   ]
  },
  {
   "cell_type": "markdown",
   "metadata": {},
   "source": [
    "*1.2.1 Data set de entrenamiento*"
   ]
  },
  {
   "cell_type": "code",
   "execution_count": 88,
   "metadata": {},
   "outputs": [
    {
     "data": {
      "text/html": [
       "<div>\n",
       "<style scoped>\n",
       "    .dataframe tbody tr th:only-of-type {\n",
       "        vertical-align: middle;\n",
       "    }\n",
       "\n",
       "    .dataframe tbody tr th {\n",
       "        vertical-align: top;\n",
       "    }\n",
       "\n",
       "    .dataframe thead th {\n",
       "        text-align: right;\n",
       "    }\n",
       "</style>\n",
       "<table border=\"1\" class=\"dataframe\">\n",
       "  <thead>\n",
       "    <tr style=\"text-align: right;\">\n",
       "      <th></th>\n",
       "      <th>ID</th>\n",
       "      <th>Label</th>\n",
       "      <th>Titulo</th>\n",
       "      <th>Descripcion</th>\n",
       "      <th>Fecha</th>\n",
       "    </tr>\n",
       "  </thead>\n",
       "  <tbody>\n",
       "    <tr>\n",
       "      <th>0</th>\n",
       "      <td>ID</td>\n",
       "      <td>1</td>\n",
       "      <td>'The Guardian' va con Sánchez: 'Europa necesit...</td>\n",
       "      <td>El diario británico publicó este pasado jueves...</td>\n",
       "      <td>02/06/2023</td>\n",
       "    </tr>\n",
       "    <tr>\n",
       "      <th>1</th>\n",
       "      <td>ID</td>\n",
       "      <td>0</td>\n",
       "      <td>REVELAN QUE EL GOBIERNO NEGOCIO LA LIBERACIÓN ...</td>\n",
       "      <td>REVELAN QUE EL GOBIERNO NEGOCIO LA LIBERACIÓN ...</td>\n",
       "      <td>01/10/2023</td>\n",
       "    </tr>\n",
       "    <tr>\n",
       "      <th>2</th>\n",
       "      <td>ID</td>\n",
       "      <td>1</td>\n",
       "      <td>El 'Ahora o nunca' de Joan Fuster sobre el est...</td>\n",
       "      <td>El valencianismo convoca en Castelló su fiesta...</td>\n",
       "      <td>25/04/2022</td>\n",
       "    </tr>\n",
       "    <tr>\n",
       "      <th>3</th>\n",
       "      <td>ID</td>\n",
       "      <td>1</td>\n",
       "      <td>Iglesias alienta a Yolanda Díaz, ERC y EH Bild...</td>\n",
       "      <td>En política, igual que hay que negociar con lo...</td>\n",
       "      <td>03/01/2022</td>\n",
       "    </tr>\n",
       "    <tr>\n",
       "      <th>4</th>\n",
       "      <td>ID</td>\n",
       "      <td>0</td>\n",
       "      <td>Puigdemont: 'No sería ninguna tragedia una rep...</td>\n",
       "      <td>En una entrevista en El Punt Avui, el líder de...</td>\n",
       "      <td>09/03/2018</td>\n",
       "    </tr>\n",
       "  </tbody>\n",
       "</table>\n",
       "</div>"
      ],
      "text/plain": [
       "   ID  Label                                             Titulo  \\\n",
       "0  ID      1  'The Guardian' va con Sánchez: 'Europa necesit...   \n",
       "1  ID      0  REVELAN QUE EL GOBIERNO NEGOCIO LA LIBERACIÓN ...   \n",
       "2  ID      1  El 'Ahora o nunca' de Joan Fuster sobre el est...   \n",
       "3  ID      1  Iglesias alienta a Yolanda Díaz, ERC y EH Bild...   \n",
       "4  ID      0  Puigdemont: 'No sería ninguna tragedia una rep...   \n",
       "\n",
       "                                         Descripcion       Fecha  \n",
       "0  El diario británico publicó este pasado jueves...  02/06/2023  \n",
       "1  REVELAN QUE EL GOBIERNO NEGOCIO LA LIBERACIÓN ...  01/10/2023  \n",
       "2  El valencianismo convoca en Castelló su fiesta...  25/04/2022  \n",
       "3  En política, igual que hay que negociar con lo...  03/01/2022  \n",
       "4  En una entrevista en El Punt Avui, el líder de...  09/03/2018  "
      ]
     },
     "execution_count": 88,
     "metadata": {},
     "output_type": "execute_result"
    }
   ],
   "source": [
    "df_entrenamiento = pd.read_csv(\"fake_news_spanish.csv\", delimiter=';')\n",
    "df_entrenamiento.head()\n",
    "\n"
   ]
  },
  {
   "cell_type": "markdown",
   "metadata": {},
   "source": [
    "*1.2.2 Data set de prueba*\n",
    "\n",
    "El conocer algunos de los datos de "
   ]
  },
  {
   "cell_type": "code",
   "execution_count": 89,
   "metadata": {},
   "outputs": [
    {
     "data": {
      "text/html": [
       "<div>\n",
       "<style scoped>\n",
       "    .dataframe tbody tr th:only-of-type {\n",
       "        vertical-align: middle;\n",
       "    }\n",
       "\n",
       "    .dataframe tbody tr th {\n",
       "        vertical-align: top;\n",
       "    }\n",
       "\n",
       "    .dataframe thead th {\n",
       "        text-align: right;\n",
       "    }\n",
       "</style>\n",
       "<table border=\"1\" class=\"dataframe\">\n",
       "  <thead>\n",
       "    <tr style=\"text-align: right;\">\n",
       "      <th></th>\n",
       "      <th>ID</th>\n",
       "      <th>Titulo</th>\n",
       "      <th>Descripcion</th>\n",
       "      <th>Fecha</th>\n",
       "    </tr>\n",
       "  </thead>\n",
       "  <tbody>\n",
       "    <tr>\n",
       "      <th>0</th>\n",
       "      <td>ID</td>\n",
       "      <td>La mesa del congreso censura un encuentro inte...</td>\n",
       "      <td>Portavoces de Ciudadanos, PNV, UPN, PSOE, Unid...</td>\n",
       "      <td>30/10/2018</td>\n",
       "    </tr>\n",
       "    <tr>\n",
       "      <th>1</th>\n",
       "      <td>ID</td>\n",
       "      <td>La brecha digital que dificulta el acceso de a...</td>\n",
       "      <td>No es la primera vez que los ciudadanos vulner...</td>\n",
       "      <td>15/03/2023</td>\n",
       "    </tr>\n",
       "    <tr>\n",
       "      <th>2</th>\n",
       "      <td>ID</td>\n",
       "      <td>PP apremia al EQUO a presentar una propuesta d...</td>\n",
       "      <td>El partido morado reprocha que los socialistas...</td>\n",
       "      <td>01/07/2019</td>\n",
       "    </tr>\n",
       "    <tr>\n",
       "      <th>3</th>\n",
       "      <td>ID</td>\n",
       "      <td>De soberano garante de la democracia a rey cor...</td>\n",
       "      <td>La renuncia de Felipe VI a su herencia, proced...</td>\n",
       "      <td>16/03/2020</td>\n",
       "    </tr>\n",
       "    <tr>\n",
       "      <th>4</th>\n",
       "      <td>ID</td>\n",
       "      <td>El Gobierno aprobará este martes detraer los b...</td>\n",
       "      <td>El Ejecutivo también prorrogará la suspensión ...</td>\n",
       "      <td>13/09/2021</td>\n",
       "    </tr>\n",
       "  </tbody>\n",
       "</table>\n",
       "</div>"
      ],
      "text/plain": [
       "   ID                                             Titulo  \\\n",
       "0  ID  La mesa del congreso censura un encuentro inte...   \n",
       "1  ID  La brecha digital que dificulta el acceso de a...   \n",
       "2  ID  PP apremia al EQUO a presentar una propuesta d...   \n",
       "3  ID  De soberano garante de la democracia a rey cor...   \n",
       "4  ID  El Gobierno aprobará este martes detraer los b...   \n",
       "\n",
       "                                         Descripcion       Fecha  \n",
       "0  Portavoces de Ciudadanos, PNV, UPN, PSOE, Unid...  30/10/2018  \n",
       "1  No es la primera vez que los ciudadanos vulner...  15/03/2023  \n",
       "2  El partido morado reprocha que los socialistas...  01/07/2019  \n",
       "3  La renuncia de Felipe VI a su herencia, proced...  16/03/2020  \n",
       "4  El Ejecutivo también prorrogará la suspensión ...  13/09/2021  "
      ]
     },
     "execution_count": 89,
     "metadata": {},
     "output_type": "execute_result"
    }
   ],
   "source": [
    "df_prueba = pd.read_csv(\"fake_news_test.csv\", delimiter=';')\n",
    "df_prueba.head()"
   ]
  },
  {
   "cell_type": "markdown",
   "metadata": {},
   "source": [
    "**2. Entendimiento de los datos**"
   ]
  },
  {
   "cell_type": "markdown",
   "metadata": {},
   "source": [
    "**2.1 Estadísticas Descriptivas de los datos** "
   ]
  },
  {
   "cell_type": "markdown",
   "metadata": {},
   "source": [
    "*2.1.1 Estadísticas Descriptivas de los datos de entrenamiento*"
   ]
  },
  {
   "cell_type": "code",
   "execution_count": 90,
   "metadata": {},
   "outputs": [
    {
     "name": "stdout",
     "output_type": "stream",
     "text": [
      "              Label\n",
      "count  57063.000000\n",
      "mean       0.581077\n",
      "std        0.493387\n",
      "min        0.000000\n",
      "25%        0.000000\n",
      "50%        1.000000\n",
      "75%        1.000000\n",
      "max        1.000000\n"
     ]
    }
   ],
   "source": [
    "describe=df_entrenamiento.describe()\n",
    "print(describe)"
   ]
  },
  {
   "cell_type": "markdown",
   "metadata": {},
   "source": [
    "*2.1.2 Estadísticas Descriptivas de los datos de prueba*"
   ]
  },
  {
   "cell_type": "code",
   "execution_count": 91,
   "metadata": {},
   "outputs": [
    {
     "name": "stdout",
     "output_type": "stream",
     "text": [
      "          ID                                             Titulo  \\\n",
      "count   1000                                                999   \n",
      "unique     1                                                997   \n",
      "top       ID  La Junta Electoral multa con 1.000 euros a 'AB...   \n",
      "freq    1000                                                  2   \n",
      "\n",
      "                                              Descripcion       Fecha  \n",
      "count                                                1000        1000  \n",
      "unique                                                995         755  \n",
      "top     La mayoría de los portavoces de los grupos de ...  24/06/2019  \n",
      "freq                                                    2           5  \n"
     ]
    }
   ],
   "source": [
    "describe=df_prueba.describe()\n",
    "print(describe)"
   ]
  },
  {
   "cell_type": "markdown",
   "metadata": {},
   "source": [
    "**2.2 Conteo de las clases en Label de los Datos de Entrenamiento**"
   ]
  },
  {
   "cell_type": "code",
   "execution_count": 92,
   "metadata": {},
   "outputs": [
    {
     "name": "stdout",
     "output_type": "stream",
     "text": [
      "Label\n",
      "1    33158\n",
      "0    23905\n",
      "Name: count, dtype: int64\n"
     ]
    }
   ],
   "source": [
    "label_count = df_entrenamiento['Label'].value_counts()\n",
    "print(label_count)"
   ]
  },
  {
   "cell_type": "markdown",
   "metadata": {},
   "source": [
    "**2.3 Variables numéricas y categóricas**\n"
   ]
  },
  {
   "cell_type": "markdown",
   "metadata": {},
   "source": [
    "*2.3.1-1 Variables numéricas para los datos de entrenamiento*\n",
    "\n",
    "El saber la longitud del título y la descripción puede ser relevate para el análisis. Pues un título más largo podría ser una señal de que un artículo es más detallado o contiene en el más contexto. Ya que se busca analizar noticias falsas, la longitud dedl título podría ayudar a diferenciar entre títulos \"informales\" es decir más cortos y títulos más detallados, los culaes podrían ser más caracteristicos de ciertos tipos de contenidos. \n",
    "\n",
    "De la misma forma, las descripciones más largas podrían ser más informativas y detalladas, mientras que las descripciones cortas podrían ser características de resúmenes o contenido más superficial. En el contexto de este ejemplo, las descripciones breves pueden estar asociadas con información o incluso engañosa"
   ]
  },
  {
   "cell_type": "code",
   "execution_count": 93,
   "metadata": {},
   "outputs": [],
   "source": [
    "df_entrenamiento['Fecha']=pd.to_datetime(df_entrenamiento['Fecha'], errors='coerce')\n",
    "df_entrenamiento['longitud_titulo'] = df_entrenamiento['Titulo'].apply(lambda x: len(str(x)))\n",
    "df_entrenamiento['longitud_descripcion'] = df_entrenamiento['Descripcion'].apply(lambda x: len(str(x)))\n"
   ]
  },
  {
   "cell_type": "markdown",
   "metadata": {},
   "source": [
    "*2.3.1-2 Variables numéricas para los datos de prueba*"
   ]
  },
  {
   "cell_type": "code",
   "execution_count": 94,
   "metadata": {},
   "outputs": [
    {
     "name": "stderr",
     "output_type": "stream",
     "text": [
      "C:\\Users\\danie\\AppData\\Local\\Temp\\ipykernel_15480\\4132102996.py:1: UserWarning: Parsing dates in %d/%m/%Y format when dayfirst=False (the default) was specified. Pass `dayfirst=True` or specify a format to silence this warning.\n",
      "  df_prueba['Fecha']=pd.to_datetime(df_prueba['Fecha'], errors='coerce')\n"
     ]
    }
   ],
   "source": [
    "df_prueba['Fecha']=pd.to_datetime(df_prueba['Fecha'], errors='coerce')\n",
    "df_prueba['longitud_titulo'] = df_prueba['Titulo'].apply(lambda x: len(str(x)))\n",
    "df_prueba['longitud_descripcion'] = df_prueba['Descripcion'].apply(lambda x: len(str(x)))\n"
   ]
  },
  {
   "cell_type": "markdown",
   "metadata": {},
   "source": [
    "*2.3.2-1 Separar las variables categóricas y numéricas pra los datos de entrenamiento*"
   ]
  },
  {
   "cell_type": "code",
   "execution_count": 95,
   "metadata": {},
   "outputs": [],
   "source": [
    "categoricas = ['Label', 'Titulo', 'Descripcion']\n",
    "numericas = ['longitud_titulo', 'longitud_descripcion', 'Fecha']"
   ]
  },
  {
   "cell_type": "markdown",
   "metadata": {},
   "source": [
    "*2.3.1-2 Separar las variables categóricas y numéricas para los datos de prueba*"
   ]
  },
  {
   "cell_type": "code",
   "execution_count": 96,
   "metadata": {},
   "outputs": [],
   "source": [
    "categoricas = ['Label', 'Titulo', 'Descripcion']\n",
    "numericas = ['longitud_titulo', 'longitud_descripcion', 'Fecha']"
   ]
  },
  {
   "cell_type": "markdown",
   "metadata": {},
   "source": [
    "*2.3.3 Análisis de las variables categóricas*"
   ]
  },
  {
   "cell_type": "markdown",
   "metadata": {},
   "source": [
    "1.1 Label para los datos de entrenamiento"
   ]
  },
  {
   "cell_type": "code",
   "execution_count": 97,
   "metadata": {},
   "outputs": [
    {
     "data": {
      "image/png": "[encoded data removed]",
      "text/plain": [
       "<Figure size 600x400 with 1 Axes>"
      ]
     },
     "metadata": {},
     "output_type": "display_data"
    }
   ],
   "source": [
    "plt.figure(figsize=(6, 4))\n",
    "sns.countplot(x='Label', data=df_entrenamiento)\n",
    "plt.title('Distribución de las etiquetas (Label)')\n",
    "plt.show()\n",
    "\n"
   ]
  },
  {
   "cell_type": "markdown",
   "metadata": {},
   "source": [
    "*2.3.4 Análisis de las variables numéricas*"
   ]
  },
  {
   "cell_type": "markdown",
   "metadata": {},
   "source": [
    "1. Longitud del Título"
   ]
  },
  {
   "cell_type": "markdown",
   "metadata": {},
   "source": [
    "1.1 Longitud de Título para los datos de entrenamiento"
   ]
  },
  {
   "cell_type": "code",
   "execution_count": 98,
   "metadata": {},
   "outputs": [
    {
     "data": {
      "image/png": "[encoded data removed]",
      "text/plain": [
       "<Figure size 600x600 with 1 Axes>"
      ]
     },
     "metadata": {},
     "output_type": "display_data"
    }
   ],
   "source": [
    "plt.figure(figsize=(6,6))\n",
    "sns.boxplot(x=df_entrenamiento['longitud_titulo'])\n",
    "plt.title('Distribución de la longitud del título para los datos de entrenamiento')\n",
    "plt.show()\n"
   ]
  },
  {
   "cell_type": "markdown",
   "metadata": {},
   "source": [
    "1.2 Longitud de Título para los datos de Prueba"
   ]
  },
  {
   "cell_type": "code",
   "execution_count": 99,
   "metadata": {},
   "outputs": [
    {
     "data": {
      "image/png": "[encoded data removed]",
      "text/plain": [
       "<Figure size 600x600 with 1 Axes>"
      ]
     },
     "metadata": {},
     "output_type": "display_data"
    }
   ],
   "source": [
    "plt.figure(figsize=(6,6))\n",
    "sns.boxplot(x=df_prueba['longitud_titulo'])\n",
    "plt.title('Distribución de la longitud del título para los datos de prueba')\n",
    "plt.show()\n"
   ]
  },
  {
   "cell_type": "markdown",
   "metadata": {},
   "source": [
    "2. Longitud de la Descripción"
   ]
  },
  {
   "cell_type": "markdown",
   "metadata": {},
   "source": [
    "2.1 Longitud de la Descripción de los datos de Entrenamiento"
   ]
  },
  {
   "cell_type": "code",
   "execution_count": 100,
   "metadata": {},
   "outputs": [
    {
     "data": {
      "image/png": "[encoded data removed]",
      "text/plain": [
       "<Figure size 600x600 with 1 Axes>"
      ]
     },
     "metadata": {},
     "output_type": "display_data"
    }
   ],
   "source": [
    "plt.figure(figsize=(6,6))\n",
    "sns.boxplot(x=df_entrenamiento['longitud_descripcion'])\n",
    "plt.title('Distribución de la longitud de las descripciones de los datos de entrenamiento')\n",
    "plt.show()\n",
    "\n"
   ]
  },
  {
   "cell_type": "markdown",
   "metadata": {},
   "source": [
    "2.2 Longitud de la descripción de los datos de Prueba"
   ]
  },
  {
   "cell_type": "code",
   "execution_count": 101,
   "metadata": {},
   "outputs": [
    {
     "data": {
      "image/png": "[encoded data removed]",
      "text/plain": [
       "<Figure size 600x600 with 1 Axes>"
      ]
     },
     "metadata": {},
     "output_type": "display_data"
    }
   ],
   "source": [
    "plt.figure(figsize=(6,6))\n",
    "sns.boxplot(x=df_prueba['longitud_descripcion'])\n",
    "plt.title('Distribución de la longitud de las descripciones de los datos de prueba')\n",
    "plt.show()\n",
    "\n"
   ]
  },
  {
   "cell_type": "markdown",
   "metadata": {},
   "source": [
    "3. Fechas"
   ]
  },
  {
   "cell_type": "markdown",
   "metadata": {},
   "source": [
    "3.1 Fechas para los datos de Entrenamiento"
   ]
  },
  {
   "cell_type": "code",
   "execution_count": 102,
   "metadata": {},
   "outputs": [
    {
     "data": {
      "image/png": "[encoded data removed]",
      "text/plain": [
       "<Figure size 600x400 with 1 Axes>"
      ]
     },
     "metadata": {},
     "output_type": "display_data"
    }
   ],
   "source": [
    "df_entrenamiento['año']=df_entrenamiento['Fecha'].dt.year\n",
    "plt.figure(figsize=(6, 4))\n",
    "sns.boxplot(x=df_entrenamiento['año'])\n",
    "plt.title('Distribución de las fechas')\n",
    "plt.show()"
   ]
  },
  {
   "cell_type": "markdown",
   "metadata": {},
   "source": [
    "3.2 Fechas para los datos de prueba"
   ]
  },
  {
   "cell_type": "code",
   "execution_count": 103,
   "metadata": {},
   "outputs": [
    {
     "data": {
      "image/png": "[encoded data removed]",
      "text/plain": [
       "<Figure size 600x400 with 1 Axes>"
      ]
     },
     "metadata": {},
     "output_type": "display_data"
    }
   ],
   "source": [
    "df_prueba['año']=df_prueba['Fecha'].dt.year\n",
    "plt.figure(figsize=(6, 4))\n",
    "sns.boxplot(x=df_prueba['año'])\n",
    "plt.title('Distribución de las fechas')\n",
    "plt.show()"
   ]
  },
  {
   "cell_type": "markdown",
   "metadata": {},
   "source": [
    "4. Estadísticas Descriptivas para las Variables Numéricas"
   ]
  },
  {
   "cell_type": "markdown",
   "metadata": {},
   "source": [
    "4.1 Estadísticas Descriptivas para las variables numéricas para los datos de entrenamiento"
   ]
  },
  {
   "cell_type": "code",
   "execution_count": 104,
   "metadata": {},
   "outputs": [
    {
     "name": "stdout",
     "output_type": "stream",
     "text": [
      "       longitud_titulo  longitud_descripcion                          Fecha\n",
      "count     57063.000000          57063.000000                          21740\n",
      "mean         94.770254            243.448697  2020-08-03 05:41:15.289788416\n",
      "min           3.000000             33.000000            2016-02-01 00:00:00\n",
      "25%          80.000000            171.000000            2019-04-04 18:00:00\n",
      "50%          95.000000            221.000000            2020-06-06 00:00:00\n",
      "75%         111.000000            267.000000            2021-12-04 00:00:00\n",
      "max         255.000000          14019.000000            2024-12-11 00:00:00\n",
      "std          21.877908            273.253727                            NaN\n"
     ]
    }
   ],
   "source": [
    "info=df_entrenamiento[numericas].describe()\n",
    "print(info)"
   ]
  },
  {
   "cell_type": "markdown",
   "metadata": {},
   "source": [
    "4.2 Estadísticas Descriptivas para las Variables Numéricas para los datos de prueba"
   ]
  },
  {
   "cell_type": "code",
   "execution_count": 105,
   "metadata": {},
   "outputs": [
    {
     "name": "stdout",
     "output_type": "stream",
     "text": [
      "       longitud_titulo  longitud_descripcion                          Fecha\n",
      "count      1000.000000             1000.0000                           1000\n",
      "mean         94.532000              230.6920  2020-07-23 01:29:16.800000256\n",
      "min           3.000000               36.0000            2016-06-18 00:00:00\n",
      "25%          80.000000              171.0000            2019-04-07 18:00:00\n",
      "50%          95.000000              220.5000            2020-05-19 00:00:00\n",
      "75%         110.000000              259.2500            2021-11-22 00:00:00\n",
      "max         165.000000             2569.0000            2023-11-28 00:00:00\n",
      "std          20.499835              120.1793                            NaN\n"
     ]
    }
   ],
   "source": [
    "info=df_prueba[numericas].describe()\n",
    "print(info)"
   ]
  },
  {
   "cell_type": "markdown",
   "metadata": {},
   "source": [
    "5. Valores atípicos en la longitud de Título y Descripción"
   ]
  },
  {
   "cell_type": "markdown",
   "metadata": {},
   "source": [
    "5.1 Detección de valores atípicos en la longitud de título y descripción de los datos de entrenamiento"
   ]
  },
  {
   "cell_type": "code",
   "execution_count": 106,
   "metadata": {},
   "outputs": [
    {
     "name": "stdout",
     "output_type": "stream",
     "text": [
      "Valores atípicos en la longitud del título: 57063\n",
      "Valores atípicos en la longitud de la descripción: 15045\n"
     ]
    },
    {
     "data": {
      "image/png": "[encoded data removed]",
      "text/plain": [
       "<Figure size 1200x600 with 2 Axes>"
      ]
     },
     "metadata": {},
     "output_type": "display_data"
    }
   ],
   "source": [
    "Q1_titulo = df_entrenamiento['longitud_titulo'].quantile(0.25)\n",
    "Q3_titulo = df_entrenamiento['longitud_titulo'].quantile(0.75)\n",
    "IQR_titulo = Q3_titulo - Q1_titulo\n",
    "\n",
    "lim_inf_titulo = Q1_titulo - 1.5 * IQR_titulo\n",
    "lim_inf_titulo = Q3_titulo + 1.5 * IQR_titulo\n",
    "atipicos_titulo = df_entrenamiento[(df_entrenamiento['longitud_titulo'] < lim_inf_titulo) | (df_entrenamiento['longitud_titulo'] > lim_inf_titulo)]\n",
    "\n",
    "#Longitud de la descripción\n",
    "Q1_desc= df_entrenamiento['longitud_descripcion'].quantile(0.25)\n",
    "Q3_desc = df_entrenamiento['longitud_descripcion'].quantile(0.75)\n",
    "lim_inf_desc = Q1_desc - 1.5 * IQR_titulo\n",
    "lim_sup_desc = Q3_desc + 1.5 * IQR_titulo\n",
    "atipicos_desc = df_entrenamiento[(df_entrenamiento['longitud_descripcion'] < lim_inf_desc) | (df_entrenamiento['longitud_descripcion'] > lim_sup_desc)]\n",
    "\n",
    "print(f\"Valores atípicos en la longitud del título: {len(atipicos_titulo)}\")\n",
    "print(f\"Valores atípicos en la longitud de la descripción: {len(atipicos_desc)}\")\n",
    "\n",
    "# Graficar boxplots para visualizar valores atípicos\n",
    "plt.figure(figsize=(12, 6))\n",
    "\n",
    "plt.subplot(1, 2, 1)\n",
    "sns.boxplot(x=df_entrenamiento['longitud_titulo'])\n",
    "plt.title(\"Boxplot de la longitud del título\")\n",
    "\n",
    "plt.subplot(1, 2, 2)\n",
    "sns.boxplot(x=df_entrenamiento['longitud_descripcion'])\n",
    "plt.title(\"Boxplot de la longitud de la descripción\")\n",
    "\n",
    "plt.show()"
   ]
  },
  {
   "cell_type": "markdown",
   "metadata": {},
   "source": [
    "5.2 Detección de Valores Atípicos de la Longitud de Título y Descripción de los datos de prueba\n"
   ]
  },
  {
   "cell_type": "code",
   "execution_count": 107,
   "metadata": {},
   "outputs": [
    {
     "name": "stdout",
     "output_type": "stream",
     "text": [
      "Valores atípicos en la longitud del título: 999\n",
      "Valores atípicos en la longitud de la descripción: 258\n"
     ]
    },
    {
     "data": {
      "image/png": "[encoded data removed]",
      "text/plain": [
       "<Figure size 1200x600 with 2 Axes>"
      ]
     },
     "metadata": {},
     "output_type": "display_data"
    }
   ],
   "source": [
    "Q1_titulo = df_prueba['longitud_titulo'].quantile(0.25)\n",
    "Q3_titulo = df_prueba['longitud_titulo'].quantile(0.75)\n",
    "IQR_titulo = Q3_titulo - Q1_titulo\n",
    "\n",
    "lim_inf_titulo = Q1_titulo - 1.5 * IQR_titulo\n",
    "lim_inf_titulo = Q3_titulo + 1.5 * IQR_titulo\n",
    "atipicos_titulo = df_prueba[(df_prueba['longitud_titulo'] < lim_inf_titulo) | (df_prueba['longitud_titulo'] > lim_inf_titulo)]\n",
    "\n",
    "#Longitud de la descripción\n",
    "Q1_desc= df_prueba['longitud_descripcion'].quantile(0.25)\n",
    "Q3_desc = df_prueba['longitud_descripcion'].quantile(0.75)\n",
    "lim_inf_desc = Q1_desc - 1.5 * IQR_titulo\n",
    "lim_sup_desc = Q3_desc + 1.5 * IQR_titulo\n",
    "atipicos_desc = df_prueba[(df_prueba['longitud_descripcion'] < lim_inf_desc) | (df_prueba['longitud_descripcion'] > lim_sup_desc)]\n",
    "\n",
    "print(f\"Valores atípicos en la longitud del título: {len(atipicos_titulo)}\")\n",
    "print(f\"Valores atípicos en la longitud de la descripción: {len(atipicos_desc)}\")\n",
    "\n",
    "# Graficar boxplots para visualizar valores atípicos\n",
    "plt.figure(figsize=(12, 6))\n",
    "\n",
    "plt.subplot(1, 2, 1)\n",
    "sns.boxplot(x=df_prueba['longitud_titulo'])\n",
    "plt.title(\"Boxplot de la longitud del título\")\n",
    "\n",
    "plt.subplot(1, 2, 2)\n",
    "sns.boxplot(x=df_prueba['longitud_descripcion'])\n",
    "plt.title(\"Boxplot de la longitud de la descripción\")\n",
    "\n",
    "plt.show()"
   ]
  },
  {
   "cell_type": "markdown",
   "metadata": {},
   "source": [
    "6. Valores atípicos en las fechas"
   ]
  },
  {
   "cell_type": "markdown",
   "metadata": {},
   "source": [
    "6.1 Valores atípicos en las fechas de los datos de entrenamiento"
   ]
  },
  {
   "cell_type": "code",
   "execution_count": 108,
   "metadata": {},
   "outputs": [
    {
     "name": "stdout",
     "output_type": "stream",
     "text": [
      "Valores atípicos en la fecha: 0\n"
     ]
    }
   ],
   "source": [
    "lim_inf_fecha = df_entrenamiento['año'].min()-1\n",
    "lim_sup_fecha = df_entrenamiento['año'].max()+1\n",
    "atipicos_fecha = df_entrenamiento[(df_entrenamiento['año'] < lim_inf_fecha) | (df_entrenamiento['año'] > lim_sup_fecha)]\n",
    "print(f\"Valores atípicos en la fecha: {len(atipicos_fecha)}\")"
   ]
  },
  {
   "cell_type": "markdown",
   "metadata": {},
   "source": [
    "6.2 Valores atípicos en las fechas de los datos de prueba"
   ]
  },
  {
   "cell_type": "code",
   "execution_count": 109,
   "metadata": {},
   "outputs": [
    {
     "name": "stdout",
     "output_type": "stream",
     "text": [
      "Valores atípicos en la fecha: 0\n"
     ]
    }
   ],
   "source": [
    "lim_inf_fecha = df_prueba['año'].min()-1\n",
    "lim_sup_fecha = df_prueba['año'].max()+1\n",
    "atipicos_fecha = df_prueba[(df_prueba['año'] < lim_inf_fecha) | (df_prueba['año'] > lim_sup_fecha)]\n",
    "print(f\"Valores atípicos en la fecha: {len(atipicos_fecha)}\")"
   ]
  },
  {
   "cell_type": "markdown",
   "metadata": {},
   "source": [
    "7. Resumen de las variables"
   ]
  },
  {
   "cell_type": "markdown",
   "metadata": {},
   "source": [
    "7.1 Resumen de las variables de los datos de entrenamiento"
   ]
  },
  {
   "cell_type": "code",
   "execution_count": 110,
   "metadata": {},
   "outputs": [
    {
     "name": "stdout",
     "output_type": "stream",
     "text": [
      "\n",
      "Resumen de las variables:\n",
      "Variables categóricas: Label, Titulo, Descripcion\n",
      "Variables numéricas: longitud_titulo, longitud_descripcion, año\n",
      "\n",
      "Muestras de valores atípicos en longitud_titulo:\n",
      "   ID                                             Titulo  \\\n",
      "0  ID  La mesa del congreso censura un encuentro inte...   \n",
      "1  ID  La brecha digital que dificulta el acceso de a...   \n",
      "2  ID  PP apremia al EQUO a presentar una propuesta d...   \n",
      "3  ID  De soberano garante de la democracia a rey cor...   \n",
      "4  ID  El Gobierno aprobará este martes detraer los b...   \n",
      "\n",
      "                                         Descripcion      Fecha  \\\n",
      "0  Portavoces de Ciudadanos, PNV, UPN, PSOE, Unid... 2018-10-30   \n",
      "1  No es la primera vez que los ciudadanos vulner... 2023-03-15   \n",
      "2  El partido morado reprocha que los socialistas... 2019-07-01   \n",
      "3  La renuncia de Felipe VI a su herencia, proced... 2020-03-16   \n",
      "4  El Ejecutivo también prorrogará la suspensión ... 2021-09-13   \n",
      "\n",
      "   longitud_titulo  longitud_descripcion   año  \n",
      "0              100                   119  2018  \n",
      "1              121                   197  2023  \n",
      "2               95                   215  2019  \n",
      "3               75                   446  2020  \n",
      "4              132                   343  2021  \n",
      "\n",
      "Muestras de valores atípicos en longitud_descripcion:\n",
      "    ID                                             Titulo  \\\n",
      "0   ID  La mesa del congreso censura un encuentro inte...   \n",
      "3   ID  De soberano garante de la democracia a rey cor...   \n",
      "4   ID  El Gobierno aprobará este martes detraer los b...   \n",
      "5   ID  Sánchez presenta unos Presupuestos con un gran...   \n",
      "10  ID  Santiago Abascal será el candidato a la presid...   \n",
      "\n",
      "                                          Descripcion      Fecha  \\\n",
      "0   Portavoces de Ciudadanos, PNV, UPN, PSOE, Unid... 2018-10-30   \n",
      "3   La renuncia de Felipe VI a su herencia, proced... 2020-03-16   \n",
      "4   El Ejecutivo también prorrogará la suspensión ... 2021-09-13   \n",
      "5   Prevé una recaudación récords de 227.000 millo... 2019-01-11   \n",
      "10  Lo será básicamente con un solo punto en su pr... 2020-08-24   \n",
      "\n",
      "    longitud_titulo  longitud_descripcion   año  \n",
      "0               100                   119  2018  \n",
      "3                75                   446  2020  \n",
      "4               132                   343  2021  \n",
      "5               109                   350  2019  \n",
      "10               82                   124  2020  \n",
      "\n",
      "Muestras de valores atípicos en fechas:\n",
      "Empty DataFrame\n",
      "Columns: [ID, Titulo, Descripcion, Fecha, longitud_titulo, longitud_descripcion, año]\n",
      "Index: []\n"
     ]
    }
   ],
   "source": [
    "# Resumen\n",
    "print(\"\\nResumen de las variables:\")\n",
    "print(\"Variables categóricas: Label, Titulo, Descripcion\")\n",
    "print(\"Variables numéricas: longitud_titulo, longitud_descripcion, año\")\n",
    "\n",
    "# Mostrar algunas muestras de los valores atípicos\n",
    "print(\"\\nMuestras de valores atípicos en longitud_titulo:\")\n",
    "print(atipicos_titulo.head())\n",
    "\n",
    "print(\"\\nMuestras de valores atípicos en longitud_descripcion:\")\n",
    "print(atipicos_desc.head())\n",
    "\n",
    "print(\"\\nMuestras de valores atípicos en fechas:\")\n",
    "print(atipicos_fecha.head())"
   ]
  },
  {
   "cell_type": "markdown",
   "metadata": {},
   "source": [
    "7.2 Resumen de las variables de los datos de prueba"
   ]
  },
  {
   "cell_type": "code",
   "execution_count": 111,
   "metadata": {},
   "outputs": [
    {
     "name": "stdout",
     "output_type": "stream",
     "text": [
      "\n",
      "Resumen de las variables:\n",
      "Variables categóricas: Label, Titulo, Descripcion\n",
      "Variables numéricas: longitud_titulo, longitud_descripcion, año\n",
      "\n",
      "Muestras de valores atípicos en longitud_titulo:\n",
      "   ID                                             Titulo  \\\n",
      "0  ID  La mesa del congreso censura un encuentro inte...   \n",
      "1  ID  La brecha digital que dificulta el acceso de a...   \n",
      "2  ID  PP apremia al EQUO a presentar una propuesta d...   \n",
      "3  ID  De soberano garante de la democracia a rey cor...   \n",
      "4  ID  El Gobierno aprobará este martes detraer los b...   \n",
      "\n",
      "                                         Descripcion      Fecha  \\\n",
      "0  Portavoces de Ciudadanos, PNV, UPN, PSOE, Unid... 2018-10-30   \n",
      "1  No es la primera vez que los ciudadanos vulner... 2023-03-15   \n",
      "2  El partido morado reprocha que los socialistas... 2019-07-01   \n",
      "3  La renuncia de Felipe VI a su herencia, proced... 2020-03-16   \n",
      "4  El Ejecutivo también prorrogará la suspensión ... 2021-09-13   \n",
      "\n",
      "   longitud_titulo  longitud_descripcion   año  \n",
      "0              100                   119  2018  \n",
      "1              121                   197  2023  \n",
      "2               95                   215  2019  \n",
      "3               75                   446  2020  \n",
      "4              132                   343  2021  \n",
      "\n",
      "Muestras de valores atípicos en longitud_descripcion:\n",
      "    ID                                             Titulo  \\\n",
      "0   ID  La mesa del congreso censura un encuentro inte...   \n",
      "3   ID  De soberano garante de la democracia a rey cor...   \n",
      "4   ID  El Gobierno aprobará este martes detraer los b...   \n",
      "5   ID  Sánchez presenta unos Presupuestos con un gran...   \n",
      "10  ID  Santiago Abascal será el candidato a la presid...   \n",
      "\n",
      "                                          Descripcion      Fecha  \\\n",
      "0   Portavoces de Ciudadanos, PNV, UPN, PSOE, Unid... 2018-10-30   \n",
      "3   La renuncia de Felipe VI a su herencia, proced... 2020-03-16   \n",
      "4   El Ejecutivo también prorrogará la suspensión ... 2021-09-13   \n",
      "5   Prevé una recaudación récords de 227.000 millo... 2019-01-11   \n",
      "10  Lo será básicamente con un solo punto en su pr... 2020-08-24   \n",
      "\n",
      "    longitud_titulo  longitud_descripcion   año  \n",
      "0               100                   119  2018  \n",
      "3                75                   446  2020  \n",
      "4               132                   343  2021  \n",
      "5               109                   350  2019  \n",
      "10               82                   124  2020  \n",
      "\n",
      "Muestras de valores atípicos en fechas:\n",
      "Empty DataFrame\n",
      "Columns: [ID, Titulo, Descripcion, Fecha, longitud_titulo, longitud_descripcion, año]\n",
      "Index: []\n"
     ]
    }
   ],
   "source": [
    "# Resumen\n",
    "print(\"\\nResumen de las variables:\")\n",
    "print(\"Variables categóricas: Label, Titulo, Descripcion\")\n",
    "print(\"Variables numéricas: longitud_titulo, longitud_descripcion, año\")\n",
    "\n",
    "# Mostrar algunas muestras de los valores atípicos\n",
    "print(\"\\nMuestras de valores atípicos en longitud_titulo:\")\n",
    "print(atipicos_titulo.head())\n",
    "\n",
    "print(\"\\nMuestras de valores atípicos en longitud_descripcion:\")\n",
    "print(atipicos_desc.head())\n",
    "\n",
    "print(\"\\nMuestras de valores atípicos en fechas:\")\n",
    "print(atipicos_fecha.head())"
   ]
  },
  {
   "cell_type": "markdown",
   "metadata": {},
   "source": [
    "**3. Variable Objetivo**\n",
    "\n",
    "La idea del entrenamiento de estos módelos es poder clasificar con 0 o 1 las noticias, para de esta forma determinar si son falsas o verdaderas. Por lo tanto, la variable objetivo del modelo es el Label. "
   ]
  },
  {
   "cell_type": "markdown",
   "metadata": {},
   "source": [
    "**4. Preprocesamiento de los datos**"
   ]
  },
  {
   "cell_type": "markdown",
   "metadata": {},
   "source": [
    "**4.1 Eliminación de Nulos**"
   ]
  },
  {
   "cell_type": "markdown",
   "metadata": {},
   "source": [
    "*4.1.1 Eliminación de Nulos en los datos de entrenamiento*\n"
   ]
  },
  {
   "cell_type": "code",
   "execution_count": 112,
   "metadata": {},
   "outputs": [
    {
     "name": "stdout",
     "output_type": "stream",
     "text": [
      "Valores nulos de los datos de entrenamiento antes de la limpieza:\n",
      "ID                          0\n",
      "Label                       0\n",
      "Titulo                     16\n",
      "Descripcion                 0\n",
      "Fecha                   35323\n",
      "longitud_titulo             0\n",
      "longitud_descripcion        0\n",
      "año                     35323\n",
      "dtype: int64\n",
      "Valores nulos de los datos de prueba después de la limpieza:\n",
      "ID                      0\n",
      "Label                   0\n",
      "Titulo                  0\n",
      "Descripcion             0\n",
      "Fecha                   0\n",
      "longitud_titulo         0\n",
      "longitud_descripcion    0\n",
      "año                     0\n",
      "dtype: int64\n"
     ]
    }
   ],
   "source": [
    "print(\"Valores nulos de los datos de entrenamiento antes de la limpieza:\")\n",
    "print(df_entrenamiento.isnull().sum())\n",
    "\n",
    "print(\"Valores nulos de los datos de prueba después de la limpieza:\")\n",
    "\n",
    "df_entrenamiento.dropna(inplace=True)\n",
    "\n",
    "print(df_entrenamiento.isnull().sum())"
   ]
  },
  {
   "cell_type": "markdown",
   "metadata": {},
   "source": [
    "*4.1.2 Eliminación de Nulos en los datos de prueba*"
   ]
  },
  {
   "cell_type": "code",
   "execution_count": 113,
   "metadata": {},
   "outputs": [
    {
     "name": "stdout",
     "output_type": "stream",
     "text": [
      "Valores nulos de los datos de entrenamiento antes de la limpieza:\n",
      "ID                      0\n",
      "Titulo                  1\n",
      "Descripcion             0\n",
      "Fecha                   0\n",
      "longitud_titulo         0\n",
      "longitud_descripcion    0\n",
      "año                     0\n",
      "dtype: int64\n",
      "Valores nulos de los datos de prueba después de la limpieza:\n",
      "ID                      0\n",
      "Titulo                  0\n",
      "Descripcion             0\n",
      "Fecha                   0\n",
      "longitud_titulo         0\n",
      "longitud_descripcion    0\n",
      "año                     0\n",
      "dtype: int64\n"
     ]
    }
   ],
   "source": [
    "print(\"Valores nulos de los datos de entrenamiento antes de la limpieza:\")\n",
    "print(df_prueba.isnull().sum())\n",
    "\n",
    "print(\"Valores nulos de los datos de prueba después de la limpieza:\")\n",
    "\n",
    "df_prueba.dropna(inplace=True)\n",
    "\n",
    "print(df_prueba.isnull().sum())"
   ]
  },
  {
   "cell_type": "markdown",
   "metadata": {},
   "source": [
    "**4.2 Eliminación de Duplicados**"
   ]
  },
  {
   "cell_type": "markdown",
   "metadata": {},
   "source": [
    "*4.2.1 Eliminación de Duplicados para los datos de entrenamiento*"
   ]
  },
  {
   "cell_type": "code",
   "execution_count": 114,
   "metadata": {},
   "outputs": [
    {
     "name": "stdout",
     "output_type": "stream",
     "text": [
      "Duplicados en los datos de entrenamiento antes de la limpieza: 120\n",
      "Duplicados en los datos de entrenamiento después de la limpieza: 0\n"
     ]
    }
   ],
   "source": [
    "print(f\"Duplicados en los datos de entrenamiento antes de la limpieza: {df_entrenamiento.duplicated().sum()}\")\n",
    "df_entrenamiento.drop_duplicates(inplace=True)\n",
    "print(f\"Duplicados en los datos de entrenamiento después de la limpieza: {df_entrenamiento.duplicated().sum()}\")"
   ]
  },
  {
   "cell_type": "code",
   "execution_count": 115,
   "metadata": {},
   "outputs": [
    {
     "name": "stdout",
     "output_type": "stream",
     "text": [
      "Duplicados en los datos de prueba antes de la limpieza: 1\n",
      "Duplicados en los datos de prueba después de la limpieza: 0\n"
     ]
    }
   ],
   "source": [
    "print(f\"Duplicados en los datos de prueba antes de la limpieza: {df_prueba.duplicated().sum()}\")\n",
    "df_prueba.drop_duplicates(inplace=True)\n",
    "print(f\"Duplicados en los datos de prueba después de la limpieza: {df_prueba.duplicated().sum()}\")"
   ]
  },
  {
   "cell_type": "markdown",
   "metadata": {},
   "source": [
    "**4.3 Pasar los textos a minúsculas**"
   ]
  },
  {
   "cell_type": "markdown",
   "metadata": {},
   "source": [
    "*4.3.1 Pasar los textos a minúsculas los datos de entrenamiento*"
   ]
  },
  {
   "cell_type": "code",
   "execution_count": 116,
   "metadata": {},
   "outputs": [
    {
     "data": {
      "text/html": [
       "<div>\n",
       "<style scoped>\n",
       "    .dataframe tbody tr th:only-of-type {\n",
       "        vertical-align: middle;\n",
       "    }\n",
       "\n",
       "    .dataframe tbody tr th {\n",
       "        vertical-align: top;\n",
       "    }\n",
       "\n",
       "    .dataframe thead th {\n",
       "        text-align: right;\n",
       "    }\n",
       "</style>\n",
       "<table border=\"1\" class=\"dataframe\">\n",
       "  <thead>\n",
       "    <tr style=\"text-align: right;\">\n",
       "      <th></th>\n",
       "      <th>ID</th>\n",
       "      <th>Label</th>\n",
       "      <th>Titulo</th>\n",
       "      <th>Descripcion</th>\n",
       "      <th>Fecha</th>\n",
       "      <th>longitud_titulo</th>\n",
       "      <th>longitud_descripcion</th>\n",
       "      <th>año</th>\n",
       "    </tr>\n",
       "  </thead>\n",
       "  <tbody>\n",
       "    <tr>\n",
       "      <th>0</th>\n",
       "      <td>ID</td>\n",
       "      <td>1</td>\n",
       "      <td>'the guardian' va con sánchez: 'europa necesit...</td>\n",
       "      <td>el diario británico publicó este pasado jueves...</td>\n",
       "      <td>2023-02-06</td>\n",
       "      <td>77</td>\n",
       "      <td>218</td>\n",
       "      <td>2023.0</td>\n",
       "    </tr>\n",
       "    <tr>\n",
       "      <th>1</th>\n",
       "      <td>ID</td>\n",
       "      <td>0</td>\n",
       "      <td>revelan que el gobierno negocio la liberación ...</td>\n",
       "      <td>revelan que el gobierno negocio la liberación ...</td>\n",
       "      <td>2023-01-10</td>\n",
       "      <td>104</td>\n",
       "      <td>3251</td>\n",
       "      <td>2023.0</td>\n",
       "    </tr>\n",
       "    <tr>\n",
       "      <th>3</th>\n",
       "      <td>ID</td>\n",
       "      <td>1</td>\n",
       "      <td>iglesias alienta a yolanda díaz, erc y eh bild...</td>\n",
       "      <td>en política, igual que hay que negociar con lo...</td>\n",
       "      <td>2022-03-01</td>\n",
       "      <td>110</td>\n",
       "      <td>133</td>\n",
       "      <td>2022.0</td>\n",
       "    </tr>\n",
       "    <tr>\n",
       "      <th>4</th>\n",
       "      <td>ID</td>\n",
       "      <td>0</td>\n",
       "      <td>puigdemont: 'no sería ninguna tragedia una rep...</td>\n",
       "      <td>en una entrevista en el punt avui, el líder de...</td>\n",
       "      <td>2018-09-03</td>\n",
       "      <td>72</td>\n",
       "      <td>242</td>\n",
       "      <td>2018.0</td>\n",
       "    </tr>\n",
       "    <tr>\n",
       "      <th>9</th>\n",
       "      <td>ID</td>\n",
       "      <td>0</td>\n",
       "      <td>la 'ayusización' del bng: santiago abascal ins...</td>\n",
       "      <td>pablo santiago abascal planea vivir de las ren...</td>\n",
       "      <td>2021-10-05</td>\n",
       "      <td>109</td>\n",
       "      <td>232</td>\n",
       "      <td>2021.0</td>\n",
       "    </tr>\n",
       "  </tbody>\n",
       "</table>\n",
       "</div>"
      ],
      "text/plain": [
       "   ID  Label                                             Titulo  \\\n",
       "0  ID      1  'the guardian' va con sánchez: 'europa necesit...   \n",
       "1  ID      0  revelan que el gobierno negocio la liberación ...   \n",
       "3  ID      1  iglesias alienta a yolanda díaz, erc y eh bild...   \n",
       "4  ID      0  puigdemont: 'no sería ninguna tragedia una rep...   \n",
       "9  ID      0  la 'ayusización' del bng: santiago abascal ins...   \n",
       "\n",
       "                                         Descripcion      Fecha  \\\n",
       "0  el diario británico publicó este pasado jueves... 2023-02-06   \n",
       "1  revelan que el gobierno negocio la liberación ... 2023-01-10   \n",
       "3  en política, igual que hay que negociar con lo... 2022-03-01   \n",
       "4  en una entrevista en el punt avui, el líder de... 2018-09-03   \n",
       "9  pablo santiago abascal planea vivir de las ren... 2021-10-05   \n",
       "\n",
       "   longitud_titulo  longitud_descripcion     año  \n",
       "0               77                   218  2023.0  \n",
       "1              104                  3251  2023.0  \n",
       "3              110                   133  2022.0  \n",
       "4               72                   242  2018.0  \n",
       "9              109                   232  2021.0  "
      ]
     },
     "execution_count": 116,
     "metadata": {},
     "output_type": "execute_result"
    }
   ],
   "source": [
    "#Pasar a minúsculas los títulos\n",
    "df_entrenamiento['Titulo'] = df_entrenamiento['Titulo'].str.lower()\n",
    "df_entrenamiento.head()\n",
    "\n",
    "#Pasar a minúsculas las descripciones\n",
    "df_entrenamiento['Descripcion'] = df_entrenamiento['Descripcion'].str.lower()\n",
    "df_entrenamiento.head()"
   ]
  },
  {
   "cell_type": "markdown",
   "metadata": {},
   "source": [
    "*4.3.2 Pasar los textos a minúsculas los datos de prueba*"
   ]
  },
  {
   "cell_type": "code",
   "execution_count": 117,
   "metadata": {},
   "outputs": [
    {
     "data": {
      "text/html": [
       "<div>\n",
       "<style scoped>\n",
       "    .dataframe tbody tr th:only-of-type {\n",
       "        vertical-align: middle;\n",
       "    }\n",
       "\n",
       "    .dataframe tbody tr th {\n",
       "        vertical-align: top;\n",
       "    }\n",
       "\n",
       "    .dataframe thead th {\n",
       "        text-align: right;\n",
       "    }\n",
       "</style>\n",
       "<table border=\"1\" class=\"dataframe\">\n",
       "  <thead>\n",
       "    <tr style=\"text-align: right;\">\n",
       "      <th></th>\n",
       "      <th>ID</th>\n",
       "      <th>Titulo</th>\n",
       "      <th>Descripcion</th>\n",
       "      <th>Fecha</th>\n",
       "      <th>longitud_titulo</th>\n",
       "      <th>longitud_descripcion</th>\n",
       "      <th>año</th>\n",
       "    </tr>\n",
       "  </thead>\n",
       "  <tbody>\n",
       "    <tr>\n",
       "      <th>0</th>\n",
       "      <td>ID</td>\n",
       "      <td>la mesa del congreso censura un encuentro inte...</td>\n",
       "      <td>portavoces de ciudadanos, pnv, upn, psoe, unid...</td>\n",
       "      <td>2018-10-30</td>\n",
       "      <td>100</td>\n",
       "      <td>119</td>\n",
       "      <td>2018</td>\n",
       "    </tr>\n",
       "    <tr>\n",
       "      <th>1</th>\n",
       "      <td>ID</td>\n",
       "      <td>la brecha digital que dificulta el acceso de a...</td>\n",
       "      <td>no es la primera vez que los ciudadanos vulner...</td>\n",
       "      <td>2023-03-15</td>\n",
       "      <td>121</td>\n",
       "      <td>197</td>\n",
       "      <td>2023</td>\n",
       "    </tr>\n",
       "    <tr>\n",
       "      <th>2</th>\n",
       "      <td>ID</td>\n",
       "      <td>pp apremia al equo a presentar una propuesta d...</td>\n",
       "      <td>el partido morado reprocha que los socialistas...</td>\n",
       "      <td>2019-07-01</td>\n",
       "      <td>95</td>\n",
       "      <td>215</td>\n",
       "      <td>2019</td>\n",
       "    </tr>\n",
       "    <tr>\n",
       "      <th>3</th>\n",
       "      <td>ID</td>\n",
       "      <td>de soberano garante de la democracia a rey cor...</td>\n",
       "      <td>la renuncia de felipe vi a su herencia, proced...</td>\n",
       "      <td>2020-03-16</td>\n",
       "      <td>75</td>\n",
       "      <td>446</td>\n",
       "      <td>2020</td>\n",
       "    </tr>\n",
       "    <tr>\n",
       "      <th>4</th>\n",
       "      <td>ID</td>\n",
       "      <td>el gobierno aprobará este martes detraer los b...</td>\n",
       "      <td>el ejecutivo también prorrogará la suspensión ...</td>\n",
       "      <td>2021-09-13</td>\n",
       "      <td>132</td>\n",
       "      <td>343</td>\n",
       "      <td>2021</td>\n",
       "    </tr>\n",
       "  </tbody>\n",
       "</table>\n",
       "</div>"
      ],
      "text/plain": [
       "   ID                                             Titulo  \\\n",
       "0  ID  la mesa del congreso censura un encuentro inte...   \n",
       "1  ID  la brecha digital que dificulta el acceso de a...   \n",
       "2  ID  pp apremia al equo a presentar una propuesta d...   \n",
       "3  ID  de soberano garante de la democracia a rey cor...   \n",
       "4  ID  el gobierno aprobará este martes detraer los b...   \n",
       "\n",
       "                                         Descripcion      Fecha  \\\n",
       "0  portavoces de ciudadanos, pnv, upn, psoe, unid... 2018-10-30   \n",
       "1  no es la primera vez que los ciudadanos vulner... 2023-03-15   \n",
       "2  el partido morado reprocha que los socialistas... 2019-07-01   \n",
       "3  la renuncia de felipe vi a su herencia, proced... 2020-03-16   \n",
       "4  el ejecutivo también prorrogará la suspensión ... 2021-09-13   \n",
       "\n",
       "   longitud_titulo  longitud_descripcion   año  \n",
       "0              100                   119  2018  \n",
       "1              121                   197  2023  \n",
       "2               95                   215  2019  \n",
       "3               75                   446  2020  \n",
       "4              132                   343  2021  "
      ]
     },
     "execution_count": 117,
     "metadata": {},
     "output_type": "execute_result"
    }
   ],
   "source": [
    "#Pasar a minúsculas los títulos\n",
    "df_prueba['Titulo'] = df_prueba['Titulo'].str.lower()\n",
    "df_prueba.head()\n",
    "\n",
    "#Pasar a minúsculas las descripciones\n",
    "df_prueba['Descripcion'] = df_prueba['Descripcion'].str.lower()\n",
    "df_prueba.head()"
   ]
  },
  {
   "cell_type": "markdown",
   "metadata": {},
   "source": [
    "**4.4 Eliminar las puntuaciones**"
   ]
  },
  {
   "cell_type": "code",
   "execution_count": 118,
   "metadata": {},
   "outputs": [],
   "source": [
    "import string\n",
    "punc=string.punctuation\n",
    "\n",
    "def remove_punc(text):\n",
    "    return text.translate(str.maketrans('', '', punc))"
   ]
  },
  {
   "cell_type": "markdown",
   "metadata": {},
   "source": [
    "*4.4.1 Eliminar las puntuaciones de los datos de entrenamiento*"
   ]
  },
  {
   "cell_type": "code",
   "execution_count": 119,
   "metadata": {},
   "outputs": [
    {
     "data": {
      "text/html": [
       "<div>\n",
       "<style scoped>\n",
       "    .dataframe tbody tr th:only-of-type {\n",
       "        vertical-align: middle;\n",
       "    }\n",
       "\n",
       "    .dataframe tbody tr th {\n",
       "        vertical-align: top;\n",
       "    }\n",
       "\n",
       "    .dataframe thead th {\n",
       "        text-align: right;\n",
       "    }\n",
       "</style>\n",
       "<table border=\"1\" class=\"dataframe\">\n",
       "  <thead>\n",
       "    <tr style=\"text-align: right;\">\n",
       "      <th></th>\n",
       "      <th>ID</th>\n",
       "      <th>Label</th>\n",
       "      <th>Titulo</th>\n",
       "      <th>Descripcion</th>\n",
       "      <th>Fecha</th>\n",
       "      <th>longitud_titulo</th>\n",
       "      <th>longitud_descripcion</th>\n",
       "      <th>año</th>\n",
       "    </tr>\n",
       "  </thead>\n",
       "  <tbody>\n",
       "    <tr>\n",
       "      <th>0</th>\n",
       "      <td>ID</td>\n",
       "      <td>1</td>\n",
       "      <td>the guardian va con sánchez europa necesita qu...</td>\n",
       "      <td>el diario británico publicó este pasado jueves...</td>\n",
       "      <td>2023-02-06</td>\n",
       "      <td>77</td>\n",
       "      <td>218</td>\n",
       "      <td>2023.0</td>\n",
       "    </tr>\n",
       "    <tr>\n",
       "      <th>1</th>\n",
       "      <td>ID</td>\n",
       "      <td>0</td>\n",
       "      <td>revelan que el gobierno negocio la liberación ...</td>\n",
       "      <td>revelan que el gobierno negocio la liberación ...</td>\n",
       "      <td>2023-01-10</td>\n",
       "      <td>104</td>\n",
       "      <td>3251</td>\n",
       "      <td>2023.0</td>\n",
       "    </tr>\n",
       "    <tr>\n",
       "      <th>3</th>\n",
       "      <td>ID</td>\n",
       "      <td>1</td>\n",
       "      <td>iglesias alienta a yolanda díaz erc y eh bildu...</td>\n",
       "      <td>en política igual que hay que negociar con los...</td>\n",
       "      <td>2022-03-01</td>\n",
       "      <td>110</td>\n",
       "      <td>133</td>\n",
       "      <td>2022.0</td>\n",
       "    </tr>\n",
       "    <tr>\n",
       "      <th>4</th>\n",
       "      <td>ID</td>\n",
       "      <td>0</td>\n",
       "      <td>puigdemont no sería ninguna tragedia una repet...</td>\n",
       "      <td>en una entrevista en el punt avui el líder de ...</td>\n",
       "      <td>2018-09-03</td>\n",
       "      <td>72</td>\n",
       "      <td>242</td>\n",
       "      <td>2018.0</td>\n",
       "    </tr>\n",
       "    <tr>\n",
       "      <th>9</th>\n",
       "      <td>ID</td>\n",
       "      <td>0</td>\n",
       "      <td>la ayusización del bng santiago abascal instru...</td>\n",
       "      <td>pablo santiago abascal planea vivir de las ren...</td>\n",
       "      <td>2021-10-05</td>\n",
       "      <td>109</td>\n",
       "      <td>232</td>\n",
       "      <td>2021.0</td>\n",
       "    </tr>\n",
       "  </tbody>\n",
       "</table>\n",
       "</div>"
      ],
      "text/plain": [
       "   ID  Label                                             Titulo  \\\n",
       "0  ID      1  the guardian va con sánchez europa necesita qu...   \n",
       "1  ID      0  revelan que el gobierno negocio la liberación ...   \n",
       "3  ID      1  iglesias alienta a yolanda díaz erc y eh bildu...   \n",
       "4  ID      0  puigdemont no sería ninguna tragedia una repet...   \n",
       "9  ID      0  la ayusización del bng santiago abascal instru...   \n",
       "\n",
       "                                         Descripcion      Fecha  \\\n",
       "0  el diario británico publicó este pasado jueves... 2023-02-06   \n",
       "1  revelan que el gobierno negocio la liberación ... 2023-01-10   \n",
       "3  en política igual que hay que negociar con los... 2022-03-01   \n",
       "4  en una entrevista en el punt avui el líder de ... 2018-09-03   \n",
       "9  pablo santiago abascal planea vivir de las ren... 2021-10-05   \n",
       "\n",
       "   longitud_titulo  longitud_descripcion     año  \n",
       "0               77                   218  2023.0  \n",
       "1              104                  3251  2023.0  \n",
       "3              110                   133  2022.0  \n",
       "4               72                   242  2018.0  \n",
       "9              109                   232  2021.0  "
      ]
     },
     "execution_count": 119,
     "metadata": {},
     "output_type": "execute_result"
    }
   ],
   "source": [
    "#Elimnar signos de puntuación de los títulos\n",
    "df_entrenamiento['Titulo'] = df_entrenamiento['Titulo'].apply(lambda x: remove_punc(x))\n",
    "df_entrenamiento.head()\n",
    "\n",
    "#Elimnar signos de puntuación de las descripciones\n",
    "df_entrenamiento['Descripcion'] = df_entrenamiento['Descripcion'].apply(lambda x: remove_punc(x))\n",
    "df_entrenamiento.head()"
   ]
  },
  {
   "cell_type": "markdown",
   "metadata": {},
   "source": [
    "*4.4.2 Eliminar las puntuaciones de los datos de prueba*"
   ]
  },
  {
   "cell_type": "code",
   "execution_count": 120,
   "metadata": {},
   "outputs": [
    {
     "data": {
      "text/html": [
       "<div>\n",
       "<style scoped>\n",
       "    .dataframe tbody tr th:only-of-type {\n",
       "        vertical-align: middle;\n",
       "    }\n",
       "\n",
       "    .dataframe tbody tr th {\n",
       "        vertical-align: top;\n",
       "    }\n",
       "\n",
       "    .dataframe thead th {\n",
       "        text-align: right;\n",
       "    }\n",
       "</style>\n",
       "<table border=\"1\" class=\"dataframe\">\n",
       "  <thead>\n",
       "    <tr style=\"text-align: right;\">\n",
       "      <th></th>\n",
       "      <th>ID</th>\n",
       "      <th>Titulo</th>\n",
       "      <th>Descripcion</th>\n",
       "      <th>Fecha</th>\n",
       "      <th>longitud_titulo</th>\n",
       "      <th>longitud_descripcion</th>\n",
       "      <th>año</th>\n",
       "    </tr>\n",
       "  </thead>\n",
       "  <tbody>\n",
       "    <tr>\n",
       "      <th>0</th>\n",
       "      <td>ID</td>\n",
       "      <td>la mesa del congreso censura un encuentro inte...</td>\n",
       "      <td>portavoces de ciudadanos pnv upn psoe unidos p...</td>\n",
       "      <td>2018-10-30</td>\n",
       "      <td>100</td>\n",
       "      <td>119</td>\n",
       "      <td>2018</td>\n",
       "    </tr>\n",
       "    <tr>\n",
       "      <th>1</th>\n",
       "      <td>ID</td>\n",
       "      <td>la brecha digital que dificulta el acceso de a...</td>\n",
       "      <td>no es la primera vez que los ciudadanos vulner...</td>\n",
       "      <td>2023-03-15</td>\n",
       "      <td>121</td>\n",
       "      <td>197</td>\n",
       "      <td>2023</td>\n",
       "    </tr>\n",
       "    <tr>\n",
       "      <th>2</th>\n",
       "      <td>ID</td>\n",
       "      <td>pp apremia al equo a presentar una propuesta d...</td>\n",
       "      <td>el partido morado reprocha que los socialistas...</td>\n",
       "      <td>2019-07-01</td>\n",
       "      <td>95</td>\n",
       "      <td>215</td>\n",
       "      <td>2019</td>\n",
       "    </tr>\n",
       "    <tr>\n",
       "      <th>3</th>\n",
       "      <td>ID</td>\n",
       "      <td>de soberano garante de la democracia a rey cor...</td>\n",
       "      <td>la renuncia de felipe vi a su herencia procede...</td>\n",
       "      <td>2020-03-16</td>\n",
       "      <td>75</td>\n",
       "      <td>446</td>\n",
       "      <td>2020</td>\n",
       "    </tr>\n",
       "    <tr>\n",
       "      <th>4</th>\n",
       "      <td>ID</td>\n",
       "      <td>el gobierno aprobará este martes detraer los b...</td>\n",
       "      <td>el ejecutivo también prorrogará la suspensión ...</td>\n",
       "      <td>2021-09-13</td>\n",
       "      <td>132</td>\n",
       "      <td>343</td>\n",
       "      <td>2021</td>\n",
       "    </tr>\n",
       "  </tbody>\n",
       "</table>\n",
       "</div>"
      ],
      "text/plain": [
       "   ID                                             Titulo  \\\n",
       "0  ID  la mesa del congreso censura un encuentro inte...   \n",
       "1  ID  la brecha digital que dificulta el acceso de a...   \n",
       "2  ID  pp apremia al equo a presentar una propuesta d...   \n",
       "3  ID  de soberano garante de la democracia a rey cor...   \n",
       "4  ID  el gobierno aprobará este martes detraer los b...   \n",
       "\n",
       "                                         Descripcion      Fecha  \\\n",
       "0  portavoces de ciudadanos pnv upn psoe unidos p... 2018-10-30   \n",
       "1  no es la primera vez que los ciudadanos vulner... 2023-03-15   \n",
       "2  el partido morado reprocha que los socialistas... 2019-07-01   \n",
       "3  la renuncia de felipe vi a su herencia procede... 2020-03-16   \n",
       "4  el ejecutivo también prorrogará la suspensión ... 2021-09-13   \n",
       "\n",
       "   longitud_titulo  longitud_descripcion   año  \n",
       "0              100                   119  2018  \n",
       "1              121                   197  2023  \n",
       "2               95                   215  2019  \n",
       "3               75                   446  2020  \n",
       "4              132                   343  2021  "
      ]
     },
     "execution_count": 120,
     "metadata": {},
     "output_type": "execute_result"
    }
   ],
   "source": [
    "#Elimnar signos de puntuación de los títulos\n",
    "df_prueba['Titulo'] = df_prueba['Titulo'].apply(lambda x: remove_punc(x))\n",
    "df_prueba.head()\n",
    "\n",
    "#Elimnar signos de puntuación de las descripciones\n",
    "df_prueba['Descripcion'] = df_prueba['Descripcion'].apply(lambda x: remove_punc(x))\n",
    "df_prueba.head()"
   ]
  },
  {
   "cell_type": "markdown",
   "metadata": {},
   "source": [
    "**5 Selección de los modelos y preprocesamiento para estos**\n",
    "\n",
    "Los modelos que pueden ser útiles para identificar cuales noticias son falsas son los modelos de Naive Bayes, Regresión Logística, Random Forest, SVM y KNN"
   ]
  },
  {
   "cell_type": "code",
   "execution_count": 121,
   "metadata": {},
   "outputs": [
    {
     "name": "stdout",
     "output_type": "stream",
     "text": [
      "['C:\\\\Users\\\\danie/nltk_data', 'C:\\\\Program Files\\\\WindowsApps\\\\PythonSoftwareFoundation.Python.3.11_3.11.2544.0_x64__qbz5n2kfra8p0\\\\nltk_data', 'C:\\\\Program Files\\\\WindowsApps\\\\PythonSoftwareFoundation.Python.3.11_3.11.2544.0_x64__qbz5n2kfra8p0\\\\share\\\\nltk_data', 'C:\\\\Program Files\\\\WindowsApps\\\\PythonSoftwareFoundation.Python.3.11_3.11.2544.0_x64__qbz5n2kfra8p0\\\\lib\\\\nltk_data', 'C:\\\\Users\\\\danie\\\\AppData\\\\Roaming\\\\nltk_data', 'C:\\\\nltk_data', 'D:\\\\nltk_data', 'E:\\\\nltk_data']\n"
     ]
    }
   ],
   "source": [
    "import nltk\n",
    "print(nltk.data.path)\n"
   ]
  },
  {
   "cell_type": "code",
   "execution_count": 122,
   "metadata": {},
   "outputs": [
    {
     "name": "stderr",
     "output_type": "stream",
     "text": [
      "[nltk_data] Downloading package punkt to\n",
      "[nltk_data]     C:\\Users\\danie\\AppData\\Roaming\\nltk_data...\n",
      "[nltk_data]   Package punkt is already up-to-date!\n",
      "[nltk_data] Downloading package stopwords to\n",
      "[nltk_data]     C:\\Users\\danie\\AppData\\Roaming\\nltk_data...\n",
      "[nltk_data]   Unzipping corpora\\stopwords.zip.\n",
      "[nltk_data] Downloading package wordnet to\n",
      "[nltk_data]     C:\\Users\\danie\\AppData\\Roaming\\nltk_data...\n",
      "[nltk_data]   Package wordnet is already up-to-date!\n",
      "[nltk_data] Downloading package omw-1.4 to\n",
      "[nltk_data]     C:\\Users\\danie\\AppData\\Roaming\\nltk_data...\n",
      "[nltk_data]   Package omw-1.4 is already up-to-date!\n"
     ]
    },
    {
     "data": {
      "text/plain": [
       "True"
      ]
     },
     "execution_count": 122,
     "metadata": {},
     "output_type": "execute_result"
    }
   ],
   "source": [
    "\n",
    "nltk.download('punkt')\n",
    "nltk.download('stopwords')\n",
    "nltk.download('wordnet')\n",
    "nltk.download('omw-1.4')\n"
   ]
  },
  {
   "cell_type": "code",
   "execution_count": 123,
   "metadata": {},
   "outputs": [
    {
     "name": "stdout",
     "output_type": "stream",
     "text": [
      "{'fuesen', 'sentido', 'tengo', 'siente', 'estadas', 'tuviéramos', 'mío', 'estaremos', 'tenidas', 'mi', 'estos', 'sentid', 'tengamos', 'tenían', 'tuvimos', 'hubieseis', 'algunos', 'tanto', 'mis', 'quien', 'estemos', 'hayamos', 'tenemos', 'hubisteis', 'estarías', 'erais', 'fuimos', 'los', 'hayas', 'fuerais', 'una', 'se', 'hube', 'más', 'serías', 'habidos', 'estuvisteis', 'hubimos', 'habríamos', 'estaríamos', 'en', 'hubieses', 'todos', 'estuviera', 'quienes', 'me', 'estuviesen', 'uno', 'soy', 'fueras', 'antes', 'hay', 'sea', 'estuvimos', 'vuestra', 'hubiéramos', 'su', 'hubieras', 'este', 'tenía', 'estas', 'habéis', 'y', 'fuera', 'estén', 'habías', 'cual', 'será', 'estuvieses', 'tus', 'tendré', 'muchos', 'habré', 'fueran', 'estaría', 'ese', 'tendría', 'tenidos', 'también', 'estuviéramos', 'eras', 'tuve', 'hubo', 'eres', 'al', 'seremos', 'porque', 'esos', 'seas', 'otra', 'tuviese', 'haya', 'éramos', 'fueron', 'vuestro', 'o', 'estar', 'estabas', 'nos', 'tened', 'contra', 'tuvo', 'mías', 'hubiera', 'eso', 'somos', 'estado', 'tendríamos', 'suyas', 'habidas', 'habríais', 'hubieron', 'hayáis', 'habían', 'estarás', 'serían', 'fueseis', 'hayan', 'fuese', 'teníamos', 'tuviésemos', 'estáis', 'fueses', 'tu', 'ellas', 'ha', 'tuvisteis', 'sus', 'fuéramos', 'fui', 'habrían', 'le', 'estabais', 'míos', 'estaban', 'suyo', 'habido', 'hasta', 'estoy', 'esas', 'tuviera', 'sería', 'estuvo', 'tuvieron', 'estuve', 'estuviste', 'vosotras', 'habrías', 'ellos', 'para', 'tendrías', 'suyos', 'seáis', 'un', 'tuyas', 'sobre', 'mucho', 'estuvieras', 'estaré', 'había', 'era', 'eran', 'estaba', 'otros', 'nuestra', 'de', 'es', 'nosotros', 'tuvieran', 'estábamos', 'tendrá', 'fue', 'nuestras', 'desde', 'nosotras', 'el', 'hubiesen', 'por', 'tenéis', 'has', 'ante', 'algo', 'nuestro', 'habida', 'yo', 'habrá', 'tendrían', 'vuestras', 'habréis', 'estás', 'tuvieses', 'vuestros', 'serán', 'serás', 'nada', 'tuyos', 'sí', 'estaríais', 'tuviesen', 'he', 'él', 'habría', 'sentidas', 'habíamos', 'suya', 'nuestros', 'estamos', 'tengas', 'tenido', 'tenga', 'lo', 'mía', 'tenida', 'fuisteis', 'estarían', 'estando', 'está', 'hubiste', 'hubiese', 'donde', 'pero', 'tuyo', 'sois', 'otras', 'están', 'habiendo', 'son', 'sean', 'tuya', 'tengáis', 'del', 'sintiendo', 'os', 'les', 'han', 'vosotros', 'tuvieseis', 'tendremos', 'seríamos', 'estuviese', 'estéis', 'con', 'esta', 'tendríais', 'tendréis', 'todo', 'fuésemos', 'estuvieseis', 'estará', 'que', 'tenías', 'ti', 'poco', 'algunas', 'seréis', 'como', 'habrás', 'habremos', 'estados', 'tienes', 'sin', 'tienen', 'estuvierais', 'seré', 'qué', 'teníais', 'cuando', 'estad', 'habíais', 'fuiste', 'sentida', 'muy', 'estuvieran', 'e', 'ya', 'hubierais', 'tendrán', 'esté', 'hemos', 'mí', 'no', 'esa', 'hubieran', 'teniendo', 'unos', 'estaréis', 'ella', 'tengan', 'tuviste', 'estuvieron', 'otro', 'ni', 'estuviésemos', 'estada', 'estarán', 'hubiésemos', 'sentidos', 'estés', 'tuvieras', 'seríais', 'a', 'tiene', 'entre', 'durante', 'habrán', 'tuvierais', 'tú', 'te', 'tendrás', 'esto', 'la', 'seamos', 'las'}\n"
     ]
    },
    {
     "name": "stderr",
     "output_type": "stream",
     "text": [
      "[nltk_data] Downloading package stopwords to\n",
      "[nltk_data]     C:\\Users\\danie\\AppData\\Roaming\\nltk_data...\n",
      "[nltk_data]   Package stopwords is already up-to-date!\n"
     ]
    }
   ],
   "source": [
    "import nltk\n",
    "nltk.download('stopwords')\n",
    "from nltk.corpus import stopwords\n",
    "\n",
    "# Lista de StopWords en español\n",
    "stop_words = set(stopwords.words('spanish'))\n",
    "print(stop_words)"
   ]
  },
  {
   "cell_type": "markdown",
   "metadata": {},
   "source": [
    "**5.1 Tokenización de los datos**"
   ]
  },
  {
   "cell_type": "code",
   "execution_count": 124,
   "metadata": {},
   "outputs": [],
   "source": [
    "from nltk.tokenize import word_tokenize\n",
    "\n",
    "def tokenize(text):\n",
    "    tokens = word_tokenize(text)\n",
    "    return tokens\n"
   ]
  },
  {
   "cell_type": "markdown",
   "metadata": {},
   "source": [
    "**5.2 Lematización de los datos**"
   ]
  },
  {
   "cell_type": "code",
   "execution_count": 125,
   "metadata": {},
   "outputs": [],
   "source": [
    "def lematizar(tokens):\n",
    "    doc=nlp(\" \".join(tokens))\n",
    "    lemmas=[token.lemma_ for token in doc if token.text not in stop_words]\n",
    "    return lemmas"
   ]
  },
  {
   "cell_type": "markdown",
   "metadata": {},
   "source": [
    "**5.3 Aplicar el Procesamiento**"
   ]
  },
  {
   "cell_type": "code",
   "execution_count": 126,
   "metadata": {},
   "outputs": [],
   "source": [
    "def preprocesar(text):\n",
    "    tokens=tokenize(text)\n",
    "    lemmas=lematizar(tokens)\n",
    "    return \"\".join(lemmas)  "
   ]
  },
  {
   "cell_type": "markdown",
   "metadata": {},
   "source": [
    "*5.3.1 Procesamiento para los datos de entrenamiento*"
   ]
  },
  {
   "cell_type": "code",
   "execution_count": 127,
   "metadata": {},
   "outputs": [
    {
     "name": "stderr",
     "output_type": "stream",
     "text": [
      "[nltk_data] Downloading package punkt to\n",
      "[nltk_data]     C:\\Users\\danie\\AppData\\Roaming\\nltk_data...\n",
      "[nltk_data]   Package punkt is already up-to-date!\n"
     ]
    },
    {
     "name": "stdout",
     "output_type": "stream",
     "text": [
      "hasta aca funciono\n"
     ]
    },
    {
     "data": {
      "text/html": [
       "<div>\n",
       "<style scoped>\n",
       "    .dataframe tbody tr th:only-of-type {\n",
       "        vertical-align: middle;\n",
       "    }\n",
       "\n",
       "    .dataframe tbody tr th {\n",
       "        vertical-align: top;\n",
       "    }\n",
       "\n",
       "    .dataframe thead th {\n",
       "        text-align: right;\n",
       "    }\n",
       "</style>\n",
       "<table border=\"1\" class=\"dataframe\">\n",
       "  <thead>\n",
       "    <tr style=\"text-align: right;\">\n",
       "      <th></th>\n",
       "      <th>ID</th>\n",
       "      <th>Label</th>\n",
       "      <th>Titulo</th>\n",
       "      <th>Descripcion</th>\n",
       "      <th>Fecha</th>\n",
       "      <th>longitud_titulo</th>\n",
       "      <th>longitud_descripcion</th>\n",
       "      <th>año</th>\n",
       "      <th>Titulo_procesado</th>\n",
       "      <th>Descripcion_procesado</th>\n",
       "    </tr>\n",
       "  </thead>\n",
       "  <tbody>\n",
       "    <tr>\n",
       "      <th>0</th>\n",
       "      <td>ID</td>\n",
       "      <td>1</td>\n",
       "      <td>the guardian va con sánchez europa necesita qu...</td>\n",
       "      <td>el diario británico publicó este pasado jueves...</td>\n",
       "      <td>2023-02-06</td>\n",
       "      <td>77</td>\n",
       "      <td>218</td>\n",
       "      <td>2023.0</td>\n",
       "      <td>theguardiarirsánchezeuropanecesitarapuestadarf...</td>\n",
       "      <td>diariobritánicopublicarpasadojueveseditorialpr...</td>\n",
       "    </tr>\n",
       "    <tr>\n",
       "      <th>1</th>\n",
       "      <td>ID</td>\n",
       "      <td>0</td>\n",
       "      <td>revelan que el gobierno negocio la liberación ...</td>\n",
       "      <td>revelan que el gobierno negocio la liberación ...</td>\n",
       "      <td>2023-01-10</td>\n",
       "      <td>104</td>\n",
       "      <td>3251</td>\n",
       "      <td>2023.0</td>\n",
       "      <td>revelargobiernonegocioliberaciónmirelcambiooto...</td>\n",
       "      <td>revelargobiernonegocioliberaciónmirelcambiooto...</td>\n",
       "    </tr>\n",
       "    <tr>\n",
       "      <th>3</th>\n",
       "      <td>ID</td>\n",
       "      <td>1</td>\n",
       "      <td>iglesias alienta a yolanda díaz erc y eh bildu...</td>\n",
       "      <td>en política igual que hay que negociar con los...</td>\n",
       "      <td>2022-03-01</td>\n",
       "      <td>110</td>\n",
       "      <td>133</td>\n",
       "      <td>2022.0</td>\n",
       "      <td>iglesiaalentaryolandadíazercehbildunegociarrea...</td>\n",
       "      <td>políticaigualnegociarempresarionegociargrupopa...</td>\n",
       "    </tr>\n",
       "    <tr>\n",
       "      <th>4</th>\n",
       "      <td>ID</td>\n",
       "      <td>0</td>\n",
       "      <td>puigdemont no sería ninguna tragedia una repet...</td>\n",
       "      <td>en una entrevista en el punt avui el líder de ...</td>\n",
       "      <td>2018-09-03</td>\n",
       "      <td>72</td>\n",
       "      <td>242</td>\n",
       "      <td>2018.0</td>\n",
       "      <td>puigdemontningunotragediarepeticiónelección</td>\n",
       "      <td>entrevistapuntavuilíderjxcatdesdramatizarposib...</td>\n",
       "    </tr>\n",
       "    <tr>\n",
       "      <th>9</th>\n",
       "      <td>ID</td>\n",
       "      <td>0</td>\n",
       "      <td>la ayusización del bng santiago abascal instru...</td>\n",
       "      <td>pablo santiago abascal planea vivir de las ren...</td>\n",
       "      <td>2021-10-05</td>\n",
       "      <td>109</td>\n",
       "      <td>232</td>\n",
       "      <td>2021.0</td>\n",
       "      <td>ayusizaciónbngsantiagoabascalinstruirseguirest...</td>\n",
       "      <td>pablosantiagoabascalplanearvivirrentaarrollado...</td>\n",
       "    </tr>\n",
       "  </tbody>\n",
       "</table>\n",
       "</div>"
      ],
      "text/plain": [
       "   ID  Label                                             Titulo  \\\n",
       "0  ID      1  the guardian va con sánchez europa necesita qu...   \n",
       "1  ID      0  revelan que el gobierno negocio la liberación ...   \n",
       "3  ID      1  iglesias alienta a yolanda díaz erc y eh bildu...   \n",
       "4  ID      0  puigdemont no sería ninguna tragedia una repet...   \n",
       "9  ID      0  la ayusización del bng santiago abascal instru...   \n",
       "\n",
       "                                         Descripcion      Fecha  \\\n",
       "0  el diario británico publicó este pasado jueves... 2023-02-06   \n",
       "1  revelan que el gobierno negocio la liberación ... 2023-01-10   \n",
       "3  en política igual que hay que negociar con los... 2022-03-01   \n",
       "4  en una entrevista en el punt avui el líder de ... 2018-09-03   \n",
       "9  pablo santiago abascal planea vivir de las ren... 2021-10-05   \n",
       "\n",
       "   longitud_titulo  longitud_descripcion     año  \\\n",
       "0               77                   218  2023.0   \n",
       "1              104                  3251  2023.0   \n",
       "3              110                   133  2022.0   \n",
       "4               72                   242  2018.0   \n",
       "9              109                   232  2021.0   \n",
       "\n",
       "                                    Titulo_procesado  \\\n",
       "0  theguardiarirsánchezeuropanecesitarapuestadarf...   \n",
       "1  revelargobiernonegocioliberaciónmirelcambiooto...   \n",
       "3  iglesiaalentaryolandadíazercehbildunegociarrea...   \n",
       "4        puigdemontningunotragediarepeticiónelección   \n",
       "9  ayusizaciónbngsantiagoabascalinstruirseguirest...   \n",
       "\n",
       "                               Descripcion_procesado  \n",
       "0  diariobritánicopublicarpasadojueveseditorialpr...  \n",
       "1  revelargobiernonegocioliberaciónmirelcambiooto...  \n",
       "3  políticaigualnegociarempresarionegociargrupopa...  \n",
       "4  entrevistapuntavuilíderjxcatdesdramatizarposib...  \n",
       "9  pablosantiagoabascalplanearvivirrentaarrollado...  "
      ]
     },
     "execution_count": 127,
     "metadata": {},
     "output_type": "execute_result"
    }
   ],
   "source": [
    "import nltk\n",
    "nltk.download('punkt')\n",
    "\n",
    "# Procesar los títulos y descripciones\n",
    "df_entrenamiento['Titulo_procesado'] = df_entrenamiento['Titulo'].apply(preprocesar)\n",
    "print(\"hasta aca funciono\")\n",
    "df_entrenamiento['Descripcion_procesado'] = df_entrenamiento['Descripcion'].apply(preprocesar)\n",
    "\n",
    "df_entrenamiento.head()"
   ]
  },
  {
   "cell_type": "markdown",
   "metadata": {},
   "source": [
    "*5.3.2 Procesamiento de los datos de prueba* "
   ]
  },
  {
   "cell_type": "code",
   "execution_count": 128,
   "metadata": {},
   "outputs": [
    {
     "name": "stdout",
     "output_type": "stream",
     "text": [
      "hasta aca funciono\n"
     ]
    },
    {
     "data": {
      "text/html": [
       "<div>\n",
       "<style scoped>\n",
       "    .dataframe tbody tr th:only-of-type {\n",
       "        vertical-align: middle;\n",
       "    }\n",
       "\n",
       "    .dataframe tbody tr th {\n",
       "        vertical-align: top;\n",
       "    }\n",
       "\n",
       "    .dataframe thead th {\n",
       "        text-align: right;\n",
       "    }\n",
       "</style>\n",
       "<table border=\"1\" class=\"dataframe\">\n",
       "  <thead>\n",
       "    <tr style=\"text-align: right;\">\n",
       "      <th></th>\n",
       "      <th>ID</th>\n",
       "      <th>Titulo</th>\n",
       "      <th>Descripcion</th>\n",
       "      <th>Fecha</th>\n",
       "      <th>longitud_titulo</th>\n",
       "      <th>longitud_descripcion</th>\n",
       "      <th>año</th>\n",
       "      <th>Titulo_procesado</th>\n",
       "      <th>Descripcion_procesado</th>\n",
       "    </tr>\n",
       "  </thead>\n",
       "  <tbody>\n",
       "    <tr>\n",
       "      <th>0</th>\n",
       "      <td>ID</td>\n",
       "      <td>la mesa del congreso censura un encuentro inte...</td>\n",
       "      <td>portavoces de ciudadanos pnv upn psoe unidos p...</td>\n",
       "      <td>2018-10-30</td>\n",
       "      <td>100</td>\n",
       "      <td>119</td>\n",
       "      <td>2018</td>\n",
       "      <td>mesacongresocensurarencuentrointernacionalparl...</td>\n",
       "      <td>portavozciudadanopnvupnpsoeunidosppequodenunci...</td>\n",
       "    </tr>\n",
       "    <tr>\n",
       "      <th>1</th>\n",
       "      <td>ID</td>\n",
       "      <td>la brecha digital que dificulta el acceso de a...</td>\n",
       "      <td>no es la primera vez que los ciudadanos vulner...</td>\n",
       "      <td>2023-03-15</td>\n",
       "      <td>121</td>\n",
       "      <td>197</td>\n",
       "      <td>2023</td>\n",
       "      <td>brechadigitaldificultaraccesoayudapersonavulne...</td>\n",
       "      <td>primerovezciudadanovulnerabletoparobstáculohor...</td>\n",
       "    </tr>\n",
       "    <tr>\n",
       "      <th>2</th>\n",
       "      <td>ID</td>\n",
       "      <td>pp apremia al equo a presentar una propuesta d...</td>\n",
       "      <td>el partido morado reprocha que los socialistas...</td>\n",
       "      <td>2019-07-01</td>\n",
       "      <td>95</td>\n",
       "      <td>215</td>\n",
       "      <td>2019</td>\n",
       "      <td>ppapremiarequopresentarpropuestagobiernocritic...</td>\n",
       "      <td>partidomoradoreprocharsocialistaparalizadocong...</td>\n",
       "    </tr>\n",
       "    <tr>\n",
       "      <th>3</th>\n",
       "      <td>ID</td>\n",
       "      <td>de soberano garante de la democracia a rey cor...</td>\n",
       "      <td>la renuncia de felipe vi a su herencia procede...</td>\n",
       "      <td>2020-03-16</td>\n",
       "      <td>75</td>\n",
       "      <td>446</td>\n",
       "      <td>2020</td>\n",
       "      <td>soberanogarantedemocraciareycorruptoapartadode...</td>\n",
       "      <td>renunciafelipeverherenciaprocedentemultimillon...</td>\n",
       "    </tr>\n",
       "    <tr>\n",
       "      <th>4</th>\n",
       "      <td>ID</td>\n",
       "      <td>el gobierno aprobará este martes detraer los b...</td>\n",
       "      <td>el ejecutivo también prorrogará la suspensión ...</td>\n",
       "      <td>2021-09-13</td>\n",
       "      <td>132</td>\n",
       "      <td>343</td>\n",
       "      <td>2021</td>\n",
       "      <td>gobiernoaprobarmartesdetraerbeneficioextraordi...</td>\n",
       "      <td>ejecutivoprorrogacersuspensiónimpuestogeneraci...</td>\n",
       "    </tr>\n",
       "  </tbody>\n",
       "</table>\n",
       "</div>"
      ],
      "text/plain": [
       "   ID                                             Titulo  \\\n",
       "0  ID  la mesa del congreso censura un encuentro inte...   \n",
       "1  ID  la brecha digital que dificulta el acceso de a...   \n",
       "2  ID  pp apremia al equo a presentar una propuesta d...   \n",
       "3  ID  de soberano garante de la democracia a rey cor...   \n",
       "4  ID  el gobierno aprobará este martes detraer los b...   \n",
       "\n",
       "                                         Descripcion      Fecha  \\\n",
       "0  portavoces de ciudadanos pnv upn psoe unidos p... 2018-10-30   \n",
       "1  no es la primera vez que los ciudadanos vulner... 2023-03-15   \n",
       "2  el partido morado reprocha que los socialistas... 2019-07-01   \n",
       "3  la renuncia de felipe vi a su herencia procede... 2020-03-16   \n",
       "4  el ejecutivo también prorrogará la suspensión ... 2021-09-13   \n",
       "\n",
       "   longitud_titulo  longitud_descripcion   año  \\\n",
       "0              100                   119  2018   \n",
       "1              121                   197  2023   \n",
       "2               95                   215  2019   \n",
       "3               75                   446  2020   \n",
       "4              132                   343  2021   \n",
       "\n",
       "                                    Titulo_procesado  \\\n",
       "0  mesacongresocensurarencuentrointernacionalparl...   \n",
       "1  brechadigitaldificultaraccesoayudapersonavulne...   \n",
       "2  ppapremiarequopresentarpropuestagobiernocritic...   \n",
       "3  soberanogarantedemocraciareycorruptoapartadode...   \n",
       "4  gobiernoaprobarmartesdetraerbeneficioextraordi...   \n",
       "\n",
       "                               Descripcion_procesado  \n",
       "0  portavozciudadanopnvupnpsoeunidosppequodenunci...  \n",
       "1  primerovezciudadanovulnerabletoparobstáculohor...  \n",
       "2  partidomoradoreprocharsocialistaparalizadocong...  \n",
       "3  renunciafelipeverherenciaprocedentemultimillon...  \n",
       "4  ejecutivoprorrogacersuspensiónimpuestogeneraci...  "
      ]
     },
     "execution_count": 128,
     "metadata": {},
     "output_type": "execute_result"
    }
   ],
   "source": [
    "\n",
    "\n",
    "# Procesar los títulos y descripciones\n",
    "df_prueba['Titulo_procesado'] = df_prueba['Titulo'].apply(preprocesar)\n",
    "print(\"hasta aca funciono\")\n",
    "df_prueba['Descripcion_procesado'] = df_prueba['Descripcion'].apply(preprocesar)\n",
    "\n",
    "df_prueba.head()"
   ]
  },
  {
   "cell_type": "markdown",
   "metadata": {},
   "source": [
    "*5.3.3 Unir el título y descripción de los datos de entrenamiento ya procesados*"
   ]
  },
  {
   "cell_type": "code",
   "execution_count": 129,
   "metadata": {},
   "outputs": [],
   "source": [
    "textos_entrenamiento = df_entrenamiento['Titulo_procesado'] + \" \" + df_entrenamiento['Descripcion_procesado']\n"
   ]
  },
  {
   "cell_type": "markdown",
   "metadata": {},
   "source": [
    "*5.3.4 Unir el título y descripción de los datos de prueba ya procesados*"
   ]
  },
  {
   "cell_type": "code",
   "execution_count": 130,
   "metadata": {},
   "outputs": [],
   "source": [
    "textos_prueba = df_prueba['Titulo_procesado'] + \" \" + df_prueba['Descripcion_procesado']\n",
    "\n"
   ]
  },
  {
   "cell_type": "markdown",
   "metadata": {},
   "source": [
    "**5.4 Vectorización de los datos para los modelos**"
   ]
  },
  {
   "cell_type": "markdown",
   "metadata": {},
   "source": [
    "*5.4.1 Vectorización con BoW para los modelos de Naive Bayes, Random Forest y Regresión Logística*"
   ]
  },
  {
   "cell_type": "code",
   "execution_count": 131,
   "metadata": {},
   "outputs": [],
   "source": [
    "from sklearn.feature_extraction.text import CountVectorizer\n"
   ]
  },
  {
   "cell_type": "markdown",
   "metadata": {},
   "source": [
    "*5.4.1-1 Vectorización para los datos de entrenamiento*"
   ]
  },
  {
   "cell_type": "code",
   "execution_count": 132,
   "metadata": {},
   "outputs": [],
   "source": [
    "vectorizador_bow=CountVectorizer() \n",
    "\n",
    "x_bow=vectorizador_bow.fit_transform(textos_entrenamiento)"
   ]
  },
  {
   "cell_type": "markdown",
   "metadata": {},
   "source": [
    "*5.4.2 TF-IDF sin IDF para Naive Bayes*"
   ]
  },
  {
   "cell_type": "code",
   "execution_count": 133,
   "metadata": {},
   "outputs": [],
   "source": [
    "from sklearn.feature_extraction.text import TfidfVectorizer\n"
   ]
  },
  {
   "cell_type": "markdown",
   "metadata": {},
   "source": [
    "*5.4.2-1 TF-IDF para los datos de entrenamiento*"
   ]
  },
  {
   "cell_type": "code",
   "execution_count": 134,
   "metadata": {},
   "outputs": [],
   "source": [
    "vectorizador_tfidf_nb=TfidfVectorizer(use_idf=False)\n",
    "x_entr_tfidf_nb=vectorizador_tfidf_nb.fit_transform(textos_entrenamiento)"
   ]
  },
  {
   "cell_type": "markdown",
   "metadata": {},
   "source": [
    "*5.4.3 TF-IDF para SVM y KNN*"
   ]
  },
  {
   "cell_type": "markdown",
   "metadata": {},
   "source": [
    "*5.4.3-1 TF-IDF para los datos de entrenamiento*"
   ]
  },
  {
   "cell_type": "code",
   "execution_count": 135,
   "metadata": {},
   "outputs": [],
   "source": [
    "vectorizador_idf=TfidfVectorizer(use_idf=True)\n",
    "x_entr_idf=vectorizador_idf.fit_transform(textos_entrenamiento)"
   ]
  },
  {
   "cell_type": "markdown",
   "metadata": {},
   "source": [
    "**5.5 Convertir a DataFrame para inspección**"
   ]
  },
  {
   "cell_type": "markdown",
   "metadata": {},
   "source": [
    "*5.5.1 Convertir para los datos de entrenamiento*"
   ]
  },
  {
   "cell_type": "code",
   "execution_count": 136,
   "metadata": {},
   "outputs": [],
   "source": [
    "df_bow_entrenamiento=pd.DataFrame(x_bow.toarray(), columns=vectorizador_bow.get_feature_names_out())\n",
    "df_idf_nb_entrenamiento=pd.DataFrame(x_entr_tfidf_nb.toarray(), columns=vectorizador_tfidf_nb.get_feature_names_out())\n",
    "df_idf_entrenamiento=pd.DataFrame(x_entr_idf.toarray(), columns=vectorizador_idf.get_feature_names_out())\n",
    "\n"
   ]
  },
  {
   "cell_type": "markdown",
   "metadata": {},
   "source": [
    "**5.6 Revisión de Resultados**"
   ]
  },
  {
   "cell_type": "markdown",
   "metadata": {},
   "source": [
    "*Revisión de los datos de entrenamiento*"
   ]
  },
  {
   "cell_type": "code",
   "execution_count": 137,
   "metadata": {},
   "outputs": [
    {
     "name": "stdout",
     "output_type": "stream",
     "text": [
      "Ejemplo de texto original:\n",
      " the guardian va con sánchez europa necesita que su apuesta dé sus frutos\n",
      "\n",
      "Texto procesado:\n",
      " theguardiarirsánchezeuropanecesitarapuestadarfruto\n",
      "\n",
      "Ejemplo de tokens después de tokenización y lematización:\n",
      " ['the', 'guardiar', 'ir', 'sánchez', 'europa', 'necesitar', 'apuesta', 'dar', 'fruto']\n",
      "\n",
      "BoW shape: (21613, 42040)\n"
     ]
    }
   ],
   "source": [
    "print(\"Ejemplo de texto original:\\n\", df_entrenamiento['Titulo'].iloc[0])\n",
    "print(\"\\nTexto procesado:\\n\", df_entrenamiento['Titulo_procesado'].iloc[0])\n",
    "print(\"\\nEjemplo de tokens después de tokenización y lematización:\\n\", lematizar(tokenize(df_entrenamiento['Titulo'].iloc[0])))\n",
    "\n",
    "print(\"\\nBoW shape:\", x_bow.shape)\n"
   ]
  },
  {
   "cell_type": "code",
   "execution_count": null,
   "metadata": {},
   "outputs": [],
   "source": []
  }
 ],
 "metadata": {
  "kernelspec": {
   "display_name": "Python 3",
   "language": "python",
   "name": "python3"
  },
  "language_info": {
   "codemirror_mode": {
    "name": "ipython",
    "version": 3
   },
   "file_extension": ".py",
   "mimetype": "text/x-python",
   "name": "python",
   "nbconvert_exporter": "python",
   "pygments_lexer": "ipython3",
   "version": "3.11.9"
  }
 },
 "nbformat": 4,
 "nbformat_minor": 2
}
